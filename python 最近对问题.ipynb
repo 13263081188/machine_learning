{
 "cells": [
  {
   "cell_type": "code",
   "execution_count": 16,
   "metadata": {},
   "outputs": [
    {
     "name": "stdout",
     "output_type": "stream",
     "text": [
      "[680, 696] [774, 824]\n",
      "优化算法 [[(680, 774), (696, 824)], 52.49761899362675]\n"
     ]
    },
    {
     "data": {
      "image/png": "[encoded data removed]",
      "text/plain": [
       "<Figure size 432x288 with 1 Axes>"
      ]
     },
     "metadata": {
      "needs_background": "light"
     },
     "output_type": "display_data"
    }
   ],
   "source": [
    "#求出平面中距离最近的点对（若存在多对，仅需求出一对）\n",
    "import random\n",
    "import math\n",
    "import matplotlib.pyplot as plt\n",
    "#计算两点的距离\n",
    "def calDis(seq):\n",
    "    dis=math.sqrt((seq[0][0]-seq[1][0])**2+(seq[0][1]-seq[1][1])**2)\n",
    "    return dis\n",
    "\n",
    "#生成器：生成横跨跨两个点集的候选点\n",
    "def candidateDot(u,right,dis,med_x):\n",
    "    cnt=0\n",
    "    #遍历right（已按横坐标升序排序）。若横坐标小于med_x-dis则进入下一次循环；若横坐标大于med_x+dis则跳出循环；若点的纵坐标好是否落在在[u[1]-dis,u[1]+dis]，则返回这个点\n",
    "    for v in right:\n",
    "        if v[0]<med_x-dis:\n",
    "           # print('left')\n",
    "            continue\n",
    "        if v[0]>med_x+dis:\n",
    "           # print('right')\n",
    "            break\n",
    "        cnt=cnt+1\n",
    "        if v[1]>=u[1]-dis and v[1]<=u[1]+dis:\n",
    "            #print(cnt)\n",
    "            yield v\n",
    "   \n",
    "#求出横跨两个部分的点的最小距离\n",
    "def combine(left,right,resMin,med_x):\n",
    "    dis=resMin[1]\n",
    "    minDis=resMin[1]\n",
    "    pair=resMin[0]\n",
    "    for u in left:\n",
    "        if u[0]<med_x-dis:\n",
    "            continue\n",
    "        #print(\"out\")\n",
    "        for v in candidateDot(u,right,dis,med_x):\n",
    "            #print(v)\n",
    "            dis=calDis([u,v])\n",
    "            if dis<minDis:\n",
    "                minDis=dis\n",
    "                pair=[u,v]\n",
    "    return [pair,minDis]\n",
    "#分治求解\n",
    "def divide(seq):\n",
    "    #求序列元素数量\n",
    "    n=len(seq)\n",
    "    #按点的纵坐标升序排序\n",
    "    seq=sorted(seq)\n",
    "    #递归开始进行\n",
    "    if n<=1:\n",
    "        return None,float('inf')\n",
    "    elif n==2:\n",
    "        return [seq,calDis(seq)]\n",
    "    else:\n",
    "        half=int(len(seq)/2)\n",
    "        med_x=(seq[half][0]+seq[-half-1][0])/2\n",
    "        left=seq[:half]    \n",
    "        resLeft=divide(left)\n",
    "        right=seq[half:]\n",
    "        resRight=divide(right)\n",
    "        #获取两集合中距离最短的点对\n",
    "        if resLeft[1]<resRight[1]:\n",
    "            resMin=combine(left,right,resLeft,med_x)\n",
    "        else:\n",
    "            resMin=combine(left,right,resRight,med_x)\n",
    "        pair=resMin[0]\n",
    "        minDis=resMin[1]\n",
    "    return [pair,minDis]   \n",
    "def ret_x(seq):\n",
    "    return seq[0]\n",
    "def ret_y(seq):\n",
    "    return seq[1]\n",
    "seq=[(random.randint(0,1000),random.randint(0,1000)) for x in range(20)]\n",
    "seq=sorted(seq,key=ret_x)#对所有点按照横坐标排序\n",
    "seq_x=[]\n",
    "seq_y=[]\n",
    "for i in seq:\n",
    "    seq_x.append(i[0])\n",
    "    seq_y.append(i[1])\n",
    "plt.scatter(seq_x,seq_y,marker=(9, 1, 30))\n",
    "last=divide(seq)\n",
    "print([last[0][0][0],last[0][1][0]],[last[0][0][1],last[0][1][1]])\n",
    "plt.scatter([last[0][0][0],last[0][1][0]],[last[0][0][1],last[0][1][1]],color='y',marker=(9, 2, 30))\n",
    "plt.plot([last[0][0][0],last[0][1][0]],[last[0][0][1],last[0][1][1]],color='r')\n",
    "print(\"优化算法\",last)"
   ]
  },
  {
   "cell_type": "code",
   "execution_count": 9,
   "metadata": {},
   "outputs": [],
   "source": []
  },
  {
   "cell_type": "code",
   "execution_count": null,
   "metadata": {},
   "outputs": [],
   "source": []
  }
 ],
 "metadata": {
  "kernelspec": {
   "display_name": "Python 3",
   "language": "python",
   "name": "python3"
  },
  "language_info": {
   "codemirror_mode": {
    "name": "ipython",
    "version": 3
   },
   "file_extension": ".py",
   "mimetype": "text/x-python",
   "name": "python",
   "nbconvert_exporter": "python",
   "pygments_lexer": "ipython3",
   "version": "3.7.0"
  }
 },
 "nbformat": 4,
 "nbformat_minor": 2
}
