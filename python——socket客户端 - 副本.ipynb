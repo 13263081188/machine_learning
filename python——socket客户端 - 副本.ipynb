{
 "cells": [
  {
   "cell_type": "markdown",
   "metadata": {},
   "source": [
    "# 登录窗口生成"
   ]
  },
  {
   "cell_type": "code",
   "execution_count": 1,
   "metadata": {},
   "outputs": [],
   "source": [
    "import wx\n",
    "import telnetlib\n",
    "from time import sleep\n",
    "import _thread as thread\n",
    "\n",
    "class LoginFrame(wx.Frame):\n",
    "    \"\"\"\n",
    "    登录窗口\n",
    "    \"\"\"\n",
    "    def __init__(self, parent, id, title, size):\n",
    "        # 初始化，添加控件并绑定事件\n",
    "        wx.Frame.__init__(self, parent, id, title)\n",
    "        self.SetSize(size)\n",
    "        self.Center()\n",
    "        self.serverAddressLabel = wx.StaticText(self, label=\"Server Address\", pos=(10, 50), size=(120, 25))\n",
    "        self.userNameLabel = wx.StaticText(self, label=\"UserName\", pos=(40, 100), size=(120, 25))\n",
    "        self.serverAddress = wx.TextCtrl(self, pos=(120, 47), size=(150, 25))\n",
    "        self.userName = wx.TextCtrl(self, pos=(120, 97), size=(150, 25))\n",
    "        self.loginButton = wx.Button(self, label='Login', pos=(80, 145), size=(130, 30))\n",
    "        # 绑定登录方法\n",
    "        self.loginButton.Bind(wx.EVT_BUTTON, self.login)\n",
    "        self.Show()\n",
    "\n",
    "    def login(self, event):\n",
    "        # 登录处理\n",
    "        try:\n",
    "            serverAddress = self.serverAddress.GetLineText(0).split(':')\n",
    "            con.open(serverAddress[0], port=int(serverAddress[1]), timeout=10)\n",
    "            response = con.read_some()\n",
    "            if response != b'Connect Success':\n",
    "                self.showDialog('Error', 'Connect Fail!', (200, 100))\n",
    "                return\n",
    "            con.write(('login ' + str(self.userName.GetLineText(0)) + '\\n').encode(\"utf-8\"))\n",
    "            response = con.read_some()\n",
    "            if response == b'UserName Empty':\n",
    "                self.showDialog('Error', 'UserName Empty!', (200, 100))\n",
    "            elif response == b'UserName Exist':\n",
    "                self.showDialog('Error', 'UserName Exist!', (200, 100))\n",
    "            else:\n",
    "                self.Close()\n",
    "                ChatFrame(None, 2, title='ShiYanLou Chat Client', size=(500, 400))\n",
    "        except Exception:\n",
    "            self.showDialog('Error', 'Connect Fail!', (95, 20))\n",
    "\n",
    "    def showDialog(self, title, content, size):\n",
    "        # 显示错误信息对话框\n",
    "        dialog = wx.Dialog(self, title=title, size=size)\n",
    "        dialog.Center()\n",
    "        wx.StaticText(dialog, label=content)\n",
    "        dialog.ShowModal()"
   ]
  },
  {
   "cell_type": "markdown",
   "metadata": {},
   "source": [
    "# 聊天窗口生成"
   ]
  },
  {
   "cell_type": "code",
   "execution_count": 2,
   "metadata": {},
   "outputs": [],
   "source": [
    "class ChatFrame(wx.Frame):\n",
    "    \"\"\"\n",
    "    聊天窗口\n",
    "    \"\"\"\n",
    "\n",
    "    def __init__(self, parent, id, title, size):\n",
    "        # 初始化，添加控件并绑定事件\n",
    "        wx.Frame.__init__(self, parent, id, title)\n",
    "        self.SetSize(size)\n",
    "        self.Center()\n",
    "        self.chatFrame = wx.TextCtrl(self, pos=(5, 5), size=(490, 310), style=wx.TE_MULTILINE | wx.TE_READONLY)\n",
    "        self.message = wx.TextCtrl(self, pos=(5, 320), size=(300, 25))\n",
    "        self.sendButton = wx.Button(self, label=\"Send\", pos=(310, 320), size=(58, 25))\n",
    "        self.usersButton = wx.Button(self, label=\"Users\", pos=(373, 320), size=(58, 25))\n",
    "        self.closeButton = wx.Button(self, label=\"Close\", pos=(436, 320), size=(58, 25))\n",
    "        # 发送按钮绑定发送消息方法\n",
    "        self.sendButton.Bind(wx.EVT_BUTTON, self.send)\n",
    "        # Users按钮绑定获取在线用户数量方法\n",
    "        self.usersButton.Bind(wx.EVT_BUTTON, self.lookUsers)\n",
    "        # 关闭按钮绑定关闭方法\n",
    "        self.closeButton.Bind(wx.EVT_BUTTON, self.close)\n",
    "        thread.start_new_thread(self.receive, ())\n",
    "        self.Show()\n",
    "\n",
    "    def send(self, event):\n",
    "        # 发送消息\n",
    "        message = str(self.message.GetLineText(0)).strip()\n",
    "        if message != '':\n",
    "            con.write(('say ' + message + '\\n').encode(\"utf-8\"))\n",
    "            self.message.Clear()\n",
    "\n",
    "    def lookUsers(self, event):\n",
    "        # 查看当前在线用户\n",
    "        con.write(b'look\\n')\n",
    "\n",
    "    def close(self, event):\n",
    "        # 关闭窗口\n",
    "        con.write(b'logout\\n')\n",
    "        con.close()\n",
    "        self.Close()\n",
    "\n",
    "    def receive(self):\n",
    "        # 接受服务器的消息\n",
    "        while True:\n",
    "            sleep(0.6)\n",
    "            result = con.read_very_eager()\n",
    "            if result != '':\n",
    "                self.chatFrame.AppendText(result)"
   ]
  },
  {
   "cell_type": "code",
   "execution_count": 3,
   "metadata": {},
   "outputs": [
    {
     "name": "stderr",
     "output_type": "stream",
     "text": [
      "Unhandled exception in thread started by <bound method ChatFrame.receive of <__main__.ChatFrame object at 0x000001C3C3A03DC8>>\n"
     ]
    }
   ],
   "source": [
    "\n",
    "\n",
    "if __name__ == '__main__':\n",
    "    app = wx.App()\n",
    "    con = telnetlib.Telnet()\n",
    "    LoginFrame(None, -1, title=\"Login\", size=(320, 250))\n",
    "    app.MainLoop()\n",
    "\n"
   ]
  }
 ],
 "metadata": {
  "kernelspec": {
   "display_name": "Python 3",
   "language": "python",
   "name": "python3"
  },
  "language_info": {
   "codemirror_mode": {
    "name": "ipython",
    "version": 3
   },
   "file_extension": ".py",
   "mimetype": "text/x-python",
   "name": "python",
   "nbconvert_exporter": "python",
   "pygments_lexer": "ipython3",
   "version": "3.7.0"
  }
 },
 "nbformat": 4,
 "nbformat_minor": 2
}
