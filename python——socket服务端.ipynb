{
 "cells": [
  {
   "cell_type": "markdown",
   "metadata": {
    "slideshow": {
     "slide_type": "notes"
    }
   },
   "source": [
    "# ChatServer 类 - 套接字处理"
   ]
  },
  {
   "cell_type": "code",
   "execution_count": 1,
   "metadata": {},
   "outputs": [],
   "source": [
    "import asynchat\n",
    "import asyncore\n",
    "\n",
    "\n",
    "# 定义端口\n",
    "PORT = 6666\n",
    "\n",
    "# 定义结束异常类\n",
    "class EndSession(Exception):\n",
    "    pass\n",
    "\n",
    "\n",
    "class ChatServer(asyncore.dispatcher):\n",
    "    \"\"\"\n",
    "    聊天服务器\n",
    "    \"\"\"\n",
    "\n",
    "    def __init__(self, port):\n",
    "        asyncore.dispatcher.__init__(self)\n",
    "        # 创建socket\n",
    "        self.create_socket()\n",
    "        # 设置 socket 为可重用\n",
    "        self.set_reuse_addr()\n",
    "        # 监听端口\n",
    "        self.bind(('', port))\n",
    "        self.listen(5)\n",
    "        self.users = {'123'}\n",
    "        self.main_room = ChatRoom(self)\n",
    "\n",
    "    def handle_accept(self):\n",
    "        conn, addr = self.accept()\n",
    "        ChatSession(self, conn)"
   ]
  },
  {
   "cell_type": "markdown",
   "metadata": {},
   "source": [
    "# ChatSession 类 - 会话处理"
   ]
  },
  {
   "cell_type": "code",
   "execution_count": 2,
   "metadata": {},
   "outputs": [],
   "source": [
    "class ChatSession(asynchat.async_chat):\n",
    "    \"\"\"\n",
    "    负责和客户端通信\n",
    "    \"\"\"\n",
    "\n",
    "    def __init__(self, server, sock):\n",
    "        asynchat.async_chat.__init__(self, sock)\n",
    "        self.server = server\n",
    "        self.set_terminator(b'\\n')\n",
    "        self.data = []\n",
    "        self.name = None\n",
    "        self.enter(LoginRoom(server))\n",
    "\n",
    "    def enter(self, room):\n",
    "        # 从当前房间移除自身，然后添加到指定房间\n",
    "        try:\n",
    "            cur = self.room\n",
    "        except AttributeError:\n",
    "            pass\n",
    "        else:\n",
    "            cur.remove(self)\n",
    "        self.room = room\n",
    "        room.add(self)\n",
    "\n",
    "    def collect_incoming_data(self, data):\n",
    "        # 接收客户端的数据\n",
    "        self.data.append(data.decode(\"utf-8\"))\n",
    "\n",
    "    def found_terminator(self):\n",
    "        # 当客户端的一条数据结束时的处理\n",
    "        line = ''.join(self.data)\n",
    "        self.data = []\n",
    "        try:\n",
    "            self.room.handle(self, line.encode(\"utf-8\"))\n",
    "        # 退出聊天室的处理\n",
    "        except EndSession:\n",
    "            self.handle_close()\n",
    "\n",
    "    def handle_close(self):\n",
    "        # 当 session 关闭时，将进入 LogoutRoom\n",
    "        asynchat.async_chat.handle_close(self)\n",
    "        self.enter(LogoutRoom(self.server))"
   ]
  },
  {
   "cell_type": "markdown",
   "metadata": {},
   "source": [
    "# CommandHandler 类 - 命令处理"
   ]
  },
  {
   "cell_type": "code",
   "execution_count": 3,
   "metadata": {},
   "outputs": [],
   "source": [
    "class CommandHandler:\n",
    "    \"\"\"\n",
    "    命令处理类\n",
    "    \"\"\"\n",
    "\n",
    "    def unknown(self, session, cmd):\n",
    "        # 响应未知命令\n",
    "        # 通过 asynchat.async_chat.push 方法发送消息\n",
    "        session.push(('Unknown command {} \\n'.format(cmd)).encode(\"utf-8\"))\n",
    "\n",
    "    def handle(self, session, line):\n",
    "        line = line.decode()\n",
    "        # 命令处理\n",
    "        if not line.strip():\n",
    "            return\n",
    "        parts = line.split(' ', 1)\n",
    "        cmd = parts[0]\n",
    "        try:\n",
    "            line = parts[1].strip()\n",
    "        except IndexError:\n",
    "            line = ''\n",
    "        # 通过协议代码执行相应的方法\n",
    "        method = getattr(self, 'do_' + cmd, None)\n",
    "        try:\n",
    "            method(session, line)\n",
    "        except TypeError:\n",
    "            self.unknown(session, cmd)"
   ]
  },
  {
   "cell_type": "markdown",
   "metadata": {},
   "source": [
    "# Room 类 - 初始 聊天室基类"
   ]
  },
  {
   "cell_type": "code",
   "execution_count": 4,
   "metadata": {},
   "outputs": [],
   "source": [
    "class Room(CommandHandler):\n",
    "    \"\"\"\n",
    "    包含多个用户的环境，负责基本的命令处理和广播\n",
    "    \"\"\"\n",
    "\n",
    "    def __init__(self, server):\n",
    "        self.server = server\n",
    "        self.sessions = []\n",
    "\n",
    "    def add(self, session):\n",
    "        # 一个用户进入房间\n",
    "        self.sessions.append(session)\n",
    "\n",
    "    def remove(self, session):\n",
    "        # 一个用户离开房间\n",
    "        self.sessions.remove(session)\n",
    "\n",
    "    def broadcast(self, line):\n",
    "        # 向所有的用户发送指定消息\n",
    "        # 使用 asynchat.asyn_chat.push 方法发送数据\n",
    "        for session in self.sessions:\n",
    "            session.push(line)\n",
    "\n",
    "    def do_logout(self, session, line):\n",
    "        # 退出房间\n",
    "        raise EndSession"
   ]
  },
  {
   "cell_type": "markdown",
   "metadata": {},
   "source": [
    "# LoginRoom 类 - 用户登录处理"
   ]
  },
  {
   "cell_type": "code",
   "execution_count": 5,
   "metadata": {},
   "outputs": [],
   "source": [
    "class LoginRoom(Room):\n",
    "    \"\"\"\n",
    "    处理登录用户\n",
    "    \"\"\"\n",
    "    \n",
    "    def add(self, session):\n",
    "        # 用户连接成功的回应\n",
    "        Room.add(self, session)\n",
    "        # 使用 asynchat.asyn_chat.push 方法发送数据\n",
    "        session.push(b'Connect Success')\n",
    "\n",
    "    def do_login(self, session, line):\n",
    "        # 用户登录逻辑\n",
    "        name = line.strip()\n",
    "        # 获取用户名称\n",
    "        if not name:\n",
    "            session.push(b'UserName Empty')\n",
    "        # 检查是否有同名用户\n",
    "        elif name in self.server.users:\n",
    "            session.push(b'UserName Exist')\n",
    "        # 用户名检查成功后，进入主聊天室\n",
    "        else:\n",
    "            session.name = name\n",
    "            session.enter(self.server.main_room)"
   ]
  },
  {
   "cell_type": "markdown",
   "metadata": {},
   "source": [
    "# Loginout 类 - 退出聊天室处理"
   ]
  },
  {
   "cell_type": "code",
   "execution_count": 6,
   "metadata": {},
   "outputs": [],
   "source": [
    "class LogoutRoom(Room):\n",
    "    \"\"\"\n",
    "    处理退出用户\n",
    "    \"\"\"\n",
    "\n",
    "    def add(self, session):\n",
    "        # 从服务器中移除\n",
    "        try:\n",
    "            del self.server.users[session.name]\n",
    "        except KeyError:\n",
    "            pass"
   ]
  },
  {
   "cell_type": "markdown",
   "metadata": {},
   "source": [
    "# ChatRoom 类 - 聊天处理"
   ]
  },
  {
   "cell_type": "code",
   "execution_count": 7,
   "metadata": {},
   "outputs": [],
   "source": [
    "class ChatRoom(Room):\n",
    "    \"\"\"\n",
    "    聊天用的房间\n",
    "    \"\"\"\n",
    "\n",
    "    def add(self, session):\n",
    "        # 广播新用户进入\n",
    "        session.push(b'Login Success')\n",
    "        self.broadcast((session.name + ' has entered the room.\\n').encode(\"utf-8\"))\n",
    "        self.server.users[session.name] = session\n",
    "        Room.add(self, session)\n",
    "\n",
    "    def remove(self, session):\n",
    "        # 广播用户离开\n",
    "        Room.remove(self, session)\n",
    "        self.broadcast((session.name + ' has left the room.\\n').encode(\"utf-8\"))\n",
    "\n",
    "    def do_say(self, session, line):\n",
    "        # 客户端发送消息\n",
    "        self.broadcast((session.name + ': ' + line + '\\n').encode(\"utf-8\"))\n",
    "\n",
    "    def do_look(self, session, line):\n",
    "        # 查看在线用户\n",
    "        session.push(b'Online Users:\\n')\n",
    "        for other in self.sessions:\n",
    "            session.push((other.name + '\\n').encode(\"utf-8\"))"
   ]
  },
  {
   "cell_type": "markdown",
   "metadata": {},
   "source": [
    "# mian - 主函数处理"
   ]
  },
  {
   "cell_type": "code",
   "execution_count": null,
   "metadata": {},
   "outputs": [
    {
     "name": "stdout",
     "output_type": "stream",
     "text": [
      "chat server run at '0.0.0.0:6666'\n"
     ]
    }
   ],
   "source": [
    "if __name__ == '__main__':\n",
    "\n",
    "    s = ChatServer(PORT)\n",
    "    try:\n",
    "        print(\"chat server run at '0.0.0.0:{0}'\".format(PORT))\n",
    "        asyncore.loop()\n",
    "    except KeyboardInterrupt:\n",
    "        print(\"chat server exit\")"
   ]
  },
  {
   "cell_type": "code",
   "execution_count": null,
   "metadata": {},
   "outputs": [],
   "source": []
  }
 ],
 "metadata": {
  "kernelspec": {
   "display_name": "Python 3",
   "language": "python",
   "name": "python3"
  },
  "language_info": {
   "codemirror_mode": {
    "name": "ipython",
    "version": 3
   },
   "file_extension": ".py",
   "mimetype": "text/x-python",
   "name": "python",
   "nbconvert_exporter": "python",
   "pygments_lexer": "ipython3",
   "version": "3.7.0"
  }
 },
 "nbformat": 4,
 "nbformat_minor": 2
}
