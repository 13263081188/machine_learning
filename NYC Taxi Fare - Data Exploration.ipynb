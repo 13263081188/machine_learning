{
 "cells": [
  {
   "cell_type": "markdown",
   "metadata": {
    "_uuid": "aaeb53c16fe914963fc0baa1d5ad411652356bfe"
   },
   "source": [
    "# New York City Taxi Fare Prediction Playground Competition\n",
    "\n",
    "This is my notebook I used to explore the NYC Taxi Fare dataset. Use this yourself to explore the dataset. If you have question, sent me a message!\n",
    "\n",
    "Have fun!\n",
    "\n",
    "Albert van Breemen\n",
    "27/7/2018\n",
    "\n",
    "**Update**\n",
    "\n",
    "2018/08/27\n",
    "- Corrected error in calculating min/max coordinates. This error has no consequence for the remaining analysis. [Thanks to Pegah]\n",
    "\n",
    "2018/08/10\n",
    "- Added visuals to analyse the importance of the direction of a trip\n",
    "\n",
    "2018/08/08\n",
    "- Using the insights from this notebook, I trained a model that got a #1 position on 2018/08/07 (LB score 2.88396)\n",
    "- Added pickup traffic density plots to see how busy it is in Manhatten by the hour\n",
    "\n",
    "2018/08/04\n",
    "- Thanks for all the feedback! This notebook is becoming rather long, but there is so much fun stuff to analyse!! ;)\n",
    "- updated the boundingbox and NYC maps, as one test point was not within the bounding box\n",
    "- added zoomed in map of NYC\n",
    "- added hiresolution NYC/Manhattan map plot\n",
    "- added function to remove datapoints from water\n",
    "- small update in datapoints per sq miles calculation\n",
    "\n",
    "2018/07/30\n",
    "- Corrected 'ewr'/'lgr' typo [Thanks to Lu Mingming]\n",
    "- Small update `plot_on_map` function\n",
    "- Converted distances to miles [Thanks to sandy1112]\n",
    "- Add Taxi pricing rules [Thanks to sandy1112]\n",
    "- Added density plots (datapoints per sq mile)\n",
    "\n",
    "2018/07/28 \n",
    "- Added a graph with estimated drive time for two trips using Google Map Traffic info. This could explain how fare depends on hour of the day.\n",
    "\n",
    "\n",
    "## Reading data and first exploration\n",
    "\n",
    "\n",
    "First thing I like to do with a new dataset is to explore the data. This means investigating the number of features, their datatype, their meaning and statistics."
   ]
  },
  {
   "cell_type": "code",
   "execution_count": null,
   "metadata": {
    "_uuid": "9644171fd7294391b887803d35c1bd565eb577b5"
   },
   "outputs": [],
   "source": [
    "# load some default Python modules\n",
    "import numpy as np\n",
    "import pandas as pd\n",
    "import matplotlib.pyplot as plt\n",
    "import seaborn as sns\n",
    "%matplotlib inline\n",
    "plt.style.use('seaborn-whitegrid')"
   ]
  },
  {
   "cell_type": "markdown",
   "metadata": {
    "_uuid": "f9d8f4c2679ce2ac3a4ea114b3cb12b2e66f091d"
   },
   "source": [
    "As this dataset is huge reading all data would require a lot of memory. Therefore I read a limited number of rows while exploring the data. When my exploration code (e.g. this notebook) is ready I re-run the notebook while reading more rows."
   ]
  },
  {
   "cell_type": "code",
   "execution_count": null,
   "metadata": {
    "_uuid": "45366fe52f68cc504422248cdf5bac4b0b526c6b"
   },
   "outputs": [],
   "source": [
    "# read data in pandas dataframe\n",
    "df_train =  pd.read_csv('../input/train.csv', nrows = 2_000_000, parse_dates=[\"pickup_datetime\"])\n",
    "# list first few rows (datapoints)\n",
    "df_train.head()"
   ]
  },
  {
   "cell_type": "code",
   "execution_count": 25,
   "metadata": {
    "_uuid": "c221cfee76464d443e6ac2817dd2ae4d1c5e8774"
   },
   "outputs": [
    {
     "data": {
      "text/plain": [
       "(1999909, 8)"
      ]
     },
     "execution_count": 25,
     "metadata": {},
     "output_type": "execute_result"
    }
   ],
   "source": [
    "# check datatypes\n",
    "df_train.dtypes\n",
    "df_train.shape"
   ]
  },
  {
   "cell_type": "code",
   "execution_count": 22,
   "metadata": {
    "_uuid": "b663e58b73665c6df9c48d215b54ee9d46ff58f4"
   },
   "outputs": [
    {
     "data": {
      "text/html": [
       "<div>\n",
       "<style scoped>\n",
       "    .dataframe tbody tr th:only-of-type {\n",
       "        vertical-align: middle;\n",
       "    }\n",
       "\n",
       "    .dataframe tbody tr th {\n",
       "        vertical-align: top;\n",
       "    }\n",
       "\n",
       "    .dataframe thead th {\n",
       "        text-align: right;\n",
       "    }\n",
       "</style>\n",
       "<table border=\"1\" class=\"dataframe\">\n",
       "  <thead>\n",
       "    <tr style=\"text-align: right;\">\n",
       "      <th></th>\n",
       "      <th>fare_amount</th>\n",
       "      <th>pickup_longitude</th>\n",
       "      <th>pickup_latitude</th>\n",
       "      <th>dropoff_longitude</th>\n",
       "      <th>dropoff_latitude</th>\n",
       "      <th>passenger_count</th>\n",
       "    </tr>\n",
       "  </thead>\n",
       "  <tbody>\n",
       "    <tr>\n",
       "      <td>count</td>\n",
       "      <td>1.999909e+06</td>\n",
       "      <td>1.999909e+06</td>\n",
       "      <td>1.999909e+06</td>\n",
       "      <td>1.999909e+06</td>\n",
       "      <td>1.999909e+06</td>\n",
       "      <td>1.999909e+06</td>\n",
       "    </tr>\n",
       "    <tr>\n",
       "      <td>mean</td>\n",
       "      <td>1.134841e+01</td>\n",
       "      <td>-7.252329e+01</td>\n",
       "      <td>3.992968e+01</td>\n",
       "      <td>-7.252415e+01</td>\n",
       "      <td>3.992819e+01</td>\n",
       "      <td>1.684123e+00</td>\n",
       "    </tr>\n",
       "    <tr>\n",
       "      <td>std</td>\n",
       "      <td>9.851787e+00</td>\n",
       "      <td>1.286792e+01</td>\n",
       "      <td>7.983332e+00</td>\n",
       "      <td>1.277449e+01</td>\n",
       "      <td>1.032374e+01</td>\n",
       "      <td>1.314976e+00</td>\n",
       "    </tr>\n",
       "    <tr>\n",
       "      <td>min</td>\n",
       "      <td>0.000000e+00</td>\n",
       "      <td>-3.377681e+03</td>\n",
       "      <td>-3.458665e+03</td>\n",
       "      <td>-3.383297e+03</td>\n",
       "      <td>-3.461541e+03</td>\n",
       "      <td>0.000000e+00</td>\n",
       "    </tr>\n",
       "    <tr>\n",
       "      <td>25%</td>\n",
       "      <td>6.000000e+00</td>\n",
       "      <td>-7.399208e+01</td>\n",
       "      <td>4.073491e+01</td>\n",
       "      <td>-7.399141e+01</td>\n",
       "      <td>4.073400e+01</td>\n",
       "      <td>1.000000e+00</td>\n",
       "    </tr>\n",
       "    <tr>\n",
       "      <td>50%</td>\n",
       "      <td>8.500000e+00</td>\n",
       "      <td>-7.398181e+01</td>\n",
       "      <td>4.075263e+01</td>\n",
       "      <td>-7.398016e+01</td>\n",
       "      <td>4.075312e+01</td>\n",
       "      <td>1.000000e+00</td>\n",
       "    </tr>\n",
       "    <tr>\n",
       "      <td>75%</td>\n",
       "      <td>1.250000e+01</td>\n",
       "      <td>-7.396713e+01</td>\n",
       "      <td>4.076710e+01</td>\n",
       "      <td>-7.396369e+01</td>\n",
       "      <td>4.076809e+01</td>\n",
       "      <td>2.000000e+00</td>\n",
       "    </tr>\n",
       "    <tr>\n",
       "      <td>max</td>\n",
       "      <td>1.273310e+03</td>\n",
       "      <td>2.856442e+03</td>\n",
       "      <td>2.621628e+03</td>\n",
       "      <td>3.414307e+03</td>\n",
       "      <td>3.345917e+03</td>\n",
       "      <td>2.080000e+02</td>\n",
       "    </tr>\n",
       "  </tbody>\n",
       "</table>\n",
       "</div>"
      ],
      "text/plain": [
       "        fare_amount  pickup_longitude  pickup_latitude  dropoff_longitude  \\\n",
       "count  1.999909e+06      1.999909e+06     1.999909e+06       1.999909e+06   \n",
       "mean   1.134841e+01     -7.252329e+01     3.992968e+01      -7.252415e+01   \n",
       "std    9.851787e+00      1.286792e+01     7.983332e+00       1.277449e+01   \n",
       "min    0.000000e+00     -3.377681e+03    -3.458665e+03      -3.383297e+03   \n",
       "25%    6.000000e+00     -7.399208e+01     4.073491e+01      -7.399141e+01   \n",
       "50%    8.500000e+00     -7.398181e+01     4.075263e+01      -7.398016e+01   \n",
       "75%    1.250000e+01     -7.396713e+01     4.076710e+01      -7.396369e+01   \n",
       "max    1.273310e+03      2.856442e+03     2.621628e+03       3.414307e+03   \n",
       "\n",
       "       dropoff_latitude  passenger_count  \n",
       "count      1.999909e+06     1.999909e+06  \n",
       "mean       3.992819e+01     1.684123e+00  \n",
       "std        1.032374e+01     1.314976e+00  \n",
       "min       -3.461541e+03     0.000000e+00  \n",
       "25%        4.073400e+01     1.000000e+00  \n",
       "50%        4.075312e+01     1.000000e+00  \n",
       "75%        4.076809e+01     2.000000e+00  \n",
       "max        3.345917e+03     2.080000e+02  "
      ]
     },
     "execution_count": 22,
     "metadata": {},
     "output_type": "execute_result"
    }
   ],
   "source": [
    "# check statistics of the features\n",
    "df_train.describe()"
   ]
  },
  {
   "cell_type": "markdown",
   "metadata": {
    "_uuid": "154670900c260932248ad2594bbbfd945802c244"
   },
   "source": [
    "The following things I notice (while using 500k datapoints):\n",
    "\n",
    "- The minimal `fare_amount` is negative. As this does not seem to be realistic I will drop them from the dataset.\n",
    "- Some of the minimum and maximum longitude/lattitude coordinates are way off. These I will also remove from the dataset (I will define a bounding box for the coordinates, see further).\n",
    "- The average `fare_amount` is about \\$11.4 USD with a standard deviation of \\$9.9 USD. When building a predictive model we want to be better than $9.9 USD :)"
   ]
  },
  {
   "cell_type": "code",
   "execution_count": 16,
   "metadata": {
    "_uuid": "28e75eac860d266b6a562e8dac711e392f73ad26"
   },
   "outputs": [
    {
     "name": "stdout",
     "output_type": "stream",
     "text": [
      "Old size: 1999909\n",
      "New size: 1999909\n"
     ]
    }
   ],
   "source": [
    "print('Old size: %d' % len(df_train))\n",
    "df_train = df_train[df_train.fare_amount>=0]\n",
    "print('New size: %d' % len(df_train))"
   ]
  },
  {
   "cell_type": "code",
   "execution_count": 17,
   "metadata": {
    "_uuid": "e01144533c5dfaecffae2b2949982f889f0671c6"
   },
   "outputs": [
    {
     "data": {
      "image/png": "[encoded data removed]",
      "text/plain": [
       "<Figure size 1008x216 with 1 Axes>"
      ]
     },
     "metadata": {
      "needs_background": "light"
     },
     "output_type": "display_data"
    }
   ],
   "source": [
    "# plot histogram of fare\n",
    "df_train[df_train.fare_amount<100].fare_amount.hist(bins=100, figsize=(14,3))\n",
    "plt.xlabel('fare $USD')\n",
    "plt.title('Histogram');\n",
    "#sns.distplot(a=df_train[df_train.fare_amount<100].fare_amount, kde=False)"
   ]
  },
  {
   "cell_type": "markdown",
   "metadata": {
    "_uuid": "fe0ae2fdcdc14b393adb911ea349df786317f069"
   },
   "source": [
    "In the histogram of the `fare_amount` there are some small spikes between \\$40 and \\$60. This could indicate some fixed fare price (e.g. to/from airport). This will be explored further below."
   ]
  },
  {
   "cell_type": "markdown",
   "metadata": {
    "_uuid": "ae7feba8a8607ccfbfb5f6c006e67786ec026103"
   },
   "source": [
    "## Remove missing data\n",
    "\n",
    "Always check to see if there is missing data. As this dataset is huge, removing datapoints with missing data probably has no effect on the models beings trained."
   ]
  },
  {
   "cell_type": "code",
   "execution_count": 18,
   "metadata": {
    "_uuid": "d6afce44ae49df0b97d6f00a8b60999128e06af9"
   },
   "outputs": [
    {
     "name": "stdout",
     "output_type": "stream",
     "text": [
      "key                  0\n",
      "fare_amount          0\n",
      "pickup_datetime      0\n",
      "pickup_longitude     0\n",
      "pickup_latitude      0\n",
      "dropoff_longitude    0\n",
      "dropoff_latitude     0\n",
      "passenger_count      0\n",
      "dtype: int64\n"
     ]
    }
   ],
   "source": [
    "print(df_train.isnull().sum())"
   ]
  },
  {
   "cell_type": "code",
   "execution_count": 19,
   "metadata": {
    "_uuid": "4c96988b66b5e3cd76ad3da35e4338882ef09880"
   },
   "outputs": [
    {
     "name": "stdout",
     "output_type": "stream",
     "text": [
      "Old size: 1999909\n",
      "New size: 1999909\n"
     ]
    }
   ],
   "source": [
    "print('Old size: %d' % len(df_train))\n",
    "df_train = df_train.dropna(how = 'any', axis = 'rows')\n",
    "print('New size: %d' % len(df_train))"
   ]
  },
  {
   "cell_type": "markdown",
   "metadata": {
    "_uuid": "c52e972ae6d4035b097352debfec0e061975e13b"
   },
   "source": [
    "## Test data\n",
    "Read the test data to check the statistics and compare with the training set."
   ]
  },
  {
   "cell_type": "code",
   "execution_count": 20,
   "metadata": {
    "_uuid": "3a5e9332123bfef0ffbe8ed646f0d75240c48b90"
   },
   "outputs": [
    {
     "data": {
      "text/html": [
       "<div>\n",
       "<style scoped>\n",
       "    .dataframe tbody tr th:only-of-type {\n",
       "        vertical-align: middle;\n",
       "    }\n",
       "\n",
       "    .dataframe tbody tr th {\n",
       "        vertical-align: top;\n",
       "    }\n",
       "\n",
       "    .dataframe thead th {\n",
       "        text-align: right;\n",
       "    }\n",
       "</style>\n",
       "<table border=\"1\" class=\"dataframe\">\n",
       "  <thead>\n",
       "    <tr style=\"text-align: right;\">\n",
       "      <th></th>\n",
       "      <th>key</th>\n",
       "      <th>pickup_datetime</th>\n",
       "      <th>pickup_longitude</th>\n",
       "      <th>pickup_latitude</th>\n",
       "      <th>dropoff_longitude</th>\n",
       "      <th>dropoff_latitude</th>\n",
       "      <th>passenger_count</th>\n",
       "    </tr>\n",
       "  </thead>\n",
       "  <tbody>\n",
       "    <tr>\n",
       "      <td>0</td>\n",
       "      <td>2015-01-27 13:08:24.0000002</td>\n",
       "      <td>2015-01-27 13:08:24 UTC</td>\n",
       "      <td>-73.973320</td>\n",
       "      <td>40.763805</td>\n",
       "      <td>-73.981430</td>\n",
       "      <td>40.743835</td>\n",
       "      <td>1</td>\n",
       "    </tr>\n",
       "    <tr>\n",
       "      <td>1</td>\n",
       "      <td>2015-01-27 13:08:24.0000003</td>\n",
       "      <td>2015-01-27 13:08:24 UTC</td>\n",
       "      <td>-73.986862</td>\n",
       "      <td>40.719383</td>\n",
       "      <td>-73.998886</td>\n",
       "      <td>40.739201</td>\n",
       "      <td>1</td>\n",
       "    </tr>\n",
       "    <tr>\n",
       "      <td>2</td>\n",
       "      <td>2011-10-08 11:53:44.0000002</td>\n",
       "      <td>2011-10-08 11:53:44 UTC</td>\n",
       "      <td>-73.982524</td>\n",
       "      <td>40.751260</td>\n",
       "      <td>-73.979654</td>\n",
       "      <td>40.746139</td>\n",
       "      <td>1</td>\n",
       "    </tr>\n",
       "    <tr>\n",
       "      <td>3</td>\n",
       "      <td>2012-12-01 21:12:12.0000002</td>\n",
       "      <td>2012-12-01 21:12:12 UTC</td>\n",
       "      <td>-73.981160</td>\n",
       "      <td>40.767807</td>\n",
       "      <td>-73.990448</td>\n",
       "      <td>40.751635</td>\n",
       "      <td>1</td>\n",
       "    </tr>\n",
       "    <tr>\n",
       "      <td>4</td>\n",
       "      <td>2012-12-01 21:12:12.0000003</td>\n",
       "      <td>2012-12-01 21:12:12 UTC</td>\n",
       "      <td>-73.966046</td>\n",
       "      <td>40.789775</td>\n",
       "      <td>-73.988565</td>\n",
       "      <td>40.744427</td>\n",
       "      <td>1</td>\n",
       "    </tr>\n",
       "  </tbody>\n",
       "</table>\n",
       "</div>"
      ],
      "text/plain": [
       "                           key          pickup_datetime  pickup_longitude  \\\n",
       "0  2015-01-27 13:08:24.0000002  2015-01-27 13:08:24 UTC        -73.973320   \n",
       "1  2015-01-27 13:08:24.0000003  2015-01-27 13:08:24 UTC        -73.986862   \n",
       "2  2011-10-08 11:53:44.0000002  2011-10-08 11:53:44 UTC        -73.982524   \n",
       "3  2012-12-01 21:12:12.0000002  2012-12-01 21:12:12 UTC        -73.981160   \n",
       "4  2012-12-01 21:12:12.0000003  2012-12-01 21:12:12 UTC        -73.966046   \n",
       "\n",
       "   pickup_latitude  dropoff_longitude  dropoff_latitude  passenger_count  \n",
       "0        40.763805         -73.981430         40.743835                1  \n",
       "1        40.719383         -73.998886         40.739201                1  \n",
       "2        40.751260         -73.979654         40.746139                1  \n",
       "3        40.767807         -73.990448         40.751635                1  \n",
       "4        40.789775         -73.988565         40.744427                1  "
      ]
     },
     "execution_count": 20,
     "metadata": {},
     "output_type": "execute_result"
    }
   ],
   "source": [
    "# read data in pandas dataframe\n",
    "df_test =  pd.read_csv('../input/test.csv')\n",
    "df_test.head(5)"
   ]
  },
  {
   "cell_type": "code",
   "execution_count": 21,
   "metadata": {
    "_uuid": "2deedc5069ca226c34f31550fe8af62bd8b9a724"
   },
   "outputs": [
    {
     "data": {
      "text/html": [
       "<div>\n",
       "<style scoped>\n",
       "    .dataframe tbody tr th:only-of-type {\n",
       "        vertical-align: middle;\n",
       "    }\n",
       "\n",
       "    .dataframe tbody tr th {\n",
       "        vertical-align: top;\n",
       "    }\n",
       "\n",
       "    .dataframe thead th {\n",
       "        text-align: right;\n",
       "    }\n",
       "</style>\n",
       "<table border=\"1\" class=\"dataframe\">\n",
       "  <thead>\n",
       "    <tr style=\"text-align: right;\">\n",
       "      <th></th>\n",
       "      <th>pickup_longitude</th>\n",
       "      <th>pickup_latitude</th>\n",
       "      <th>dropoff_longitude</th>\n",
       "      <th>dropoff_latitude</th>\n",
       "      <th>passenger_count</th>\n",
       "    </tr>\n",
       "  </thead>\n",
       "  <tbody>\n",
       "    <tr>\n",
       "      <td>count</td>\n",
       "      <td>9914.000000</td>\n",
       "      <td>9914.000000</td>\n",
       "      <td>9914.000000</td>\n",
       "      <td>9914.000000</td>\n",
       "      <td>9914.000000</td>\n",
       "    </tr>\n",
       "    <tr>\n",
       "      <td>mean</td>\n",
       "      <td>-73.974722</td>\n",
       "      <td>40.751041</td>\n",
       "      <td>-73.973657</td>\n",
       "      <td>40.751743</td>\n",
       "      <td>1.671273</td>\n",
       "    </tr>\n",
       "    <tr>\n",
       "      <td>std</td>\n",
       "      <td>0.042774</td>\n",
       "      <td>0.033541</td>\n",
       "      <td>0.039072</td>\n",
       "      <td>0.035435</td>\n",
       "      <td>1.278747</td>\n",
       "    </tr>\n",
       "    <tr>\n",
       "      <td>min</td>\n",
       "      <td>-74.252193</td>\n",
       "      <td>40.573143</td>\n",
       "      <td>-74.263242</td>\n",
       "      <td>40.568973</td>\n",
       "      <td>1.000000</td>\n",
       "    </tr>\n",
       "    <tr>\n",
       "      <td>25%</td>\n",
       "      <td>-73.992501</td>\n",
       "      <td>40.736125</td>\n",
       "      <td>-73.991247</td>\n",
       "      <td>40.735254</td>\n",
       "      <td>1.000000</td>\n",
       "    </tr>\n",
       "    <tr>\n",
       "      <td>50%</td>\n",
       "      <td>-73.982326</td>\n",
       "      <td>40.753051</td>\n",
       "      <td>-73.980015</td>\n",
       "      <td>40.754065</td>\n",
       "      <td>1.000000</td>\n",
       "    </tr>\n",
       "    <tr>\n",
       "      <td>75%</td>\n",
       "      <td>-73.968013</td>\n",
       "      <td>40.767113</td>\n",
       "      <td>-73.964059</td>\n",
       "      <td>40.768757</td>\n",
       "      <td>2.000000</td>\n",
       "    </tr>\n",
       "    <tr>\n",
       "      <td>max</td>\n",
       "      <td>-72.986532</td>\n",
       "      <td>41.709555</td>\n",
       "      <td>-72.990963</td>\n",
       "      <td>41.696683</td>\n",
       "      <td>6.000000</td>\n",
       "    </tr>\n",
       "  </tbody>\n",
       "</table>\n",
       "</div>"
      ],
      "text/plain": [
       "       pickup_longitude  pickup_latitude  dropoff_longitude  dropoff_latitude  \\\n",
       "count       9914.000000      9914.000000        9914.000000       9914.000000   \n",
       "mean         -73.974722        40.751041         -73.973657         40.751743   \n",
       "std            0.042774         0.033541           0.039072          0.035435   \n",
       "min          -74.252193        40.573143         -74.263242         40.568973   \n",
       "25%          -73.992501        40.736125         -73.991247         40.735254   \n",
       "50%          -73.982326        40.753051         -73.980015         40.754065   \n",
       "75%          -73.968013        40.767113         -73.964059         40.768757   \n",
       "max          -72.986532        41.709555         -72.990963         41.696683   \n",
       "\n",
       "       passenger_count  \n",
       "count      9914.000000  \n",
       "mean          1.671273  \n",
       "std           1.278747  \n",
       "min           1.000000  \n",
       "25%           1.000000  \n",
       "50%           1.000000  \n",
       "75%           2.000000  \n",
       "max           6.000000  "
      ]
     },
     "execution_count": 21,
     "metadata": {},
     "output_type": "execute_result"
    }
   ],
   "source": [
    "df_test.describe()"
   ]
  },
  {
   "cell_type": "markdown",
   "metadata": {
    "_uuid": "b95cbb5d39b46bf4e82d9736cdf5b2cff2d59275"
   },
   "source": [
    "## Location data\n",
    "\n",
    "As we're dealing with location data, I want to plot the coordinates on a map. This gives a better view of the data. For this, I use the following website:\n",
    "\n",
    "- Easy to use map and GPS tool: https://www.gps-coordinates.net/ \n",
    "- Calculate distance between locations: https://www.travelmath.com/flying-distance/\n",
    "- Open street map to grab using bouding box a map: https://www.openstreetmap.org/export#map=8/52.154/5.295\n",
    "\n",
    "New York city coordinates are (https://www.travelmath.com/cities/New+York,+NY):\n",
    "\n",
    "- longitude = -74.0063889\n",
    "- lattitude = 40.7141667\n",
    "\n",
    "I define a bounding box of interest by [long_min, long_max, latt_min, latt_max] using the minimum and maximum coordinates from the testset. This way, I'm sure to train a model for the full pickup/dropoff coordinate range of the test set.\n",
    "\n",
    "From Open Street Map I grab a map and I drop any datapoint outside this box."
   ]
  },
  {
   "cell_type": "code",
   "execution_count": 26,
   "metadata": {
    "_uuid": "c17ad8ee3546ec2919a7effed1299f6eedcd845f"
   },
   "outputs": [
    {
     "data": {
      "text/plain": [
       "(-74.263242, -72.986532)"
      ]
     },
     "execution_count": 26,
     "metadata": {},
     "output_type": "execute_result"
    }
   ],
   "source": [
    "# minimum and maximum longitude test set\n",
    "min(df_test.pickup_longitude.min(), df_test.dropoff_longitude.min()), \\\n",
    "max(df_test.pickup_longitude.max(), df_test.dropoff_longitude.max())"
   ]
  },
  {
   "cell_type": "code",
   "execution_count": 27,
   "metadata": {
    "_uuid": "6030e9ba9a2937d9898b3991f2bb466730613610"
   },
   "outputs": [
    {
     "data": {
      "text/plain": [
       "(40.568973, 41.709555)"
      ]
     },
     "execution_count": 27,
     "metadata": {},
     "output_type": "execute_result"
    }
   ],
   "source": [
    "# minimum and maximum latitude test\n",
    "min(df_test.pickup_latitude.min(), df_test.dropoff_latitude.min()), \\\n",
    "max(df_test.pickup_latitude.max(), df_test.dropoff_latitude.max())"
   ]
  },
  {
   "cell_type": "code",
   "execution_count": 28,
   "metadata": {},
   "outputs": [
    {
     "name": "stdout",
     "output_type": "stream",
     "text": [
      "Help on function imread in module matplotlib.pyplot:\n",
      "\n",
      "imread(fname, format=None)\n",
      "    Read an image from a file into an array.\n",
      "    \n",
      "    Parameters\n",
      "    ----------\n",
      "    fname : str or file-like\n",
      "        The image file to read. This can be a filename, a URL or a Python\n",
      "        file-like object opened in read-binary mode.\n",
      "    format : str, optional\n",
      "        The image file format assumed for reading the data. If not\n",
      "        given, the format is deduced from the filename.  If nothing can\n",
      "        be deduced, PNG is tried.\n",
      "    \n",
      "    Returns\n",
      "    -------\n",
      "    imagedata : :class:`numpy.array`\n",
      "        The image data. The returned array has shape\n",
      "    \n",
      "        - (M, N) for grayscale images.\n",
      "        - (M, N, 3) for RGB images.\n",
      "        - (M, N, 4) for RGBA images.\n",
      "    \n",
      "    Notes\n",
      "    -----\n",
      "    Matplotlib can only read PNGs natively. Further image formats are\n",
      "    supported via the optional dependency on Pillow. Note, URL strings\n",
      "    are not compatible with Pillow. Check the `Pillow documentation`_\n",
      "    for more information.\n",
      "    \n",
      "    .. _Pillow documentation: http://pillow.readthedocs.io/en/latest/\n",
      "\n"
     ]
    }
   ],
   "source": [
    "help(plt.imread)"
   ]
  },
  {
   "cell_type": "code",
   "execution_count": 33,
   "metadata": {},
   "outputs": [
    {
     "ename": "URLError",
     "evalue": "<urlopen error [Errno -3] Temporary failure in name resolution>",
     "output_type": "error",
     "traceback": [
      "\u001b[0;31m---------------------------------------------------------------------------\u001b[0m",
      "\u001b[0;31mgaierror\u001b[0m                                  Traceback (most recent call last)",
      "\u001b[0;32m/opt/conda/lib/python3.6/urllib/request.py\u001b[0m in \u001b[0;36mdo_open\u001b[0;34m(self, http_class, req, **http_conn_args)\u001b[0m\n\u001b[1;32m   1317\u001b[0m                 h.request(req.get_method(), req.selector, req.data, headers,\n\u001b[0;32m-> 1318\u001b[0;31m                           encode_chunked=req.has_header('Transfer-encoding'))\n\u001b[0m\u001b[1;32m   1319\u001b[0m             \u001b[0;32mexcept\u001b[0m \u001b[0mOSError\u001b[0m \u001b[0;32mas\u001b[0m \u001b[0merr\u001b[0m\u001b[0;34m:\u001b[0m \u001b[0;31m# timeout error\u001b[0m\u001b[0;34m\u001b[0m\u001b[0m\n",
      "\u001b[0;32m/opt/conda/lib/python3.6/http/client.py\u001b[0m in \u001b[0;36mrequest\u001b[0;34m(self, method, url, body, headers, encode_chunked)\u001b[0m\n\u001b[1;32m   1238\u001b[0m         \u001b[0;34m\"\"\"Send a complete request to the server.\"\"\"\u001b[0m\u001b[0;34m\u001b[0m\u001b[0m\n\u001b[0;32m-> 1239\u001b[0;31m         \u001b[0mself\u001b[0m\u001b[0;34m.\u001b[0m\u001b[0m_send_request\u001b[0m\u001b[0;34m(\u001b[0m\u001b[0mmethod\u001b[0m\u001b[0;34m,\u001b[0m \u001b[0murl\u001b[0m\u001b[0;34m,\u001b[0m \u001b[0mbody\u001b[0m\u001b[0;34m,\u001b[0m \u001b[0mheaders\u001b[0m\u001b[0;34m,\u001b[0m \u001b[0mencode_chunked\u001b[0m\u001b[0;34m)\u001b[0m\u001b[0;34m\u001b[0m\u001b[0m\n\u001b[0m\u001b[1;32m   1240\u001b[0m \u001b[0;34m\u001b[0m\u001b[0m\n",
      "\u001b[0;32m/opt/conda/lib/python3.6/http/client.py\u001b[0m in \u001b[0;36m_send_request\u001b[0;34m(self, method, url, body, headers, encode_chunked)\u001b[0m\n\u001b[1;32m   1284\u001b[0m             \u001b[0mbody\u001b[0m \u001b[0;34m=\u001b[0m \u001b[0m_encode\u001b[0m\u001b[0;34m(\u001b[0m\u001b[0mbody\u001b[0m\u001b[0;34m,\u001b[0m \u001b[0;34m'body'\u001b[0m\u001b[0;34m)\u001b[0m\u001b[0;34m\u001b[0m\u001b[0m\n\u001b[0;32m-> 1285\u001b[0;31m         \u001b[0mself\u001b[0m\u001b[0;34m.\u001b[0m\u001b[0mendheaders\u001b[0m\u001b[0;34m(\u001b[0m\u001b[0mbody\u001b[0m\u001b[0;34m,\u001b[0m \u001b[0mencode_chunked\u001b[0m\u001b[0;34m=\u001b[0m\u001b[0mencode_chunked\u001b[0m\u001b[0;34m)\u001b[0m\u001b[0;34m\u001b[0m\u001b[0m\n\u001b[0m\u001b[1;32m   1286\u001b[0m \u001b[0;34m\u001b[0m\u001b[0m\n",
      "\u001b[0;32m/opt/conda/lib/python3.6/http/client.py\u001b[0m in \u001b[0;36mendheaders\u001b[0;34m(self, message_body, encode_chunked)\u001b[0m\n\u001b[1;32m   1233\u001b[0m             \u001b[0;32mraise\u001b[0m \u001b[0mCannotSendHeader\u001b[0m\u001b[0;34m(\u001b[0m\u001b[0;34m)\u001b[0m\u001b[0;34m\u001b[0m\u001b[0m\n\u001b[0;32m-> 1234\u001b[0;31m         \u001b[0mself\u001b[0m\u001b[0;34m.\u001b[0m\u001b[0m_send_output\u001b[0m\u001b[0;34m(\u001b[0m\u001b[0mmessage_body\u001b[0m\u001b[0;34m,\u001b[0m \u001b[0mencode_chunked\u001b[0m\u001b[0;34m=\u001b[0m\u001b[0mencode_chunked\u001b[0m\u001b[0;34m)\u001b[0m\u001b[0;34m\u001b[0m\u001b[0m\n\u001b[0m\u001b[1;32m   1235\u001b[0m \u001b[0;34m\u001b[0m\u001b[0m\n",
      "\u001b[0;32m/opt/conda/lib/python3.6/http/client.py\u001b[0m in \u001b[0;36m_send_output\u001b[0;34m(self, message_body, encode_chunked)\u001b[0m\n\u001b[1;32m   1025\u001b[0m         \u001b[0;32mdel\u001b[0m \u001b[0mself\u001b[0m\u001b[0;34m.\u001b[0m\u001b[0m_buffer\u001b[0m\u001b[0;34m[\u001b[0m\u001b[0;34m:\u001b[0m\u001b[0;34m]\u001b[0m\u001b[0;34m\u001b[0m\u001b[0m\n\u001b[0;32m-> 1026\u001b[0;31m         \u001b[0mself\u001b[0m\u001b[0;34m.\u001b[0m\u001b[0msend\u001b[0m\u001b[0;34m(\u001b[0m\u001b[0mmsg\u001b[0m\u001b[0;34m)\u001b[0m\u001b[0;34m\u001b[0m\u001b[0m\n\u001b[0m\u001b[1;32m   1027\u001b[0m \u001b[0;34m\u001b[0m\u001b[0m\n",
      "\u001b[0;32m/opt/conda/lib/python3.6/http/client.py\u001b[0m in \u001b[0;36msend\u001b[0;34m(self, data)\u001b[0m\n\u001b[1;32m    963\u001b[0m             \u001b[0;32mif\u001b[0m \u001b[0mself\u001b[0m\u001b[0;34m.\u001b[0m\u001b[0mauto_open\u001b[0m\u001b[0;34m:\u001b[0m\u001b[0;34m\u001b[0m\u001b[0m\n\u001b[0;32m--> 964\u001b[0;31m                 \u001b[0mself\u001b[0m\u001b[0;34m.\u001b[0m\u001b[0mconnect\u001b[0m\u001b[0;34m(\u001b[0m\u001b[0;34m)\u001b[0m\u001b[0;34m\u001b[0m\u001b[0m\n\u001b[0m\u001b[1;32m    965\u001b[0m             \u001b[0;32melse\u001b[0m\u001b[0;34m:\u001b[0m\u001b[0;34m\u001b[0m\u001b[0m\n",
      "\u001b[0;32m/opt/conda/lib/python3.6/http/client.py\u001b[0m in \u001b[0;36mconnect\u001b[0;34m(self)\u001b[0m\n\u001b[1;32m   1391\u001b[0m \u001b[0;34m\u001b[0m\u001b[0m\n\u001b[0;32m-> 1392\u001b[0;31m             \u001b[0msuper\u001b[0m\u001b[0;34m(\u001b[0m\u001b[0;34m)\u001b[0m\u001b[0;34m.\u001b[0m\u001b[0mconnect\u001b[0m\u001b[0;34m(\u001b[0m\u001b[0;34m)\u001b[0m\u001b[0;34m\u001b[0m\u001b[0m\n\u001b[0m\u001b[1;32m   1393\u001b[0m \u001b[0;34m\u001b[0m\u001b[0m\n",
      "\u001b[0;32m/opt/conda/lib/python3.6/http/client.py\u001b[0m in \u001b[0;36mconnect\u001b[0;34m(self)\u001b[0m\n\u001b[1;32m    935\u001b[0m         self.sock = self._create_connection(\n\u001b[0;32m--> 936\u001b[0;31m             (self.host,self.port), self.timeout, self.source_address)\n\u001b[0m\u001b[1;32m    937\u001b[0m         \u001b[0mself\u001b[0m\u001b[0;34m.\u001b[0m\u001b[0msock\u001b[0m\u001b[0;34m.\u001b[0m\u001b[0msetsockopt\u001b[0m\u001b[0;34m(\u001b[0m\u001b[0msocket\u001b[0m\u001b[0;34m.\u001b[0m\u001b[0mIPPROTO_TCP\u001b[0m\u001b[0;34m,\u001b[0m \u001b[0msocket\u001b[0m\u001b[0;34m.\u001b[0m\u001b[0mTCP_NODELAY\u001b[0m\u001b[0;34m,\u001b[0m \u001b[0;36m1\u001b[0m\u001b[0;34m)\u001b[0m\u001b[0;34m\u001b[0m\u001b[0m\n",
      "\u001b[0;32m/opt/conda/lib/python3.6/socket.py\u001b[0m in \u001b[0;36mcreate_connection\u001b[0;34m(address, timeout, source_address)\u001b[0m\n\u001b[1;32m    703\u001b[0m     \u001b[0merr\u001b[0m \u001b[0;34m=\u001b[0m \u001b[0;32mNone\u001b[0m\u001b[0;34m\u001b[0m\u001b[0m\n\u001b[0;32m--> 704\u001b[0;31m     \u001b[0;32mfor\u001b[0m \u001b[0mres\u001b[0m \u001b[0;32min\u001b[0m \u001b[0mgetaddrinfo\u001b[0m\u001b[0;34m(\u001b[0m\u001b[0mhost\u001b[0m\u001b[0;34m,\u001b[0m \u001b[0mport\u001b[0m\u001b[0;34m,\u001b[0m \u001b[0;36m0\u001b[0m\u001b[0;34m,\u001b[0m \u001b[0mSOCK_STREAM\u001b[0m\u001b[0;34m)\u001b[0m\u001b[0;34m:\u001b[0m\u001b[0;34m\u001b[0m\u001b[0m\n\u001b[0m\u001b[1;32m    705\u001b[0m         \u001b[0maf\u001b[0m\u001b[0;34m,\u001b[0m \u001b[0msocktype\u001b[0m\u001b[0;34m,\u001b[0m \u001b[0mproto\u001b[0m\u001b[0;34m,\u001b[0m \u001b[0mcanonname\u001b[0m\u001b[0;34m,\u001b[0m \u001b[0msa\u001b[0m \u001b[0;34m=\u001b[0m \u001b[0mres\u001b[0m\u001b[0;34m\u001b[0m\u001b[0m\n",
      "\u001b[0;32m/opt/conda/lib/python3.6/socket.py\u001b[0m in \u001b[0;36mgetaddrinfo\u001b[0;34m(host, port, family, type, proto, flags)\u001b[0m\n\u001b[1;32m    744\u001b[0m     \u001b[0maddrlist\u001b[0m \u001b[0;34m=\u001b[0m \u001b[0;34m[\u001b[0m\u001b[0;34m]\u001b[0m\u001b[0;34m\u001b[0m\u001b[0m\n\u001b[0;32m--> 745\u001b[0;31m     \u001b[0;32mfor\u001b[0m \u001b[0mres\u001b[0m \u001b[0;32min\u001b[0m \u001b[0m_socket\u001b[0m\u001b[0;34m.\u001b[0m\u001b[0mgetaddrinfo\u001b[0m\u001b[0;34m(\u001b[0m\u001b[0mhost\u001b[0m\u001b[0;34m,\u001b[0m \u001b[0mport\u001b[0m\u001b[0;34m,\u001b[0m \u001b[0mfamily\u001b[0m\u001b[0;34m,\u001b[0m \u001b[0mtype\u001b[0m\u001b[0;34m,\u001b[0m \u001b[0mproto\u001b[0m\u001b[0;34m,\u001b[0m \u001b[0mflags\u001b[0m\u001b[0;34m)\u001b[0m\u001b[0;34m:\u001b[0m\u001b[0;34m\u001b[0m\u001b[0m\n\u001b[0m\u001b[1;32m    746\u001b[0m         \u001b[0maf\u001b[0m\u001b[0;34m,\u001b[0m \u001b[0msocktype\u001b[0m\u001b[0;34m,\u001b[0m \u001b[0mproto\u001b[0m\u001b[0;34m,\u001b[0m \u001b[0mcanonname\u001b[0m\u001b[0;34m,\u001b[0m \u001b[0msa\u001b[0m \u001b[0;34m=\u001b[0m \u001b[0mres\u001b[0m\u001b[0;34m\u001b[0m\u001b[0m\n",
      "\u001b[0;31mgaierror\u001b[0m: [Errno -3] Temporary failure in name resolution",
      "\nDuring handling of the above exception, another exception occurred:\n",
      "\u001b[0;31mURLError\u001b[0m                                  Traceback (most recent call last)",
      "\u001b[0;32m<ipython-input-33-05343d5eeaff>\u001b[0m in \u001b[0;36m<module>\u001b[0;34m\u001b[0m\n\u001b[1;32m      1\u001b[0m \u001b[0;32mimport\u001b[0m \u001b[0mmatplotlib\u001b[0m\u001b[0;34m.\u001b[0m\u001b[0mpyplot\u001b[0m \u001b[0;32mas\u001b[0m \u001b[0mplt\u001b[0m\u001b[0;34m\u001b[0m\u001b[0m\n\u001b[0;32m----> 2\u001b[0;31m \u001b[0mnyc_map\u001b[0m \u001b[0;34m=\u001b[0m \u001b[0mplt\u001b[0m\u001b[0;34m.\u001b[0m\u001b[0mimread\u001b[0m\u001b[0;34m(\u001b[0m\u001b[0;34m'https://aiblog.nl/download/nyc_-74.5_-72.8_40.5_41.8.png'\u001b[0m\u001b[0;34m)\u001b[0m\u001b[0;34m\u001b[0m\u001b[0m\n\u001b[0m",
      "\u001b[0;32m/opt/conda/lib/python3.6/site-packages/matplotlib/pyplot.py\u001b[0m in \u001b[0;36mimread\u001b[0;34m(fname, format)\u001b[0m\n\u001b[1;32m   2150\u001b[0m \u001b[0;34m@\u001b[0m\u001b[0mdocstring\u001b[0m\u001b[0;34m.\u001b[0m\u001b[0mcopy_dedent\u001b[0m\u001b[0;34m(\u001b[0m\u001b[0mmatplotlib\u001b[0m\u001b[0;34m.\u001b[0m\u001b[0mimage\u001b[0m\u001b[0;34m.\u001b[0m\u001b[0mimread\u001b[0m\u001b[0;34m)\u001b[0m\u001b[0;34m\u001b[0m\u001b[0m\n\u001b[1;32m   2151\u001b[0m \u001b[0;32mdef\u001b[0m \u001b[0mimread\u001b[0m\u001b[0;34m(\u001b[0m\u001b[0mfname\u001b[0m\u001b[0;34m,\u001b[0m \u001b[0mformat\u001b[0m\u001b[0;34m=\u001b[0m\u001b[0;32mNone\u001b[0m\u001b[0;34m)\u001b[0m\u001b[0;34m:\u001b[0m\u001b[0;34m\u001b[0m\u001b[0m\n\u001b[0;32m-> 2152\u001b[0;31m     \u001b[0;32mreturn\u001b[0m \u001b[0mmatplotlib\u001b[0m\u001b[0;34m.\u001b[0m\u001b[0mimage\u001b[0m\u001b[0;34m.\u001b[0m\u001b[0mimread\u001b[0m\u001b[0;34m(\u001b[0m\u001b[0mfname\u001b[0m\u001b[0;34m,\u001b[0m \u001b[0mformat\u001b[0m\u001b[0;34m)\u001b[0m\u001b[0;34m\u001b[0m\u001b[0m\n\u001b[0m\u001b[1;32m   2153\u001b[0m \u001b[0;34m\u001b[0m\u001b[0m\n\u001b[1;32m   2154\u001b[0m \u001b[0;34m\u001b[0m\u001b[0m\n",
      "\u001b[0;32m/opt/conda/lib/python3.6/site-packages/matplotlib/image.py\u001b[0m in \u001b[0;36mimread\u001b[0;34m(fname, format)\u001b[0m\n\u001b[1;32m   1361\u001b[0m         \u001b[0;31m# If fname is a URL, download the data\u001b[0m\u001b[0;34m\u001b[0m\u001b[0;34m\u001b[0m\u001b[0m\n\u001b[1;32m   1362\u001b[0m         \u001b[0;32mif\u001b[0m \u001b[0mlen\u001b[0m\u001b[0;34m(\u001b[0m\u001b[0mparsed\u001b[0m\u001b[0;34m.\u001b[0m\u001b[0mscheme\u001b[0m\u001b[0;34m)\u001b[0m \u001b[0;34m>\u001b[0m \u001b[0;36m1\u001b[0m\u001b[0;34m:\u001b[0m\u001b[0;34m\u001b[0m\u001b[0m\n\u001b[0;32m-> 1363\u001b[0;31m             \u001b[0mfd\u001b[0m \u001b[0;34m=\u001b[0m \u001b[0mBytesIO\u001b[0m\u001b[0;34m(\u001b[0m\u001b[0murllib\u001b[0m\u001b[0;34m.\u001b[0m\u001b[0mrequest\u001b[0m\u001b[0;34m.\u001b[0m\u001b[0murlopen\u001b[0m\u001b[0;34m(\u001b[0m\u001b[0mfname\u001b[0m\u001b[0;34m)\u001b[0m\u001b[0;34m.\u001b[0m\u001b[0mread\u001b[0m\u001b[0;34m(\u001b[0m\u001b[0;34m)\u001b[0m\u001b[0;34m)\u001b[0m\u001b[0;34m\u001b[0m\u001b[0m\n\u001b[0m\u001b[1;32m   1364\u001b[0m             \u001b[0;32mreturn\u001b[0m \u001b[0mhandler\u001b[0m\u001b[0;34m(\u001b[0m\u001b[0mfd\u001b[0m\u001b[0;34m)\u001b[0m\u001b[0;34m\u001b[0m\u001b[0m\n\u001b[1;32m   1365\u001b[0m         \u001b[0;32melse\u001b[0m\u001b[0;34m:\u001b[0m\u001b[0;34m\u001b[0m\u001b[0m\n",
      "\u001b[0;32m/opt/conda/lib/python3.6/urllib/request.py\u001b[0m in \u001b[0;36murlopen\u001b[0;34m(url, data, timeout, cafile, capath, cadefault, context)\u001b[0m\n\u001b[1;32m    221\u001b[0m     \u001b[0;32melse\u001b[0m\u001b[0;34m:\u001b[0m\u001b[0;34m\u001b[0m\u001b[0m\n\u001b[1;32m    222\u001b[0m         \u001b[0mopener\u001b[0m \u001b[0;34m=\u001b[0m \u001b[0m_opener\u001b[0m\u001b[0;34m\u001b[0m\u001b[0m\n\u001b[0;32m--> 223\u001b[0;31m     \u001b[0;32mreturn\u001b[0m \u001b[0mopener\u001b[0m\u001b[0;34m.\u001b[0m\u001b[0mopen\u001b[0m\u001b[0;34m(\u001b[0m\u001b[0murl\u001b[0m\u001b[0;34m,\u001b[0m \u001b[0mdata\u001b[0m\u001b[0;34m,\u001b[0m \u001b[0mtimeout\u001b[0m\u001b[0;34m)\u001b[0m\u001b[0;34m\u001b[0m\u001b[0m\n\u001b[0m\u001b[1;32m    224\u001b[0m \u001b[0;34m\u001b[0m\u001b[0m\n\u001b[1;32m    225\u001b[0m \u001b[0;32mdef\u001b[0m \u001b[0minstall_opener\u001b[0m\u001b[0;34m(\u001b[0m\u001b[0mopener\u001b[0m\u001b[0;34m)\u001b[0m\u001b[0;34m:\u001b[0m\u001b[0;34m\u001b[0m\u001b[0m\n",
      "\u001b[0;32m/opt/conda/lib/python3.6/urllib/request.py\u001b[0m in \u001b[0;36mopen\u001b[0;34m(self, fullurl, data, timeout)\u001b[0m\n\u001b[1;32m    524\u001b[0m             \u001b[0mreq\u001b[0m \u001b[0;34m=\u001b[0m \u001b[0mmeth\u001b[0m\u001b[0;34m(\u001b[0m\u001b[0mreq\u001b[0m\u001b[0;34m)\u001b[0m\u001b[0;34m\u001b[0m\u001b[0m\n\u001b[1;32m    525\u001b[0m \u001b[0;34m\u001b[0m\u001b[0m\n\u001b[0;32m--> 526\u001b[0;31m         \u001b[0mresponse\u001b[0m \u001b[0;34m=\u001b[0m \u001b[0mself\u001b[0m\u001b[0;34m.\u001b[0m\u001b[0m_open\u001b[0m\u001b[0;34m(\u001b[0m\u001b[0mreq\u001b[0m\u001b[0;34m,\u001b[0m \u001b[0mdata\u001b[0m\u001b[0;34m)\u001b[0m\u001b[0;34m\u001b[0m\u001b[0m\n\u001b[0m\u001b[1;32m    527\u001b[0m \u001b[0;34m\u001b[0m\u001b[0m\n\u001b[1;32m    528\u001b[0m         \u001b[0;31m# post-process response\u001b[0m\u001b[0;34m\u001b[0m\u001b[0;34m\u001b[0m\u001b[0m\n",
      "\u001b[0;32m/opt/conda/lib/python3.6/urllib/request.py\u001b[0m in \u001b[0;36m_open\u001b[0;34m(self, req, data)\u001b[0m\n\u001b[1;32m    542\u001b[0m         \u001b[0mprotocol\u001b[0m \u001b[0;34m=\u001b[0m \u001b[0mreq\u001b[0m\u001b[0;34m.\u001b[0m\u001b[0mtype\u001b[0m\u001b[0;34m\u001b[0m\u001b[0m\n\u001b[1;32m    543\u001b[0m         result = self._call_chain(self.handle_open, protocol, protocol +\n\u001b[0;32m--> 544\u001b[0;31m                                   '_open', req)\n\u001b[0m\u001b[1;32m    545\u001b[0m         \u001b[0;32mif\u001b[0m \u001b[0mresult\u001b[0m\u001b[0;34m:\u001b[0m\u001b[0;34m\u001b[0m\u001b[0m\n\u001b[1;32m    546\u001b[0m             \u001b[0;32mreturn\u001b[0m \u001b[0mresult\u001b[0m\u001b[0;34m\u001b[0m\u001b[0m\n",
      "\u001b[0;32m/opt/conda/lib/python3.6/urllib/request.py\u001b[0m in \u001b[0;36m_call_chain\u001b[0;34m(self, chain, kind, meth_name, *args)\u001b[0m\n\u001b[1;32m    502\u001b[0m         \u001b[0;32mfor\u001b[0m \u001b[0mhandler\u001b[0m \u001b[0;32min\u001b[0m \u001b[0mhandlers\u001b[0m\u001b[0;34m:\u001b[0m\u001b[0;34m\u001b[0m\u001b[0m\n\u001b[1;32m    503\u001b[0m             \u001b[0mfunc\u001b[0m \u001b[0;34m=\u001b[0m \u001b[0mgetattr\u001b[0m\u001b[0;34m(\u001b[0m\u001b[0mhandler\u001b[0m\u001b[0;34m,\u001b[0m \u001b[0mmeth_name\u001b[0m\u001b[0;34m)\u001b[0m\u001b[0;34m\u001b[0m\u001b[0m\n\u001b[0;32m--> 504\u001b[0;31m             \u001b[0mresult\u001b[0m \u001b[0;34m=\u001b[0m \u001b[0mfunc\u001b[0m\u001b[0;34m(\u001b[0m\u001b[0;34m*\u001b[0m\u001b[0margs\u001b[0m\u001b[0;34m)\u001b[0m\u001b[0;34m\u001b[0m\u001b[0m\n\u001b[0m\u001b[1;32m    505\u001b[0m             \u001b[0;32mif\u001b[0m \u001b[0mresult\u001b[0m \u001b[0;32mis\u001b[0m \u001b[0;32mnot\u001b[0m \u001b[0;32mNone\u001b[0m\u001b[0;34m:\u001b[0m\u001b[0;34m\u001b[0m\u001b[0m\n\u001b[1;32m    506\u001b[0m                 \u001b[0;32mreturn\u001b[0m \u001b[0mresult\u001b[0m\u001b[0;34m\u001b[0m\u001b[0m\n",
      "\u001b[0;32m/opt/conda/lib/python3.6/urllib/request.py\u001b[0m in \u001b[0;36mhttps_open\u001b[0;34m(self, req)\u001b[0m\n\u001b[1;32m   1359\u001b[0m         \u001b[0;32mdef\u001b[0m \u001b[0mhttps_open\u001b[0m\u001b[0;34m(\u001b[0m\u001b[0mself\u001b[0m\u001b[0;34m,\u001b[0m \u001b[0mreq\u001b[0m\u001b[0;34m)\u001b[0m\u001b[0;34m:\u001b[0m\u001b[0;34m\u001b[0m\u001b[0m\n\u001b[1;32m   1360\u001b[0m             return self.do_open(http.client.HTTPSConnection, req,\n\u001b[0;32m-> 1361\u001b[0;31m                 context=self._context, check_hostname=self._check_hostname)\n\u001b[0m\u001b[1;32m   1362\u001b[0m \u001b[0;34m\u001b[0m\u001b[0m\n\u001b[1;32m   1363\u001b[0m         \u001b[0mhttps_request\u001b[0m \u001b[0;34m=\u001b[0m \u001b[0mAbstractHTTPHandler\u001b[0m\u001b[0;34m.\u001b[0m\u001b[0mdo_request_\u001b[0m\u001b[0;34m\u001b[0m\u001b[0m\n",
      "\u001b[0;32m/opt/conda/lib/python3.6/urllib/request.py\u001b[0m in \u001b[0;36mdo_open\u001b[0;34m(self, http_class, req, **http_conn_args)\u001b[0m\n\u001b[1;32m   1318\u001b[0m                           encode_chunked=req.has_header('Transfer-encoding'))\n\u001b[1;32m   1319\u001b[0m             \u001b[0;32mexcept\u001b[0m \u001b[0mOSError\u001b[0m \u001b[0;32mas\u001b[0m \u001b[0merr\u001b[0m\u001b[0;34m:\u001b[0m \u001b[0;31m# timeout error\u001b[0m\u001b[0;34m\u001b[0m\u001b[0m\n\u001b[0;32m-> 1320\u001b[0;31m                 \u001b[0;32mraise\u001b[0m \u001b[0mURLError\u001b[0m\u001b[0;34m(\u001b[0m\u001b[0merr\u001b[0m\u001b[0;34m)\u001b[0m\u001b[0;34m\u001b[0m\u001b[0m\n\u001b[0m\u001b[1;32m   1321\u001b[0m             \u001b[0mr\u001b[0m \u001b[0;34m=\u001b[0m \u001b[0mh\u001b[0m\u001b[0;34m.\u001b[0m\u001b[0mgetresponse\u001b[0m\u001b[0;34m(\u001b[0m\u001b[0;34m)\u001b[0m\u001b[0;34m\u001b[0m\u001b[0m\n\u001b[1;32m   1322\u001b[0m         \u001b[0;32mexcept\u001b[0m\u001b[0;34m:\u001b[0m\u001b[0;34m\u001b[0m\u001b[0m\n",
      "\u001b[0;31mURLError\u001b[0m: <urlopen error [Errno -3] Temporary failure in name resolution>"
     ]
    }
   ],
   "source": [
    "import matplotlib.pyplot as plt\n",
    "nyc_map = plt.imread('https://aiblog.nl/download/nyc_-74.5_-72.8_40.5_41.8.png')"
   ]
  },
  {
   "cell_type": "code",
   "execution_count": null,
   "metadata": {},
   "outputs": [],
   "source": []
  },
  {
   "cell_type": "code",
   "execution_count": 29,
   "metadata": {
    "_uuid": "72e773257a0ecbfa2b8e4d47eea52c650bbd302e"
   },
   "outputs": [
    {
     "ename": "URLError",
     "evalue": "<urlopen error [Errno -3] Temporary failure in name resolution>",
     "output_type": "error",
     "traceback": [
      "\u001b[0;31m---------------------------------------------------------------------------\u001b[0m",
      "\u001b[0;31mgaierror\u001b[0m                                  Traceback (most recent call last)",
      "\u001b[0;32m/opt/conda/lib/python3.6/urllib/request.py\u001b[0m in \u001b[0;36mdo_open\u001b[0;34m(self, http_class, req, **http_conn_args)\u001b[0m\n\u001b[1;32m   1317\u001b[0m                 h.request(req.get_method(), req.selector, req.data, headers,\n\u001b[0;32m-> 1318\u001b[0;31m                           encode_chunked=req.has_header('Transfer-encoding'))\n\u001b[0m\u001b[1;32m   1319\u001b[0m             \u001b[0;32mexcept\u001b[0m \u001b[0mOSError\u001b[0m \u001b[0;32mas\u001b[0m \u001b[0merr\u001b[0m\u001b[0;34m:\u001b[0m \u001b[0;31m# timeout error\u001b[0m\u001b[0;34m\u001b[0m\u001b[0m\n",
      "\u001b[0;32m/opt/conda/lib/python3.6/http/client.py\u001b[0m in \u001b[0;36mrequest\u001b[0;34m(self, method, url, body, headers, encode_chunked)\u001b[0m\n\u001b[1;32m   1238\u001b[0m         \u001b[0;34m\"\"\"Send a complete request to the server.\"\"\"\u001b[0m\u001b[0;34m\u001b[0m\u001b[0m\n\u001b[0;32m-> 1239\u001b[0;31m         \u001b[0mself\u001b[0m\u001b[0;34m.\u001b[0m\u001b[0m_send_request\u001b[0m\u001b[0;34m(\u001b[0m\u001b[0mmethod\u001b[0m\u001b[0;34m,\u001b[0m \u001b[0murl\u001b[0m\u001b[0;34m,\u001b[0m \u001b[0mbody\u001b[0m\u001b[0;34m,\u001b[0m \u001b[0mheaders\u001b[0m\u001b[0;34m,\u001b[0m \u001b[0mencode_chunked\u001b[0m\u001b[0;34m)\u001b[0m\u001b[0;34m\u001b[0m\u001b[0m\n\u001b[0m\u001b[1;32m   1240\u001b[0m \u001b[0;34m\u001b[0m\u001b[0m\n",
      "\u001b[0;32m/opt/conda/lib/python3.6/http/client.py\u001b[0m in \u001b[0;36m_send_request\u001b[0;34m(self, method, url, body, headers, encode_chunked)\u001b[0m\n\u001b[1;32m   1284\u001b[0m             \u001b[0mbody\u001b[0m \u001b[0;34m=\u001b[0m \u001b[0m_encode\u001b[0m\u001b[0;34m(\u001b[0m\u001b[0mbody\u001b[0m\u001b[0;34m,\u001b[0m \u001b[0;34m'body'\u001b[0m\u001b[0;34m)\u001b[0m\u001b[0;34m\u001b[0m\u001b[0m\n\u001b[0;32m-> 1285\u001b[0;31m         \u001b[0mself\u001b[0m\u001b[0;34m.\u001b[0m\u001b[0mendheaders\u001b[0m\u001b[0;34m(\u001b[0m\u001b[0mbody\u001b[0m\u001b[0;34m,\u001b[0m \u001b[0mencode_chunked\u001b[0m\u001b[0;34m=\u001b[0m\u001b[0mencode_chunked\u001b[0m\u001b[0;34m)\u001b[0m\u001b[0;34m\u001b[0m\u001b[0m\n\u001b[0m\u001b[1;32m   1286\u001b[0m \u001b[0;34m\u001b[0m\u001b[0m\n",
      "\u001b[0;32m/opt/conda/lib/python3.6/http/client.py\u001b[0m in \u001b[0;36mendheaders\u001b[0;34m(self, message_body, encode_chunked)\u001b[0m\n\u001b[1;32m   1233\u001b[0m             \u001b[0;32mraise\u001b[0m \u001b[0mCannotSendHeader\u001b[0m\u001b[0;34m(\u001b[0m\u001b[0;34m)\u001b[0m\u001b[0;34m\u001b[0m\u001b[0m\n\u001b[0;32m-> 1234\u001b[0;31m         \u001b[0mself\u001b[0m\u001b[0;34m.\u001b[0m\u001b[0m_send_output\u001b[0m\u001b[0;34m(\u001b[0m\u001b[0mmessage_body\u001b[0m\u001b[0;34m,\u001b[0m \u001b[0mencode_chunked\u001b[0m\u001b[0;34m=\u001b[0m\u001b[0mencode_chunked\u001b[0m\u001b[0;34m)\u001b[0m\u001b[0;34m\u001b[0m\u001b[0m\n\u001b[0m\u001b[1;32m   1235\u001b[0m \u001b[0;34m\u001b[0m\u001b[0m\n",
      "\u001b[0;32m/opt/conda/lib/python3.6/http/client.py\u001b[0m in \u001b[0;36m_send_output\u001b[0;34m(self, message_body, encode_chunked)\u001b[0m\n\u001b[1;32m   1025\u001b[0m         \u001b[0;32mdel\u001b[0m \u001b[0mself\u001b[0m\u001b[0;34m.\u001b[0m\u001b[0m_buffer\u001b[0m\u001b[0;34m[\u001b[0m\u001b[0;34m:\u001b[0m\u001b[0;34m]\u001b[0m\u001b[0;34m\u001b[0m\u001b[0m\n\u001b[0;32m-> 1026\u001b[0;31m         \u001b[0mself\u001b[0m\u001b[0;34m.\u001b[0m\u001b[0msend\u001b[0m\u001b[0;34m(\u001b[0m\u001b[0mmsg\u001b[0m\u001b[0;34m)\u001b[0m\u001b[0;34m\u001b[0m\u001b[0m\n\u001b[0m\u001b[1;32m   1027\u001b[0m \u001b[0;34m\u001b[0m\u001b[0m\n",
      "\u001b[0;32m/opt/conda/lib/python3.6/http/client.py\u001b[0m in \u001b[0;36msend\u001b[0;34m(self, data)\u001b[0m\n\u001b[1;32m    963\u001b[0m             \u001b[0;32mif\u001b[0m \u001b[0mself\u001b[0m\u001b[0;34m.\u001b[0m\u001b[0mauto_open\u001b[0m\u001b[0;34m:\u001b[0m\u001b[0;34m\u001b[0m\u001b[0m\n\u001b[0;32m--> 964\u001b[0;31m                 \u001b[0mself\u001b[0m\u001b[0;34m.\u001b[0m\u001b[0mconnect\u001b[0m\u001b[0;34m(\u001b[0m\u001b[0;34m)\u001b[0m\u001b[0;34m\u001b[0m\u001b[0m\n\u001b[0m\u001b[1;32m    965\u001b[0m             \u001b[0;32melse\u001b[0m\u001b[0;34m:\u001b[0m\u001b[0;34m\u001b[0m\u001b[0m\n",
      "\u001b[0;32m/opt/conda/lib/python3.6/http/client.py\u001b[0m in \u001b[0;36mconnect\u001b[0;34m(self)\u001b[0m\n\u001b[1;32m   1391\u001b[0m \u001b[0;34m\u001b[0m\u001b[0m\n\u001b[0;32m-> 1392\u001b[0;31m             \u001b[0msuper\u001b[0m\u001b[0;34m(\u001b[0m\u001b[0;34m)\u001b[0m\u001b[0;34m.\u001b[0m\u001b[0mconnect\u001b[0m\u001b[0;34m(\u001b[0m\u001b[0;34m)\u001b[0m\u001b[0;34m\u001b[0m\u001b[0m\n\u001b[0m\u001b[1;32m   1393\u001b[0m \u001b[0;34m\u001b[0m\u001b[0m\n",
      "\u001b[0;32m/opt/conda/lib/python3.6/http/client.py\u001b[0m in \u001b[0;36mconnect\u001b[0;34m(self)\u001b[0m\n\u001b[1;32m    935\u001b[0m         self.sock = self._create_connection(\n\u001b[0;32m--> 936\u001b[0;31m             (self.host,self.port), self.timeout, self.source_address)\n\u001b[0m\u001b[1;32m    937\u001b[0m         \u001b[0mself\u001b[0m\u001b[0;34m.\u001b[0m\u001b[0msock\u001b[0m\u001b[0;34m.\u001b[0m\u001b[0msetsockopt\u001b[0m\u001b[0;34m(\u001b[0m\u001b[0msocket\u001b[0m\u001b[0;34m.\u001b[0m\u001b[0mIPPROTO_TCP\u001b[0m\u001b[0;34m,\u001b[0m \u001b[0msocket\u001b[0m\u001b[0;34m.\u001b[0m\u001b[0mTCP_NODELAY\u001b[0m\u001b[0;34m,\u001b[0m \u001b[0;36m1\u001b[0m\u001b[0;34m)\u001b[0m\u001b[0;34m\u001b[0m\u001b[0m\n",
      "\u001b[0;32m/opt/conda/lib/python3.6/socket.py\u001b[0m in \u001b[0;36mcreate_connection\u001b[0;34m(address, timeout, source_address)\u001b[0m\n\u001b[1;32m    703\u001b[0m     \u001b[0merr\u001b[0m \u001b[0;34m=\u001b[0m \u001b[0;32mNone\u001b[0m\u001b[0;34m\u001b[0m\u001b[0m\n\u001b[0;32m--> 704\u001b[0;31m     \u001b[0;32mfor\u001b[0m \u001b[0mres\u001b[0m \u001b[0;32min\u001b[0m \u001b[0mgetaddrinfo\u001b[0m\u001b[0;34m(\u001b[0m\u001b[0mhost\u001b[0m\u001b[0;34m,\u001b[0m \u001b[0mport\u001b[0m\u001b[0;34m,\u001b[0m \u001b[0;36m0\u001b[0m\u001b[0;34m,\u001b[0m \u001b[0mSOCK_STREAM\u001b[0m\u001b[0;34m)\u001b[0m\u001b[0;34m:\u001b[0m\u001b[0;34m\u001b[0m\u001b[0m\n\u001b[0m\u001b[1;32m    705\u001b[0m         \u001b[0maf\u001b[0m\u001b[0;34m,\u001b[0m \u001b[0msocktype\u001b[0m\u001b[0;34m,\u001b[0m \u001b[0mproto\u001b[0m\u001b[0;34m,\u001b[0m \u001b[0mcanonname\u001b[0m\u001b[0;34m,\u001b[0m \u001b[0msa\u001b[0m \u001b[0;34m=\u001b[0m \u001b[0mres\u001b[0m\u001b[0;34m\u001b[0m\u001b[0m\n",
      "\u001b[0;32m/opt/conda/lib/python3.6/socket.py\u001b[0m in \u001b[0;36mgetaddrinfo\u001b[0;34m(host, port, family, type, proto, flags)\u001b[0m\n\u001b[1;32m    744\u001b[0m     \u001b[0maddrlist\u001b[0m \u001b[0;34m=\u001b[0m \u001b[0;34m[\u001b[0m\u001b[0;34m]\u001b[0m\u001b[0;34m\u001b[0m\u001b[0m\n\u001b[0;32m--> 745\u001b[0;31m     \u001b[0;32mfor\u001b[0m \u001b[0mres\u001b[0m \u001b[0;32min\u001b[0m \u001b[0m_socket\u001b[0m\u001b[0;34m.\u001b[0m\u001b[0mgetaddrinfo\u001b[0m\u001b[0;34m(\u001b[0m\u001b[0mhost\u001b[0m\u001b[0;34m,\u001b[0m \u001b[0mport\u001b[0m\u001b[0;34m,\u001b[0m \u001b[0mfamily\u001b[0m\u001b[0;34m,\u001b[0m \u001b[0mtype\u001b[0m\u001b[0;34m,\u001b[0m \u001b[0mproto\u001b[0m\u001b[0;34m,\u001b[0m \u001b[0mflags\u001b[0m\u001b[0;34m)\u001b[0m\u001b[0;34m:\u001b[0m\u001b[0;34m\u001b[0m\u001b[0m\n\u001b[0m\u001b[1;32m    746\u001b[0m         \u001b[0maf\u001b[0m\u001b[0;34m,\u001b[0m \u001b[0msocktype\u001b[0m\u001b[0;34m,\u001b[0m \u001b[0mproto\u001b[0m\u001b[0;34m,\u001b[0m \u001b[0mcanonname\u001b[0m\u001b[0;34m,\u001b[0m \u001b[0msa\u001b[0m \u001b[0;34m=\u001b[0m \u001b[0mres\u001b[0m\u001b[0;34m\u001b[0m\u001b[0m\n",
      "\u001b[0;31mgaierror\u001b[0m: [Errno -3] Temporary failure in name resolution",
      "\nDuring handling of the above exception, another exception occurred:\n",
      "\u001b[0;31mURLError\u001b[0m                                  Traceback (most recent call last)",
      "\u001b[0;32m<ipython-input-29-251e2318800a>\u001b[0m in \u001b[0;36m<module>\u001b[0;34m\u001b[0m\n\u001b[1;32m      8\u001b[0m \u001b[0;31m# load image of NYC map\u001b[0m\u001b[0;34m\u001b[0m\u001b[0;34m\u001b[0m\u001b[0m\n\u001b[1;32m      9\u001b[0m \u001b[0mBB\u001b[0m \u001b[0;34m=\u001b[0m \u001b[0;34m(\u001b[0m\u001b[0;34m-\u001b[0m\u001b[0;36m74.5\u001b[0m\u001b[0;34m,\u001b[0m \u001b[0;34m-\u001b[0m\u001b[0;36m72.8\u001b[0m\u001b[0;34m,\u001b[0m \u001b[0;36m40.5\u001b[0m\u001b[0;34m,\u001b[0m \u001b[0;36m41.8\u001b[0m\u001b[0;34m)\u001b[0m\u001b[0;34m\u001b[0m\u001b[0m\n\u001b[0;32m---> 10\u001b[0;31m \u001b[0mnyc_map\u001b[0m \u001b[0;34m=\u001b[0m \u001b[0mplt\u001b[0m\u001b[0;34m.\u001b[0m\u001b[0mimread\u001b[0m\u001b[0;34m(\u001b[0m\u001b[0;34m'https://aiblog.nl/download/nyc_-74.5_-72.8_40.5_41.8.png'\u001b[0m\u001b[0;34m)\u001b[0m\u001b[0;34m\u001b[0m\u001b[0m\n\u001b[0m\u001b[1;32m     11\u001b[0m \u001b[0;31m# load extra image to zoom in on NYC\u001b[0m\u001b[0;34m\u001b[0m\u001b[0;34m\u001b[0m\u001b[0m\n\u001b[1;32m     12\u001b[0m \u001b[0mBB_zoom\u001b[0m \u001b[0;34m=\u001b[0m \u001b[0;34m(\u001b[0m\u001b[0;34m-\u001b[0m\u001b[0;36m74.3\u001b[0m\u001b[0;34m,\u001b[0m \u001b[0;34m-\u001b[0m\u001b[0;36m73.7\u001b[0m\u001b[0;34m,\u001b[0m \u001b[0;36m40.5\u001b[0m\u001b[0;34m,\u001b[0m \u001b[0;36m40.9\u001b[0m\u001b[0;34m)\u001b[0m\u001b[0;34m\u001b[0m\u001b[0m\n",
      "\u001b[0;32m/opt/conda/lib/python3.6/site-packages/matplotlib/pyplot.py\u001b[0m in \u001b[0;36mimread\u001b[0;34m(fname, format)\u001b[0m\n\u001b[1;32m   2150\u001b[0m \u001b[0;34m@\u001b[0m\u001b[0mdocstring\u001b[0m\u001b[0;34m.\u001b[0m\u001b[0mcopy_dedent\u001b[0m\u001b[0;34m(\u001b[0m\u001b[0mmatplotlib\u001b[0m\u001b[0;34m.\u001b[0m\u001b[0mimage\u001b[0m\u001b[0;34m.\u001b[0m\u001b[0mimread\u001b[0m\u001b[0;34m)\u001b[0m\u001b[0;34m\u001b[0m\u001b[0m\n\u001b[1;32m   2151\u001b[0m \u001b[0;32mdef\u001b[0m \u001b[0mimread\u001b[0m\u001b[0;34m(\u001b[0m\u001b[0mfname\u001b[0m\u001b[0;34m,\u001b[0m \u001b[0mformat\u001b[0m\u001b[0;34m=\u001b[0m\u001b[0;32mNone\u001b[0m\u001b[0;34m)\u001b[0m\u001b[0;34m:\u001b[0m\u001b[0;34m\u001b[0m\u001b[0m\n\u001b[0;32m-> 2152\u001b[0;31m     \u001b[0;32mreturn\u001b[0m \u001b[0mmatplotlib\u001b[0m\u001b[0;34m.\u001b[0m\u001b[0mimage\u001b[0m\u001b[0;34m.\u001b[0m\u001b[0mimread\u001b[0m\u001b[0;34m(\u001b[0m\u001b[0mfname\u001b[0m\u001b[0;34m,\u001b[0m \u001b[0mformat\u001b[0m\u001b[0;34m)\u001b[0m\u001b[0;34m\u001b[0m\u001b[0m\n\u001b[0m\u001b[1;32m   2153\u001b[0m \u001b[0;34m\u001b[0m\u001b[0m\n\u001b[1;32m   2154\u001b[0m \u001b[0;34m\u001b[0m\u001b[0m\n",
      "\u001b[0;32m/opt/conda/lib/python3.6/site-packages/matplotlib/image.py\u001b[0m in \u001b[0;36mimread\u001b[0;34m(fname, format)\u001b[0m\n\u001b[1;32m   1361\u001b[0m         \u001b[0;31m# If fname is a URL, download the data\u001b[0m\u001b[0;34m\u001b[0m\u001b[0;34m\u001b[0m\u001b[0m\n\u001b[1;32m   1362\u001b[0m         \u001b[0;32mif\u001b[0m \u001b[0mlen\u001b[0m\u001b[0;34m(\u001b[0m\u001b[0mparsed\u001b[0m\u001b[0;34m.\u001b[0m\u001b[0mscheme\u001b[0m\u001b[0;34m)\u001b[0m \u001b[0;34m>\u001b[0m \u001b[0;36m1\u001b[0m\u001b[0;34m:\u001b[0m\u001b[0;34m\u001b[0m\u001b[0m\n\u001b[0;32m-> 1363\u001b[0;31m             \u001b[0mfd\u001b[0m \u001b[0;34m=\u001b[0m \u001b[0mBytesIO\u001b[0m\u001b[0;34m(\u001b[0m\u001b[0murllib\u001b[0m\u001b[0;34m.\u001b[0m\u001b[0mrequest\u001b[0m\u001b[0;34m.\u001b[0m\u001b[0murlopen\u001b[0m\u001b[0;34m(\u001b[0m\u001b[0mfname\u001b[0m\u001b[0;34m)\u001b[0m\u001b[0;34m.\u001b[0m\u001b[0mread\u001b[0m\u001b[0;34m(\u001b[0m\u001b[0;34m)\u001b[0m\u001b[0;34m)\u001b[0m\u001b[0;34m\u001b[0m\u001b[0m\n\u001b[0m\u001b[1;32m   1364\u001b[0m             \u001b[0;32mreturn\u001b[0m \u001b[0mhandler\u001b[0m\u001b[0;34m(\u001b[0m\u001b[0mfd\u001b[0m\u001b[0;34m)\u001b[0m\u001b[0;34m\u001b[0m\u001b[0m\n\u001b[1;32m   1365\u001b[0m         \u001b[0;32melse\u001b[0m\u001b[0;34m:\u001b[0m\u001b[0;34m\u001b[0m\u001b[0m\n",
      "\u001b[0;32m/opt/conda/lib/python3.6/urllib/request.py\u001b[0m in \u001b[0;36murlopen\u001b[0;34m(url, data, timeout, cafile, capath, cadefault, context)\u001b[0m\n\u001b[1;32m    221\u001b[0m     \u001b[0;32melse\u001b[0m\u001b[0;34m:\u001b[0m\u001b[0;34m\u001b[0m\u001b[0m\n\u001b[1;32m    222\u001b[0m         \u001b[0mopener\u001b[0m \u001b[0;34m=\u001b[0m \u001b[0m_opener\u001b[0m\u001b[0;34m\u001b[0m\u001b[0m\n\u001b[0;32m--> 223\u001b[0;31m     \u001b[0;32mreturn\u001b[0m \u001b[0mopener\u001b[0m\u001b[0;34m.\u001b[0m\u001b[0mopen\u001b[0m\u001b[0;34m(\u001b[0m\u001b[0murl\u001b[0m\u001b[0;34m,\u001b[0m \u001b[0mdata\u001b[0m\u001b[0;34m,\u001b[0m \u001b[0mtimeout\u001b[0m\u001b[0;34m)\u001b[0m\u001b[0;34m\u001b[0m\u001b[0m\n\u001b[0m\u001b[1;32m    224\u001b[0m \u001b[0;34m\u001b[0m\u001b[0m\n\u001b[1;32m    225\u001b[0m \u001b[0;32mdef\u001b[0m \u001b[0minstall_opener\u001b[0m\u001b[0;34m(\u001b[0m\u001b[0mopener\u001b[0m\u001b[0;34m)\u001b[0m\u001b[0;34m:\u001b[0m\u001b[0;34m\u001b[0m\u001b[0m\n",
      "\u001b[0;32m/opt/conda/lib/python3.6/urllib/request.py\u001b[0m in \u001b[0;36mopen\u001b[0;34m(self, fullurl, data, timeout)\u001b[0m\n\u001b[1;32m    524\u001b[0m             \u001b[0mreq\u001b[0m \u001b[0;34m=\u001b[0m \u001b[0mmeth\u001b[0m\u001b[0;34m(\u001b[0m\u001b[0mreq\u001b[0m\u001b[0;34m)\u001b[0m\u001b[0;34m\u001b[0m\u001b[0m\n\u001b[1;32m    525\u001b[0m \u001b[0;34m\u001b[0m\u001b[0m\n\u001b[0;32m--> 526\u001b[0;31m         \u001b[0mresponse\u001b[0m \u001b[0;34m=\u001b[0m \u001b[0mself\u001b[0m\u001b[0;34m.\u001b[0m\u001b[0m_open\u001b[0m\u001b[0;34m(\u001b[0m\u001b[0mreq\u001b[0m\u001b[0;34m,\u001b[0m \u001b[0mdata\u001b[0m\u001b[0;34m)\u001b[0m\u001b[0;34m\u001b[0m\u001b[0m\n\u001b[0m\u001b[1;32m    527\u001b[0m \u001b[0;34m\u001b[0m\u001b[0m\n\u001b[1;32m    528\u001b[0m         \u001b[0;31m# post-process response\u001b[0m\u001b[0;34m\u001b[0m\u001b[0;34m\u001b[0m\u001b[0m\n",
      "\u001b[0;32m/opt/conda/lib/python3.6/urllib/request.py\u001b[0m in \u001b[0;36m_open\u001b[0;34m(self, req, data)\u001b[0m\n\u001b[1;32m    542\u001b[0m         \u001b[0mprotocol\u001b[0m \u001b[0;34m=\u001b[0m \u001b[0mreq\u001b[0m\u001b[0;34m.\u001b[0m\u001b[0mtype\u001b[0m\u001b[0;34m\u001b[0m\u001b[0m\n\u001b[1;32m    543\u001b[0m         result = self._call_chain(self.handle_open, protocol, protocol +\n\u001b[0;32m--> 544\u001b[0;31m                                   '_open', req)\n\u001b[0m\u001b[1;32m    545\u001b[0m         \u001b[0;32mif\u001b[0m \u001b[0mresult\u001b[0m\u001b[0;34m:\u001b[0m\u001b[0;34m\u001b[0m\u001b[0m\n\u001b[1;32m    546\u001b[0m             \u001b[0;32mreturn\u001b[0m \u001b[0mresult\u001b[0m\u001b[0;34m\u001b[0m\u001b[0m\n",
      "\u001b[0;32m/opt/conda/lib/python3.6/urllib/request.py\u001b[0m in \u001b[0;36m_call_chain\u001b[0;34m(self, chain, kind, meth_name, *args)\u001b[0m\n\u001b[1;32m    502\u001b[0m         \u001b[0;32mfor\u001b[0m \u001b[0mhandler\u001b[0m \u001b[0;32min\u001b[0m \u001b[0mhandlers\u001b[0m\u001b[0;34m:\u001b[0m\u001b[0;34m\u001b[0m\u001b[0m\n\u001b[1;32m    503\u001b[0m             \u001b[0mfunc\u001b[0m \u001b[0;34m=\u001b[0m \u001b[0mgetattr\u001b[0m\u001b[0;34m(\u001b[0m\u001b[0mhandler\u001b[0m\u001b[0;34m,\u001b[0m \u001b[0mmeth_name\u001b[0m\u001b[0;34m)\u001b[0m\u001b[0;34m\u001b[0m\u001b[0m\n\u001b[0;32m--> 504\u001b[0;31m             \u001b[0mresult\u001b[0m \u001b[0;34m=\u001b[0m \u001b[0mfunc\u001b[0m\u001b[0;34m(\u001b[0m\u001b[0;34m*\u001b[0m\u001b[0margs\u001b[0m\u001b[0;34m)\u001b[0m\u001b[0;34m\u001b[0m\u001b[0m\n\u001b[0m\u001b[1;32m    505\u001b[0m             \u001b[0;32mif\u001b[0m \u001b[0mresult\u001b[0m \u001b[0;32mis\u001b[0m \u001b[0;32mnot\u001b[0m \u001b[0;32mNone\u001b[0m\u001b[0;34m:\u001b[0m\u001b[0;34m\u001b[0m\u001b[0m\n\u001b[1;32m    506\u001b[0m                 \u001b[0;32mreturn\u001b[0m \u001b[0mresult\u001b[0m\u001b[0;34m\u001b[0m\u001b[0m\n",
      "\u001b[0;32m/opt/conda/lib/python3.6/urllib/request.py\u001b[0m in \u001b[0;36mhttps_open\u001b[0;34m(self, req)\u001b[0m\n\u001b[1;32m   1359\u001b[0m         \u001b[0;32mdef\u001b[0m \u001b[0mhttps_open\u001b[0m\u001b[0;34m(\u001b[0m\u001b[0mself\u001b[0m\u001b[0;34m,\u001b[0m \u001b[0mreq\u001b[0m\u001b[0;34m)\u001b[0m\u001b[0;34m:\u001b[0m\u001b[0;34m\u001b[0m\u001b[0m\n\u001b[1;32m   1360\u001b[0m             return self.do_open(http.client.HTTPSConnection, req,\n\u001b[0;32m-> 1361\u001b[0;31m                 context=self._context, check_hostname=self._check_hostname)\n\u001b[0m\u001b[1;32m   1362\u001b[0m \u001b[0;34m\u001b[0m\u001b[0m\n\u001b[1;32m   1363\u001b[0m         \u001b[0mhttps_request\u001b[0m \u001b[0;34m=\u001b[0m \u001b[0mAbstractHTTPHandler\u001b[0m\u001b[0;34m.\u001b[0m\u001b[0mdo_request_\u001b[0m\u001b[0;34m\u001b[0m\u001b[0m\n",
      "\u001b[0;32m/opt/conda/lib/python3.6/urllib/request.py\u001b[0m in \u001b[0;36mdo_open\u001b[0;34m(self, http_class, req, **http_conn_args)\u001b[0m\n\u001b[1;32m   1318\u001b[0m                           encode_chunked=req.has_header('Transfer-encoding'))\n\u001b[1;32m   1319\u001b[0m             \u001b[0;32mexcept\u001b[0m \u001b[0mOSError\u001b[0m \u001b[0;32mas\u001b[0m \u001b[0merr\u001b[0m\u001b[0;34m:\u001b[0m \u001b[0;31m# timeout error\u001b[0m\u001b[0;34m\u001b[0m\u001b[0m\n\u001b[0;32m-> 1320\u001b[0;31m                 \u001b[0;32mraise\u001b[0m \u001b[0mURLError\u001b[0m\u001b[0;34m(\u001b[0m\u001b[0merr\u001b[0m\u001b[0;34m)\u001b[0m\u001b[0;34m\u001b[0m\u001b[0m\n\u001b[0m\u001b[1;32m   1321\u001b[0m             \u001b[0mr\u001b[0m \u001b[0;34m=\u001b[0m \u001b[0mh\u001b[0m\u001b[0;34m.\u001b[0m\u001b[0mgetresponse\u001b[0m\u001b[0;34m(\u001b[0m\u001b[0;34m)\u001b[0m\u001b[0;34m\u001b[0m\u001b[0m\n\u001b[1;32m   1322\u001b[0m         \u001b[0;32mexcept\u001b[0m\u001b[0;34m:\u001b[0m\u001b[0;34m\u001b[0m\u001b[0m\n",
      "\u001b[0;31mURLError\u001b[0m: <urlopen error [Errno -3] Temporary failure in name resolution>"
     ]
    }
   ],
   "source": [
    "# this function will also be used with the test set below\n",
    "def select_within_boundingbox(df, BB):\n",
    "    return (df.pickup_longitude >= BB[0]) & (df.pickup_longitude <= BB[1]) & \\\n",
    "           (df.pickup_latitude >= BB[2]) & (df.pickup_latitude <= BB[3]) & \\\n",
    "           (df.dropoff_longitude >= BB[0]) & (df.dropoff_longitude <= BB[1]) & \\\n",
    "           (df.dropoff_latitude >= BB[2]) & (df.dropoff_latitude <= BB[3])\n",
    "\n",
    "# load image of NYC map\n",
    "BB = (-74.5, -72.8, 40.5, 41.8)\n",
    "nyc_map = plt.imread('https://aiblog.nl/download/nyc_-74.5_-72.8_40.5_41.8.png')\n",
    "# load extra image to zoom in on NYC\n",
    "BB_zoom = (-74.3, -73.7, 40.5, 40.9)\n",
    "nyc_map_zoom = plt.imread('https://aiblog.nl/download/nyc_-74.3_-73.7_40.5_40.9.png')"
   ]
  },
  {
   "cell_type": "code",
   "execution_count": null,
   "metadata": {
    "_uuid": "6652992e7cb83cdaa22f288ff387326ad94c4e75"
   },
   "outputs": [],
   "source": [
    "print('Old size: %d' % len(df_train))\n",
    "df_train = df_train[select_within_boundingbox(df_train, BB)]\n",
    "print('New size: %d' % len(df_train))"
   ]
  },
  {
   "cell_type": "code",
   "execution_count": null,
   "metadata": {
    "_uuid": "7f8db4e178399b3e66fe0d6e3055adb8927f9c35"
   },
   "outputs": [],
   "source": [
    "# this function will be used more often to plot data on the NYC map\n",
    "def plot_on_map(df, BB, nyc_map, s=10, alpha=0.2):\n",
    "    fig, axs = plt.subplots(1, 2, figsize=(16,10))\n",
    "    axs[0].scatter(df.pickup_longitude, df.pickup_latitude, zorder=1, alpha=alpha, c='r', s=s)\n",
    "    axs[0].set_xlim((BB[0], BB[1]))\n",
    "    axs[0].set_ylim((BB[2], BB[3]))\n",
    "    axs[0].set_title('Pickup locations')\n",
    "    axs[0].imshow(nyc_map, zorder=0, extent=BB)\n",
    "\n",
    "    axs[1].scatter(df.dropoff_longitude, df.dropoff_latitude, zorder=1, alpha=alpha, c='r', s=s)\n",
    "    axs[1].set_xlim((BB[0], BB[1]))\n",
    "    axs[1].set_ylim((BB[2], BB[3]))\n",
    "    axs[1].set_title('Dropoff locations')\n",
    "    axs[1].imshow(nyc_map, zorder=0, extent=BB)"
   ]
  },
  {
   "cell_type": "code",
   "execution_count": null,
   "metadata": {
    "_uuid": "96275cee1ea21ecb6453f4c664a649c747a38788"
   },
   "outputs": [],
   "source": [
    "# plot training data on map\n",
    "plot_on_map(df_train, BB, nyc_map, s=1, alpha=0.3)"
   ]
  },
  {
   "cell_type": "code",
   "execution_count": null,
   "metadata": {
    "_uuid": "98304d3e879df159c39508e381d1a93022052a6f"
   },
   "outputs": [],
   "source": [
    "# plot training data on map zoomed in\n",
    "plot_on_map(df_train, BB_zoom, nyc_map_zoom, s=1, alpha=0.3)"
   ]
  },
  {
   "cell_type": "code",
   "execution_count": null,
   "metadata": {
    "_uuid": "fbb36d6065efe28a97ef323e69f1ce5eb66fa6f8"
   },
   "outputs": [],
   "source": [
    "# plot test data on map\n",
    "plot_on_map(df_test, BB, nyc_map, alpha=1.0, s=20)"
   ]
  },
  {
   "cell_type": "markdown",
   "metadata": {
    "_uuid": "c73572469d74e4e8a81f8bed7f70f6f0b9924a61"
   },
   "source": [
    "From the training data scatter plot we see that some locations are in the water. Either these are considered as noise, or we drop them from the dataset. I decided to drop them (see next section).\n",
    "\n",
    "An other interesting way to visualize the data I learned from this kernel: https://www.kaggle.com/drgilermo/dynamics-of-new-york-city-animation. By using very small dot sizes the actual streets of New York become visible."
   ]
  },
  {
   "cell_type": "code",
   "execution_count": null,
   "metadata": {
    "_uuid": "31d9df881c9aa64dd401a285140c4385cf688f32"
   },
   "outputs": [],
   "source": [
    "def plot_hires(df, BB, figsize=(12, 12), ax=None, c=('r', 'b')):\n",
    "    if ax == None:\n",
    "        fig, ax = plt.subplots(1, 1, figsize=figsize)\n",
    "    idx = select_within_boundingbox(df, BB)\n",
    "    ax.scatter(df[idx].pickup_longitude, df[idx].pickup_latitude, c=c[0], s=0.01, alpha=0.5)\n",
    "    ax.scatter(df[idx].dropoff_longitude, \n",
    "               df[idx].dropoff_latitude,\n",
    "               c=c[1], s=0.01, alpha=0.5)"
   ]
  },
  {
   "cell_type": "code",
   "execution_count": null,
   "metadata": {
    "_uuid": "e1060c21ebec1dda8567fcca3606a4ec41ad6ede"
   },
   "outputs": [],
   "source": [
    "plot_hires(df_train, (-74.1, -73.7, 40.6, 40.9))\n",
    "plot_hires(df_train, (-74, -73.95, 40.7, 40.8))"
   ]
  },
  {
   "cell_type": "markdown",
   "metadata": {
    "_uuid": "14b04d875ee8f66f01b98262625f5432505cd981"
   },
   "source": [
    "## Removing datapoints in water\n",
    "As can be seen from the map + scatter plots above, some datapoints are located in the water. These are obviously noisy datapoints. To remove these datapoints, I create a boolean land/water map from the NYC map. For this I used Photoshop to threshold on the blue color of the water and to cleanup the map. The resulting map is show below."
   ]
  },
  {
   "cell_type": "code",
   "execution_count": null,
   "metadata": {
    "_uuid": "978e1d6ee3ff5fa2a67789f20f5c8888818b9740"
   },
   "outputs": [],
   "source": [
    "# read nyc mask and turn into boolean map with\n",
    "# land = True, water = False\n",
    "nyc_mask = plt.imread('https://aiblog.nl/download/nyc_mask-74.5_-72.8_40.5_41.8.png')[:,:,0] > 0.9\n",
    "\n",
    "plt.figure(figsize=(8,8))\n",
    "plt.imshow(nyc_map, zorder=0)\n",
    "plt.imshow(nyc_mask, zorder=1, alpha=0.7); # note: True is show in black, False in white."
   ]
  },
  {
   "cell_type": "markdown",
   "metadata": {
    "_uuid": "80042ec757a645d5220acd2123a34984388f98af"
   },
   "source": [
    "Next, I need to convert longitude/latitude coordinates to xy pixel coordinates. The function lonlat_to_xy implements this transformation. Note that the y coordinate needs to be reversed as the image y-axis is directed from top to bottom.\n",
    "\n",
    "Once for all datapoints the xy pixel coordinates are calculate a boolean index is calculated using the NYC mask."
   ]
  },
  {
   "cell_type": "code",
   "execution_count": null,
   "metadata": {
    "_uuid": "aac888cc7d3da1d11fafaff8a9dd27fe8dbbc1a4"
   },
   "outputs": [],
   "source": [
    "# translate longitude/latitude coordinate into image xy coordinate\n",
    "def lonlat_to_xy(longitude, latitude, dx, dy, BB):\n",
    "    return (dx*(longitude - BB[0])/(BB[1]-BB[0])).astype('int'), \\\n",
    "           (dy - dy*(latitude - BB[2])/(BB[3]-BB[2])).astype('int')"
   ]
  },
  {
   "cell_type": "code",
   "execution_count": null,
   "metadata": {
    "_uuid": "47e4bdabbe01a628e16d6917a8217b75ee98cb67"
   },
   "outputs": [],
   "source": [
    "pickup_x, pickup_y = lonlat_to_xy(df_train.pickup_longitude, df_train.pickup_latitude, \n",
    "                                  nyc_mask.shape[1], nyc_mask.shape[0], BB)\n",
    "dropoff_x, dropoff_y = lonlat_to_xy(df_train.dropoff_longitude, df_train.dropoff_latitude, \n",
    "                                  nyc_mask.shape[1], nyc_mask.shape[0], BB)"
   ]
  },
  {
   "cell_type": "code",
   "execution_count": null,
   "metadata": {
    "_uuid": "53fbc7ca9c45629c76b674e73a7455a4da63a732"
   },
   "outputs": [],
   "source": [
    "idx = (nyc_mask[pickup_y, pickup_x] & nyc_mask[dropoff_y, dropoff_x])\n",
    "print(\"Number of trips in water: {}\".format(np.sum(~idx)))"
   ]
  },
  {
   "cell_type": "markdown",
   "metadata": {
    "_uuid": "6387ae7bf338b1bb3bcc255dc2488992eb8ce347"
   },
   "source": [
    "Finally I create one function that can be reused to remove datapoints from water."
   ]
  },
  {
   "cell_type": "code",
   "execution_count": null,
   "metadata": {
    "_uuid": "a98c25e83a98ebfa425d1af2c4c294d856936841"
   },
   "outputs": [],
   "source": [
    "def remove_datapoints_from_water(df):\n",
    "    def lonlat_to_xy(longitude, latitude, dx, dy, BB):\n",
    "        return (dx*(longitude - BB[0])/(BB[1]-BB[0])).astype('int'), \\\n",
    "               (dy - dy*(latitude - BB[2])/(BB[3]-BB[2])).astype('int')\n",
    "\n",
    "    # define bounding box\n",
    "    BB = (-74.5, -72.8, 40.5, 41.8)\n",
    "    \n",
    "    # read nyc mask and turn into boolean map with\n",
    "    # land = True, water = False\n",
    "    nyc_mask = plt.imread('https://aiblog.nl/download/nyc_mask-74.5_-72.8_40.5_41.8.png')[:,:,0] > 0.9\n",
    "    \n",
    "    # calculate for each lon,lat coordinate the xy coordinate in the mask map\n",
    "    pickup_x, pickup_y = lonlat_to_xy(df.pickup_longitude, df.pickup_latitude, \n",
    "                                      nyc_mask.shape[1], nyc_mask.shape[0], BB)\n",
    "    dropoff_x, dropoff_y = lonlat_to_xy(df.dropoff_longitude, df.dropoff_latitude, \n",
    "                                      nyc_mask.shape[1], nyc_mask.shape[0], BB)    \n",
    "    # calculate boolean index\n",
    "    idx = nyc_mask[pickup_y, pickup_x] & nyc_mask[dropoff_y, dropoff_x]\n",
    "    \n",
    "    # return only datapoints on land\n",
    "    return df[idx]"
   ]
  },
  {
   "cell_type": "code",
   "execution_count": null,
   "metadata": {
    "_uuid": "dd1a159c9833b8fe751e07ae51eab416eba603bc"
   },
   "outputs": [],
   "source": [
    "print('Old size: %d' % len(df_train))\n",
    "df_train = remove_datapoints_from_water(df_train)\n",
    "print('New size: %d' % len(df_train))"
   ]
  },
  {
   "cell_type": "markdown",
   "metadata": {
    "_uuid": "cecac6e057dd805aab73fe8bec5dc58b85d218a7"
   },
   "source": [
    "Now Let's see if all outliers in the water are gone ... :)"
   ]
  },
  {
   "cell_type": "code",
   "execution_count": null,
   "metadata": {
    "_uuid": "70103699f9cae228a9daf0332e98fcf38abe5bf1"
   },
   "outputs": [],
   "source": [
    "# plot training data\n",
    "plot_on_map(df_train, BB, nyc_map)"
   ]
  },
  {
   "cell_type": "markdown",
   "metadata": {
    "_uuid": "6feb5260e486844061b0a1ac9e271a16a57b00b9"
   },
   "source": [
    "\n",
    "### Datapoint density per sq mile\n",
    "\n",
    "\n",
    "A scatterplot of the pickup and dropoff locations gives a quick impression of the density. However, it is more accurate to count the number of datapoints per area to visualize the density. The code below counts pickup and dropoff datapoints per sq miles. This gives a better view on the 'hot spots'."
   ]
  },
  {
   "cell_type": "code",
   "execution_count": null,
   "metadata": {
    "_uuid": "3686cd9adad8bf4bb4d684f9f39a82044ae94c5c"
   },
   "outputs": [],
   "source": [
    "# For this plot and further analysis, we need a function to calculate the distance in miles between locations in lon,lat coordinates.\n",
    "# This function is based on https://stackoverflow.com/questions/27928/\n",
    "# calculate-distance-between-two-latitude-longitude-points-haversine-formula \n",
    "# return distance in miles\n",
    "def distance(lat1, lon1, lat2, lon2):\n",
    "    p = 0.017453292519943295 # Pi/180\n",
    "    a = 0.5 - np.cos((lat2 - lat1) * p)/2 + np.cos(lat1 * p) * np.cos(lat2 * p) * (1 - np.cos((lon2 - lon1) * p)) / 2\n",
    "    return 0.6213712 * 12742 * np.arcsin(np.sqrt(a)) # 2*R*asin...\n",
    "\n",
    "# First calculate two arrays with datapoint density per sq mile\n",
    "n_lon, n_lat = 200, 200 # number of grid bins per longitude, latitude dimension\n",
    "density_pickup, density_dropoff = np.zeros((n_lat, n_lon)), np.zeros((n_lat, n_lon)) # prepare arrays\n",
    "\n",
    "# To calculate the number of datapoints in a grid area, the numpy.digitize() function is used. \n",
    "# This function needs an array with the (location) bins for counting the number of datapoints\n",
    "# per bin.\n",
    "bins_lon = np.zeros(n_lon+1) # bin\n",
    "bins_lat = np.zeros(n_lat+1) # bin\n",
    "delta_lon = (BB[1]-BB[0]) / n_lon # bin longutide width\n",
    "delta_lat = (BB[3]-BB[2]) / n_lat # bin latitude height\n",
    "bin_width_miles = distance(BB[2], BB[1], BB[2], BB[0]) / n_lon # bin width in miles\n",
    "bin_height_miles = distance(BB[3], BB[0], BB[2], BB[0]) / n_lat # bin height in miles\n",
    "for i in range(n_lon+1):\n",
    "    bins_lon[i] = BB[0] + i * delta_lon\n",
    "for j in range(n_lat+1):\n",
    "    bins_lat[j] = BB[2] + j * delta_lat\n",
    "    \n",
    "# Digitize per longitude, latitude dimension\n",
    "inds_pickup_lon = np.digitize(df_train.pickup_longitude, bins_lon)\n",
    "inds_pickup_lat = np.digitize(df_train.pickup_latitude, bins_lat)\n",
    "inds_dropoff_lon = np.digitize(df_train.dropoff_longitude, bins_lon)\n",
    "inds_dropoff_lat = np.digitize(df_train.dropoff_latitude, bins_lat)\n",
    "\n",
    "# Count per grid bin\n",
    "# note: as the density_pickup will be displayed as image, the first index is the y-direction, \n",
    "#       the second index is the x-direction. Also, the y-direction needs to be reversed for\n",
    "#       properly displaying (therefore the (n_lat-j) term)\n",
    "dxdy = bin_width_miles * bin_height_miles\n",
    "for i in range(n_lon):\n",
    "    for j in range(n_lat):\n",
    "        density_pickup[j, i] = np.sum((inds_pickup_lon==i+1) & (inds_pickup_lat==(n_lat-j))) / dxdy\n",
    "        density_dropoff[j, i] = np.sum((inds_dropoff_lon==i+1) & (inds_dropoff_lat==(n_lat-j))) / dxdy"
   ]
  },
  {
   "cell_type": "code",
   "execution_count": null,
   "metadata": {
    "_uuid": "25fc60da96b02dc35cb4aebfdb56fb9252aa9600"
   },
   "outputs": [],
   "source": [
    "# Plot the density arrays\n",
    "fig, axs = plt.subplots(2, 1, figsize=(18, 24))\n",
    "axs[0].imshow(nyc_map, zorder=0, extent=BB);\n",
    "im = axs[0].imshow(np.log1p(density_pickup), zorder=1, extent=BB, alpha=0.6, cmap='plasma')\n",
    "axs[0].set_title('Pickup density [datapoints per sq mile]')\n",
    "cbar = fig.colorbar(im, ax=axs[0])\n",
    "cbar.set_label('log(1 + #datapoints per sq mile)', rotation=270)\n",
    "\n",
    "axs[1].imshow(nyc_map, zorder=0, extent=BB);\n",
    "im = axs[1].imshow(np.log1p(density_dropoff), zorder=1, extent=BB, alpha=0.6, cmap='plasma')\n",
    "axs[1].set_title('Dropoff density [datapoints per sq mile]')\n",
    "cbar = fig.colorbar(im, ax=axs[1])\n",
    "cbar.set_label('log(1 + #datapoints per sq mile)', rotation=270)"
   ]
  },
  {
   "cell_type": "markdown",
   "metadata": {
    "_uuid": "1c446fe9bc88d45f934bfb5e33dbdb215a939ae8"
   },
   "source": [
    "These plots clearly show that the datapoints concentrate around Manhatten and the three airports (JFK, EWS, LGR). There is also a hotspot near Seymour (upper right corner). As I'm not from the US, does somebody has an idea what's so special about this location?\n"
   ]
  },
  {
   "cell_type": "markdown",
   "metadata": {
    "_uuid": "a1ce51035f5a7fe46021f7daae87f72d1b2a7b38"
   },
   "source": [
    "## Pickup traffic density\n",
    "The density plots of above triggered me to see if I can visualize traffic density by the hour (and year). By counting the number of pickups in an area we should get some impression of the traffic density. The more traffic, the longer it could take to make a drive."
   ]
  },
  {
   "cell_type": "code",
   "execution_count": null,
   "metadata": {
    "_uuid": "0b8dec6332dbc4bd49837b7ec71d7c47eb5ddd7a"
   },
   "outputs": [],
   "source": [
    "# add time information\n",
    "df_train['year'] = df_train.pickup_datetime.apply(lambda t: t.year)\n",
    "df_train['weekday'] = df_train.pickup_datetime.apply(lambda t: t.weekday())\n",
    "df_train['hour'] = df_train.pickup_datetime.apply(lambda t: t.hour)"
   ]
  },
  {
   "cell_type": "code",
   "execution_count": null,
   "metadata": {
    "_uuid": "f37ce7f769b2005470efe5343c0f432b7f70e9b9"
   },
   "outputs": [],
   "source": [
    "# some constants needed to calculate pickup traffic density\n",
    "n_hours = 24\n",
    "n_weekdays = 7\n",
    "n_years = 7\n",
    "n_bins_lon = 30\n",
    "n_bins_lat = 30\n",
    "\n",
    "# focus on traffic in Manhattan\n",
    "BB_traffic = (-74.025, -73.925, 40.7, 40.8)\n",
    "\n",
    "# define function to calculate pickup traffic density\n",
    "def calculate_trafic_density(df):\n",
    "    traffic = np.zeros((n_years, n_weekdays, n_hours, n_bins_lat, n_bins_lon))\n",
    "    \n",
    "    # To calculate the number of datapoints in a grid area, the numpy.digitize() function is used. \n",
    "    # This function needs an array with the (location) bins for counting the number of datapoints\n",
    "    # per bin.\n",
    "    bins_lon = np.zeros(n_bins_lon+1) # bin\n",
    "    bins_lat = np.zeros(n_bins_lat+1) # bin\n",
    "    \n",
    "    delta_lon = (BB_traffic[1]-BB_traffic[0]) / n_bins_lon # bin longutide width\n",
    "    delta_lat = (BB_traffic[3]-BB_traffic[2]) / n_bins_lat # bin latitude height\n",
    "    \n",
    "    for i in range(n_bins_lon+1):\n",
    "        bins_lon[i] = BB_traffic[0] + i * delta_lon\n",
    "    for j in range(n_bins_lat+1):\n",
    "        bins_lat[j] = BB_traffic[2] + j * delta_lat\n",
    "    \n",
    "    # Count per grid bin\n",
    "    # note: as the density_pickup will be displayed as image, the first index is the y-direction, \n",
    "    #       the second index is the x-direction. Also, the y-direction needs to be reversed for\n",
    "    #       properly displaying (therefore the (n_lat-j) term)\n",
    "    for y in range(n_years):\n",
    "        for d in range(n_weekdays):\n",
    "            for h in range(n_hours):\n",
    "                idx = (df.year==(2009+y)) & (df.weekday==d) & (df.hour==h)\n",
    "\n",
    "                # Digitize per longitude, latitude dimension\n",
    "                inds_pickup_lon = np.digitize(df[idx].pickup_longitude, bins_lon)\n",
    "                inds_pickup_lat = np.digitize(df[idx].pickup_latitude, bins_lat)\n",
    "\n",
    "                for i in range(n_bins_lon):\n",
    "                    for j in range(n_bins_lat):\n",
    "                        traffic[y, d, h, j, i] = traffic[y, d, h, j, i] + \\\n",
    "                                                 np.sum((inds_pickup_lon==i+1) & (inds_pickup_lat==j+1))\n",
    "    \n",
    "    return traffic \n",
    "\n",
    "# define function to plot pickup traffic density\n",
    "def plot_traffic(traffic, y, d):\n",
    "    days = {'monday' : 0, 'tuesday' : 1, 'wednesday' : 2, 'thursday' : 3, 'friday' : 4, 'saturday' : 5, 'sunday' : 6}\n",
    "    fig, axs = plt.subplots(3,8,figsize=(18,7))\n",
    "    axs = axs.ravel()\n",
    "    for h in range(24):\n",
    "        axs[h].imshow(traffic[y-2009,days[d],h,::-1,:], zorder=1, cmap='coolwarm', clim=(0, traffic.max()))\n",
    "        axs[h].get_xaxis().set_visible(False)\n",
    "        axs[h].get_yaxis().set_visible(False)\n",
    "        axs[h].set_title('h={}'.format(h))\n",
    "    fig.suptitle(\"Pickup traffic density, year={}, day={} (max_pickups={})\".format(y, d, traffic.max()))"
   ]
  },
  {
   "cell_type": "markdown",
   "metadata": {
    "_uuid": "f41225b8d3df7a70a69a5a43aae11d0cc0fd9801"
   },
   "source": [
    "Now, let's calculate the density and visualize the plots. \n",
    "\n",
    "NOTE: the quality of the plots depends on the number of datapoints used. This notebook uses by default 500k points, which is not sufficient for good traffic density plots. Increase the number of points and you get better plots."
   ]
  },
  {
   "cell_type": "code",
   "execution_count": null,
   "metadata": {
    "_uuid": "43d8c7ae94cb6d8ba3f7754a825c45834d2a46dc"
   },
   "outputs": [],
   "source": [
    "traffic = calculate_trafic_density(df_train)"
   ]
  },
  {
   "cell_type": "code",
   "execution_count": null,
   "metadata": {
    "_uuid": "f1526625b3d7b02cf80acf0eb9afc319c25f4bdc"
   },
   "outputs": [],
   "source": [
    "plot_traffic(traffic, 2009, 'monday')\n",
    "plot_traffic(traffic, 2009, 'friday')\n",
    "plot_traffic(traffic, 2009, 'sunday')"
   ]
  },
  {
   "cell_type": "markdown",
   "metadata": {
    "_uuid": "2764d8b87589b25ff46fe661be5dd3a98c69fd87"
   },
   "source": [
    "Already from these plots we can see the different traffic density patterns by the hour, but also by location. E.g. at sunday h=0-3 hour (saturday night to sunday) there is more traffic than on weekdays. I presume this is from people going out and enjoying the weekend.  Let's also visualize an other year."
   ]
  },
  {
   "cell_type": "code",
   "execution_count": null,
   "metadata": {
    "_uuid": "9e7322ab8be2e39304a9b9da2a0b9cce9248d4a9"
   },
   "outputs": [],
   "source": [
    "plot_traffic(traffic, 2014, 'monday')\n",
    "plot_traffic(traffic, 2014, 'friday')\n",
    "plot_traffic(traffic, 2014, 'sunday')"
   ]
  },
  {
   "cell_type": "markdown",
   "metadata": {
    "_uuid": "1eceb1056faa82edd69e3a5abe5e440fe3017a49"
   },
   "source": [
    "## Distance and time visualisations\n",
    "\n",
    "Before building a model I want to test some basic 'intuition':\n",
    "\n",
    "- The longer the distance between pickup and dropoff location, the higher the fare.\n",
    "- Some trips, like to/from an airport, are fixed fee. \n",
    "- Fare at night is different from day time.\n",
    "\n",
    "So, let's check."
   ]
  },
  {
   "cell_type": "markdown",
   "metadata": {
    "_uuid": "0e8450868fa440d5428dfb020a6b39b06417b8d6"
   },
   "source": [
    "### The longer the distance between pickup and dropoff location, the higher the fare\n",
    "\n",
    "To visualize the distance - fare relation we need to calculate the distance of a trip first. "
   ]
  },
  {
   "cell_type": "code",
   "execution_count": null,
   "metadata": {
    "_uuid": "f91f77105f0c87ba5dd09305f544eaf72657490b"
   },
   "outputs": [],
   "source": [
    "# add new column to dataframe with distance in miles\n",
    "df_train['distance_miles'] = distance(df_train.pickup_latitude, df_train.pickup_longitude, \\\n",
    "                                      df_train.dropoff_latitude, df_train.dropoff_longitude)\n",
    "\n",
    "df_train.distance_miles.hist(bins=50, figsize=(12,4))\n",
    "plt.xlabel('distance miles')\n",
    "plt.title('Histogram ride distances in miles')\n",
    "df_train.distance_miles.describe()"
   ]
  },
  {
   "cell_type": "markdown",
   "metadata": {
    "_uuid": "d30efafceafdb6e5068679eb3b05b27311482237"
   },
   "source": [
    "It seems that most rides are just short rides, with a small peak at ~13 miles. This peak could be due to airport drives.\n",
    "\n",
    "Let's also see the influence of `passenger_count`."
   ]
  },
  {
   "cell_type": "code",
   "execution_count": null,
   "metadata": {
    "_uuid": "7bc1745aa9fe669f24859088ee7bbcf106fae362"
   },
   "outputs": [],
   "source": [
    "df_train.groupby('passenger_count')['distance_miles', 'fare_amount'].mean()"
   ]
  },
  {
   "cell_type": "markdown",
   "metadata": {
    "_uuid": "fcc8aeddfa31d91dceda51c0fd201d40a4b86019"
   },
   "source": [
    "A `passenger_count` of zero seems odd. Perhaps a taxi transporting some goods or an administration error? The latter seems not the case as the `fare_amount` is also significantly lower.\n",
    "\n",
    "Instead of looking to the `fare_amount` using the 'fare per mile' also provides some insights."
   ]
  },
  {
   "cell_type": "code",
   "execution_count": null,
   "metadata": {
    "_uuid": "2f06a1a44abebc4c23f7ba4017a5057aa52ba204"
   },
   "outputs": [],
   "source": [
    "print(\"Average $USD/Mile : {:0.2f}\".format(df_train.fare_amount.sum()/df_train.distance_miles.sum()))"
   ]
  },
  {
   "cell_type": "code",
   "execution_count": null,
   "metadata": {
    "_uuid": "e0ffc498bddf6609dd6ef4ecb4954eaef0c27e0e"
   },
   "outputs": [],
   "source": [
    "# scatter plot distance - fare\n",
    "fig, axs = plt.subplots(1, 2, figsize=(16,6))\n",
    "axs[0].scatter(df_train.distance_miles, df_train.fare_amount, alpha=0.2)\n",
    "axs[0].set_xlabel('distance mile')\n",
    "axs[0].set_ylabel('fare $USD')\n",
    "axs[0].set_title('All data')\n",
    "\n",
    "# zoom in on part of data\n",
    "idx = (df_train.distance_miles < 15) & (df_train.fare_amount < 100)\n",
    "axs[1].scatter(df_train[idx].distance_miles, df_train[idx].fare_amount, alpha=0.2)\n",
    "axs[1].set_xlabel('distance mile')\n",
    "axs[1].set_ylabel('fare $USD')\n",
    "axs[1].set_title('Zoom in on distance < 15 mile, fare < $100');"
   ]
  },
  {
   "cell_type": "markdown",
   "metadata": {
    "_uuid": "d0f78fa6f6f96ec4d693a0a09307b5a7731bd054"
   },
   "source": [
    "From this plot we notice:\n",
    "\n",
    "- There are trips with zero distance but with a non-zero fare. Could this be trips from and to the same location? Predicting these fares will be difficult as there is likely not sufficient information in the dataset.\n",
    "- There are some trips with >50 miles travel distance but low fare. Perhaps these are discounted trips? Or the previously mentioned hotspot near Seymour (see density plots above)?\n",
    "- The horizontal lines in the right plot might indicate again the fixed fare trips to/from JFK airport.\n",
    "- Overall there seems to be a (linear) relation between distance and fare with an average rate of +/- 100/20 = 5 \\$USD/mile.\n",
    "\n",
    "Considering the last point, when I google for NYC taxi fare prices I find:\n",
    "\n",
    "- \\$4.00 – \\$10.00 for 3km trip (https://www.priceoftravel.com/555/world-taxi-prices-what-a-3-kilometer-ride-costs-in-72-big-cities/)\n",
    "- Start range: \\$2.50 - \\$3.30, 1km range: \\$1.55 - \\$2.98 (https://www.numbeo.com/taxi-fare/in/New-York)\n",
    "- A detailed description of the taxi prices: http://home.nyc.gov/html/tlc/html/passenger/taxicab_rate.shtml\n",
    "    - Initial charge for most rides (excluding from JFK and other airports) is \\$2.50 upon entry. After that there \\$0.5 every unit where the unit is defined as 1/5th of a mile or when the Taxicab is travelling 12 Miles an hour or more...since we can't decipher the velocity of the car, I would take 1/5th of a mile as the unit and convert the distance into this unit.\n",
    "    - \\$0.5 of additional surcharge between 8PM - 6AM.\n",
    "    - Peak hour weekday surcharge of \\$1 Monday-Friday between 4PM-8PM.\n",
    "    - There is a \\$0.5 MTA State Surcharge for all trips that end in New York City or Nassau, Suffolk, Westchester, Rockland, Dutchess, Orange or Putnam Counties.\n",
    "    - There is a \\$0.3 Improvement surcharge\n",
    "\n",
    "Note: the calculated distance in the dataset is from point to point. In reality, the distance measured by road is larger."
   ]
  },
  {
   "cell_type": "code",
   "execution_count": null,
   "metadata": {
    "_uuid": "3aab0478c047c0eb1a6ac80097a931a4cfd9b9b4"
   },
   "outputs": [],
   "source": [
    "# remove datapoints with distance <0.05 miles\n",
    "idx = (df_train.distance_miles >= 0.05)\n",
    "print('Old size: %d' % len(df_train))\n",
    "df_train = df_train[idx]\n",
    "print('New size: %d' % len(df_train))"
   ]
  },
  {
   "cell_type": "markdown",
   "metadata": {
    "_uuid": "156533df0f5715bb58992530a43df212c9aa4735"
   },
   "source": [
    "## Some trips, like to/from an airport, are fixed fee\n",
    "\n",
    "Another way to explore this data is to check trips to/from well known places. E.g. a trip to JFK airport. Depending on the distance, a trip to an airport is often a fixed price. Let's see."
   ]
  },
  {
   "cell_type": "code",
   "execution_count": null,
   "metadata": {
    "_uuid": "bf424d104e596caf9b1e2f71b32b5d08bbb9efac"
   },
   "outputs": [],
   "source": [
    "# JFK airport coordinates, see https://www.travelmath.com/airport/JFK\n",
    "jfk = (-73.7822222222, 40.6441666667)\n",
    "nyc = (-74.0063889, 40.7141667)\n",
    "\n",
    "def plot_location_fare(loc, name, range=1.5):\n",
    "    # select all datapoints with dropoff location within range of airport\n",
    "    fig, axs = plt.subplots(1, 2, figsize=(14, 5))\n",
    "    idx = (distance(df_train.pickup_latitude, df_train.pickup_longitude, loc[1], loc[0]) < range)\n",
    "    df_train[idx].fare_amount.hist(bins=100, ax=axs[0])\n",
    "    axs[0].set_xlabel('fare $USD')\n",
    "    axs[0].set_title('Histogram pickup location within {} miles of {}'.format(range, name))\n",
    "\n",
    "    idx = (distance(df_train.dropoff_latitude, df_train.dropoff_longitude, loc[1], loc[0]) < range)\n",
    "    df_train[idx].fare_amount.hist(bins=100, ax=axs[1])\n",
    "    axs[1].set_xlabel('fare $USD')\n",
    "    axs[1].set_title('Histogram dropoff location within {} miles of {}'.format(range, name));\n",
    "    \n",
    "plot_location_fare(jfk, 'JFK Airport')"
   ]
  },
  {
   "cell_type": "markdown",
   "metadata": {
    "_uuid": "98d5f53a7a1e3b8ce0cb1df48eb4c597e2b608ff"
   },
   "source": [
    "It seems that there are some fixed prices to/from the airport. Also, somebody might have paid way too much ($250??)!\n",
    "\n",
    "Let's do the same for the other two airports."
   ]
  },
  {
   "cell_type": "code",
   "execution_count": null,
   "metadata": {
    "_uuid": "149a4abd37914dca5ef8bb25bf7d4bc8402e9a17"
   },
   "outputs": [],
   "source": [
    "ewr = (-74.175, 40.69) # Newark Liberty International Airport, see https://www.travelmath.com/airport/EWR\n",
    "lgr = (-73.87, 40.77) # LaGuardia Airport, see https://www.travelmath.com/airport/LGA\n",
    "plot_location_fare(ewr, 'Newark Airport')\n",
    "plot_location_fare(lgr, 'LaGuardia Airport')"
   ]
  },
  {
   "cell_type": "markdown",
   "metadata": {
    "_uuid": "3cec49ceda7377b858745211d437cca97da32441"
   },
   "source": [
    "## Fare at night is different from day time\n",
    "\n",
    "To visualize the relation between time and fare/km three more columns are added to the data: the year, the hour of the day and the fare $USD per KM."
   ]
  },
  {
   "cell_type": "code",
   "execution_count": null,
   "metadata": {
    "_uuid": "097215a28be8d9827565e011d364d33f2997dc65"
   },
   "outputs": [],
   "source": [
    "df_train['fare_per_mile'] = df_train.fare_amount / df_train.distance_miles\n",
    "df_train.fare_per_mile.describe()"
   ]
  },
  {
   "cell_type": "markdown",
   "metadata": {
    "_uuid": "32e4bec8d1bfe268537ab97d2bd79a97b5a48335"
   },
   "source": [
    "The maximum fare \\$USD/mile seem to be very high. This could be due to wrong distance or fare data. On the other hand, let's analyse this somewhat further. In general taxi fare is calculate by\n",
    "\n",
    "$$\n",
    "y_{fare} = \\theta_0 + \\theta_1 \\cdot x_{distance} + \\theta_2 \\cdot x_{duration}\n",
    "$$\n",
    "\n",
    "with $\\theta_0$ the starting tariff, $x_{distance}$ the distance travelled and $x_{duration}$ the duration of the trip. If we rewrite this we get an expression for the fare per distance:\n",
    "\n",
    "$$\n",
    "\\frac{y_{fare}}{x_{distance}} = \\frac{\\theta_0}{x_{distance}} + \\theta_1 + \\theta_2 \\cdot \\frac{x_{duration}}{ x_{distance}}\n",
    "$$\n",
    "\n",
    "Let's further assume for the shorter trips that $x_{distance} = c \\cdot x_{duration}$ with $c$ the average speed, then we get\n",
    "\n",
    "$$\n",
    "\\frac{y_{fare}}{x_{distance}} = \\frac{\\theta_0}{x_{distance}} + \\theta_1 + \\frac{\\theta_2}{c} \\cdot \\frac{x_{duration}}{x_{duration}} = \\frac{\\theta_0}{x_{distance}} + \\theta_1'\n",
    "$$\n",
    "\n",
    "with $\\theta_1' = \\theta_1 + \\theta_2 / c$.\n",
    "\n",
    "Conclusion: the fare per distance is proportional to $1/\\text{distance_mile}$. Let's plot the data and a graph.\n"
   ]
  },
  {
   "cell_type": "code",
   "execution_count": null,
   "metadata": {
    "_uuid": "34a0957966db7c401db0e3db48dccc1ff7787b1c"
   },
   "outputs": [],
   "source": [
    "idx = (df_train.distance_miles < 3) & (df_train.fare_amount < 100)\n",
    "plt.scatter(df_train[idx].distance_miles, df_train[idx].fare_per_mile)\n",
    "plt.xlabel('distance mile')\n",
    "plt.ylabel('fare per distance mile')\n",
    "\n",
    "# theta here is estimated by hand\n",
    "theta = (16, 4.0)\n",
    "x = np.linspace(0.1, 3, 50)\n",
    "plt.plot(x, theta[0]/x + theta[1], '--', c='r', lw=2);"
   ]
  },
  {
   "cell_type": "markdown",
   "metadata": {
    "_uuid": "857f243816b43d06bc9cc6731ae36d866bfc3c31"
   },
   "source": [
    "Note that the fare per distance has more spread for smaller distances (<0.5 mile) than larger distances. This could be explained as follows:  we measure the distance from point to point and not by road. For smaller distances the difference between these two measurement methods is expected to be larger. This is one aspect I would guess a more advanced model (deep learning NN) would improve upon compared to a linear model.\n",
    "\n",
    "[30/07/2018] An other reason why the spread for smaller distances is larger could be due to slow traffic at rush hours. Short drives at rush hours vary more in duration."
   ]
  },
  {
   "cell_type": "markdown",
   "metadata": {
    "_uuid": "15ee1b6c7f74c3545bb1538bf90de46de8af05ca"
   },
   "source": [
    "Let's continue with the time vs fare per distance analysis. Next we use a pandas pivot table to calculate a summary and to plot them."
   ]
  },
  {
   "cell_type": "code",
   "execution_count": null,
   "metadata": {
    "_uuid": "ad29c60c7f00080419747913002ba9be847d6b87"
   },
   "outputs": [],
   "source": [
    "# display pivot table\n",
    "df_train.pivot_table('fare_per_mile', index='hour', columns='year').plot(figsize=(14,6))\n",
    "plt.ylabel('Fare $USD / mile');"
   ]
  },
  {
   "cell_type": "markdown",
   "metadata": {
    "_uuid": "8dab0dd25d4d17b6eb4da9e8e91ddc92b24e3124"
   },
   "source": [
    "It can be clearly seen that the fare $USD/mile varies over the years and over the hours. \n",
    "\n",
    "To investigate this further I used Google map to calculate the expected duration of two trips:\n",
    "\n",
    "- Trip 1 : from Museum of the City of New York to Beacon Theatre, 4.5km, not leaving Manhatten\n",
    "- Trip 2 : from Times Squared to Maria Hermandez Park, 12km, leaving Times Squared via Queens Midtown Tunnel (Toll road)\n",
    "\n",
    "Below are the data and graphs. I do see the same type of graph. So, amount of traffic determines the duration of the trip and thus the fare. While the amount of traffic depends on the hour of the day."
   ]
  },
  {
   "cell_type": "code",
   "execution_count": null,
   "metadata": {
    "_uuid": "e3202cce21b22fdbe33fb99e6b50b5c37861be7e"
   },
   "outputs": [],
   "source": [
    "hours = [0, 1, 2, 3, 4, 5, 6, 7, 8, 9, 10, 11, 12, \\\n",
    "         13, 14, 15, 16, 17, 18, 19, 20, 21, 22, 23]\n",
    "\n",
    "# minimum & maximum duration in minutes\n",
    "trip1_min = [10, 10, 10, 10, 10, 10, 10, 12, 14, 14, 14, 14, \\\n",
    "             14, 14, 14, 14, 14, 12, 12, 12, 12, 12, 10, 10]\n",
    "trip1_max = [20, 18, 16, 16, 16, 18, 22, 26, 40, 35, 35, 35, \\\n",
    "             35, 35, 35, 40, 35, 30, 28, 28, 26, 26, 24, 24]\n",
    "\n",
    "trip2_min = [18, 18, 18, 18, 18, 18, 20, 24, 28, 30, 30, 30, \\\n",
    "             28, 28, 26, 28, 30, 28, 26, 22, 22, 22, 20, 20]\n",
    "trip2_max = [35, 35, 30, 28, 28, 30, 40, 55, 75, 75, 70, 70, \\\n",
    "             60, 60, 60, 60, 60, 65, 55, 45, 45, 50, 45, 40]\n",
    "\n",
    "plt.figure(figsize=(12, 5))\n",
    "plt.plot(hours, trip1_min, '--', c='b', label=\"trip1 (2.7 mile) - minimum duration\")\n",
    "plt.plot(hours, trip1_max, '-', c='b', label=\"trip1 (2.7 mile) - maximum duration\")\n",
    "plt.plot(hours, trip2_min, '--', c='r', label=\"trip2 (7.2 mile) - minimum duration\")\n",
    "plt.plot(hours, trip2_max, '-', c='r', label=\"trip2 (7.2 mile) - maximum duration\")\n",
    "plt.xlabel('hour of the day')\n",
    "plt.ylabel('driving time (min)')\n",
    "plt.title('Estimated driving time for two trips using Google Map traffic info')\n",
    "plt.legend();"
   ]
  },
  {
   "cell_type": "markdown",
   "metadata": {
    "_uuid": "5403dfce00954e8b300f7a0b74433e6f617011e6"
   },
   "source": [
    "A more in-depth analysis of the fare / time dependency is illustrated below. Here, I calculate per year and per hour the fare and do a linear regression. When investigating the plots, you clearly see the price increase over the years."
   ]
  },
  {
   "cell_type": "code",
   "execution_count": null,
   "metadata": {
    "_uuid": "ca4675da41ce7e317575ef816d157a919d8acc11"
   },
   "outputs": [],
   "source": [
    "from sklearn.linear_model import LinearRegression\n",
    "\n",
    "# plot all years\n",
    "for year in df_train.year.unique():\n",
    "    # create figure\n",
    "    fig, axs = plt.subplots(4, 6, figsize=(18, 10))\n",
    "    axs = axs.ravel()\n",
    "    \n",
    "    # plot for all hours\n",
    "    for h in range(24):\n",
    "        idx = (df_train.distance_miles < 15) & (df_train.fare_amount < 100) & (df_train.hour == h) & \\\n",
    "              (df_train.year == year)\n",
    "        axs[h].scatter(df_train[idx].distance_miles, df_train[idx].fare_amount, alpha=0.2, s=1)\n",
    "        axs[h].set_xlabel('distance miles')\n",
    "        axs[h].set_ylabel('fare $USD')\n",
    "        axs[h].set_xlim((0, 15))\n",
    "        axs[h].set_ylim((0, 70))\n",
    "\n",
    "        model = LinearRegression(fit_intercept=False)\n",
    "        x, y = df_train[idx].distance_miles.values.reshape(-1,1), df_train[idx].fare_amount.values.reshape(-1,1)\n",
    "        X = np.concatenate((np.ones(x.shape), x), axis=1)\n",
    "        model.fit(X, y)\n",
    "        xx = np.linspace(0.1, 25, 100)\n",
    "        axs[h].plot(xx, model.coef_[0][0] + xx * model.coef_[0][1], '--', c='r', lw=2)\n",
    "        axs[h].set_title('hour = {}, theta=({:0.2f},{:0.2f})'.format(h, model.coef_[0][0], model.coef_[0][1]))\n",
    "\n",
    "    plt.suptitle(\"Year = {}\".format(year))\n",
    "    plt.tight_layout(rect=[0, 0, 1, 0.95]);"
   ]
  },
  {
   "cell_type": "markdown",
   "metadata": {
    "_uuid": "5d56e3a391a0fd5308fd251c09ba63b00ad22a0b"
   },
   "source": [
    "## Fare varies with pickup location\n",
    "\n",
    "To visualize whether the fare per km varies with the location the distance to the center of New York is calculated. "
   ]
  },
  {
   "cell_type": "code",
   "execution_count": null,
   "metadata": {
    "_uuid": "cfffe04e6b52d79a17acf7dadf77487920523b97"
   },
   "outputs": [],
   "source": [
    "# add new column to dataframe with distance in mile\n",
    "df_train['distance_to_center'] = distance(nyc[1], nyc[0], df_train.pickup_latitude, df_train.pickup_longitude)"
   ]
  },
  {
   "cell_type": "markdown",
   "metadata": {
    "_uuid": "5af378bafe7c04bc2047602c1613b1c8bd49cf5b"
   },
   "source": [
    "Plotting the distance to NYC center vs distance of the trip vs the fare amount gives some insight in this complex relation. "
   ]
  },
  {
   "cell_type": "code",
   "execution_count": null,
   "metadata": {
    "_uuid": "d5563e54b47810662ebb9bc593ce585b6c95f645"
   },
   "outputs": [],
   "source": [
    "fig, axs = plt.subplots(1, 2, figsize=(16,6))\n",
    "im = axs[0].scatter(df_train.distance_to_center, df_train.distance_miles, c=np.clip(df_train.fare_amount, 0, 100), \n",
    "                     cmap='viridis', alpha=1.0, s=1)\n",
    "axs[0].set_xlabel('pickup distance from NYC center')\n",
    "axs[0].set_ylabel('distance miles')\n",
    "axs[0].set_title('All data')\n",
    "cbar = fig.colorbar(im, ax=axs[0])\n",
    "cbar.ax.set_ylabel('fare_amount', rotation=270)\n",
    "\n",
    "idx = (df_train.distance_to_center < 15) & (df_train.distance_miles < 35)\n",
    "im = axs[1].scatter(df_train[idx].distance_to_center, df_train[idx].distance_miles, \n",
    "                     c=np.clip(df_train[idx].fare_amount, 0, 100), cmap='viridis', alpha=1.0, s=1)\n",
    "axs[1].set_xlabel('pickup distance from NYC center')\n",
    "axs[1].set_ylabel('distance miles')\n",
    "axs[1].set_title('Zoom in')\n",
    "cbar = fig.colorbar(im, ax=axs[1])\n",
    "cbar.ax.set_ylabel('fare_amount', rotation=270);"
   ]
  },
  {
   "cell_type": "markdown",
   "metadata": {
    "_uuid": "3d8cb47d4b7229d1af382db02cae3cc95f34724a"
   },
   "source": [
    "There is a lot of 'green' dots, which is about \\$50 to \\$60 fare amount near 13 miles distance of NYC center of distrance of trip. This could be due to trips from/to JFK airport. Let's remove them to see what we're left with."
   ]
  },
  {
   "cell_type": "code",
   "execution_count": null,
   "metadata": {
    "_uuid": "88b81c28ff48e7d4ee8f5868ab0cdfa03b9d4e65"
   },
   "outputs": [],
   "source": [
    "df_train['pickup_distance_to_jfk'] = distance(jfk[1], jfk[0], df_train.pickup_latitude, df_train.pickup_longitude)\n",
    "df_train['dropoff_distance_to_jfk'] = distance(jfk[1], jfk[0], df_train.dropoff_latitude, df_train.dropoff_longitude)"
   ]
  },
  {
   "cell_type": "code",
   "execution_count": null,
   "metadata": {
    "_uuid": "a92c9b6e5d50ae2ae75931a8d799d158292a993a"
   },
   "outputs": [],
   "source": [
    "# remove all to/from JFK trips\n",
    "idx = ~((df_train.pickup_distance_to_jfk < 1) | (df_train.dropoff_distance_to_jfk < 1))\n",
    "\n",
    "fig, axs = plt.subplots(1, 2, figsize=(16,6))\n",
    "im = axs[0].scatter(df_train[idx].distance_to_center, df_train[idx].distance_miles, \n",
    "                    c=np.clip(df_train[idx].fare_amount, 0, 100), \n",
    "                     cmap='viridis', alpha=1.0, s=1)\n",
    "axs[0].set_xlabel('pickup distance from NYC center')\n",
    "axs[0].set_ylabel('distance miles')\n",
    "axs[0].set_title('All data')\n",
    "cbar = fig.colorbar(im, ax=axs[0])\n",
    "cbar.ax.set_ylabel('fare_amount', rotation=270)\n",
    "\n",
    "idx1 = idx & (df_train.distance_to_center < 15) & (df_train.distance_miles < 35)\n",
    "im = axs[1].scatter(df_train[idx1].distance_to_center, df_train[idx1].distance_miles, \n",
    "                     c=np.clip(df_train[idx1].fare_amount, 0, 100), cmap='viridis', alpha=1.0, s=1)\n",
    "axs[1].set_xlabel('pickup distance from NYC center')\n",
    "axs[1].set_ylabel('distance miles')\n",
    "axs[1].set_title('Zoom in')\n",
    "cbar = fig.colorbar(im, ax=axs[1])\n",
    "cbar.ax.set_ylabel('fare_amount', rotation=270);"
   ]
  },
  {
   "cell_type": "markdown",
   "metadata": {
    "_uuid": "57d541394615e8df82a4b3cb36106fc0d4234439"
   },
   "source": [
    "Now there are some 'yellow' dots (fare amount > \\$80) left. To understand these datapoints we plot them on the map."
   ]
  },
  {
   "cell_type": "code",
   "execution_count": null,
   "metadata": {
    "_uuid": "99220b184a75ba4de37bf69dfcbb43ad7a7c96e4"
   },
   "outputs": [],
   "source": [
    "idx = (df_train.fare_amount>80) & (df_train.distance_miles<35) \n",
    "plot_on_map(df_train[idx], BB, nyc_map)"
   ]
  },
  {
   "cell_type": "markdown",
   "metadata": {
    "_uuid": "d9ad25c595f70f160356b97bbbb2d0109b685626"
   },
   "source": [
    "There seem to be a concentration of datapoints near dropoff (-74.2, 40.65). After looking these coordinates up on Google map I learned NYC has a second airport: Newark Liberty International Airport. The fare from/to the airport from NYC center is around $80-$100 USD. \n",
    "\n",
    "Let's remove also these datapoints to see if my findings are right. As there is also a third airport, LaGuardia Airport, I remove them too."
   ]
  },
  {
   "cell_type": "code",
   "execution_count": null,
   "metadata": {
    "_uuid": "c83c0b973ce3a1cb4570699140a506a35a260f79"
   },
   "outputs": [],
   "source": [
    "df_train['pickup_distance_to_ewr'] = distance(ewr[1], ewr[0], df_train.pickup_latitude, df_train.pickup_longitude)\n",
    "df_train['dropoff_distance_to_ewr'] = distance(ewr[1], ewr[0], df_train.dropoff_latitude, df_train.dropoff_longitude)\n",
    "df_train['pickup_distance_to_lgr'] = distance(lgr[1], lgr[0], df_train.pickup_latitude, df_train.pickup_longitude)\n",
    "df_train['dropoff_distance_to_lgr'] = distance(lgr[1], lgr[0], df_train.dropoff_latitude, df_train.dropoff_longitude)"
   ]
  },
  {
   "cell_type": "code",
   "execution_count": null,
   "metadata": {
    "_uuid": "c36ef6ea24475910ad6845a29823f43e4dc564d3"
   },
   "outputs": [],
   "source": [
    "# remove all to/from airport trips\n",
    "idx = ~((df_train.pickup_distance_to_jfk < 1) | (df_train.dropoff_distance_to_jfk < 1) |\n",
    "        (df_train.pickup_distance_to_ewr < 1) | (df_train.dropoff_distance_to_ewr < 1) |\n",
    "        (df_train.pickup_distance_to_lgr < 1) | (df_train.dropoff_distance_to_lgr < 1))\n",
    "\n",
    "fig, axs = plt.subplots(1, 2, figsize=(16,6))\n",
    "im = axs[0].scatter(df_train[idx].distance_to_center, df_train[idx].distance_miles, \n",
    "                    c=np.clip(df_train[idx].fare_amount, 0, 100), \n",
    "                     cmap='viridis', alpha=1.0, s=1)\n",
    "axs[0].set_xlabel('pickup distance from NYC center')\n",
    "axs[0].set_ylabel('distance miles')\n",
    "axs[0].set_title('All data')\n",
    "cbar = fig.colorbar(im, ax=axs[0])\n",
    "cbar.ax.set_ylabel('fare_amount', rotation=270)\n",
    "\n",
    "idx1 = idx & (df_train.distance_to_center < 15) & (df_train.distance_miles < 35)\n",
    "im = axs[1].scatter(df_train[idx1].distance_to_center, df_train[idx1].distance_miles, \n",
    "                     c=np.clip(df_train[idx1].fare_amount, 0, 100), cmap='viridis', alpha=1.0, s=1)\n",
    "axs[1].set_xlabel('pickup distance from NYC center')\n",
    "axs[1].set_ylabel('distance miles')\n",
    "axs[1].set_title('Zoom in')\n",
    "cbar = fig.colorbar(im, ax=axs[1])\n",
    "cbar.ax.set_ylabel('fare_amount', rotation=270);"
   ]
  },
  {
   "cell_type": "markdown",
   "metadata": {
    "_uuid": "4370ff514d0a19c905416a81d8789fbc756fd371"
   },
   "source": [
    "Removing the to/from airport trips seems to give a more 'linear' view of the data. Fare amount depends on distance travelled and not so much on starting position."
   ]
  },
  {
   "cell_type": "markdown",
   "metadata": {
    "_uuid": "48058ed24175fdf84109b846eb78c27a88a20f1a"
   },
   "source": [
    "## Relevance of direction for fare amount\n",
    "Upto now I mainly considered the total distance of a trip as a main feature for predicting the fare amount. However, what about the direction of a trip? To visualise this, I start with a simple plot of the delta longitude and latitude and the fare amount."
   ]
  },
  {
   "cell_type": "code",
   "execution_count": null,
   "metadata": {
    "_uuid": "6adb12393ba1a157578fec130e5c3aa8a5512019"
   },
   "outputs": [],
   "source": [
    "df_train['delta_lon'] = df_train.pickup_longitude - df_train.dropoff_longitude\n",
    "df_train['delta_lat'] = df_train.pickup_latitude - df_train.dropoff_latitude\n",
    "\n",
    "# Select trips in Manhattan\n",
    "BB_manhattan = (-74.025, -73.925, 40.7, 40.8)\n",
    "idx_manhattan = select_within_boundingbox(df_train, BB_manhattan)\n",
    "\n",
    "plt.figure(figsize=(14,8))\n",
    "plt.scatter(df_train[idx_manhattan].delta_lon, df_train[idx_manhattan].delta_lat, s=0.5, alpha=1.0, \n",
    "            c=np.log1p(df_train[idx_manhattan].fare_amount), cmap='magma')\n",
    "plt.colorbar()\n",
    "plt.xlabel('pickup_longitude - dropoff_longitude')\n",
    "plt.ylabel('pickup_latitude - dropoff_latidue')\n",
    "plt.title('log1p(fare_amount)');"
   ]
  },
  {
   "cell_type": "markdown",
   "metadata": {
    "_uuid": "796c9e444828db8cd1d6493e81b4d21d5aac93d9"
   },
   "source": [
    "As can be  seen from this plot, the direction of the trip seems to matter!! Therefore, let's calculate the precise direction (in degrees) and plot the direction vs fare amount."
   ]
  },
  {
   "cell_type": "code",
   "execution_count": null,
   "metadata": {
    "_uuid": "23b5ed58ee70fd23bf8fe4ef8b04cc3f2f7a6636"
   },
   "outputs": [],
   "source": [
    "# direction of a trip, from 180 to -180 degrees. Horizontal axes = 0 degrees.\n",
    "def calculate_direction(d_lon, d_lat):\n",
    "    result = np.zeros(len(d_lon))\n",
    "    l = np.sqrt(d_lon**2 + d_lat**2)\n",
    "    result[d_lon>0] = (180/np.pi)*np.arcsin(d_lat[d_lon>0]/l[d_lon>0])\n",
    "    idx = (d_lon<0) & (d_lat>0)\n",
    "    result[idx] = 180 - (180/np.pi)*np.arcsin(d_lat[idx]/l[idx])\n",
    "    idx = (d_lon<0) & (d_lat<0)\n",
    "    result[idx] = -180 - (180/np.pi)*np.arcsin(d_lat[idx]/l[idx])\n",
    "    return result\n",
    "\n",
    "df_train['direction'] = calculate_direction(df_train.delta_lon, df_train.delta_lat)\n",
    "\n",
    "# plot histogram of directions\n",
    "plt.figure(figsize=(10,6))\n",
    "df_train[idx_manhattan].direction.hist(bins=180)\n",
    "plt.xlabel('direction (degrees)')\n",
    "plt.title('Histogram direction (Manhattan)')\n",
    "\n",
    "# plot direction vs average fare amount\n",
    "fig, ax = plt.subplots(1, 1, figsize=(14,6))\n",
    "direc = pd.cut(df_train[idx_manhattan]['direction'], np.linspace(-180, 180, 37))\n",
    "df_train[idx_manhattan].pivot_table('fare_amount', index=[direc], columns='year', aggfunc='mean').plot(ax=ax)\n",
    "plt.xlabel('direction (degrees)')\n",
    "plt.xticks(range(36), np.arange(-170, 190, 10))\n",
    "plt.ylabel('average fare amount $USD');"
   ]
  },
  {
   "cell_type": "markdown",
   "metadata": {
    "_uuid": "e39d068020166ae3b678a1b4c4d7e634cb37452d"
   },
   "source": [
    "Now, clear the average fare amount in Manhattan depends on the direction. This is not too surprisingly, as the streets in Manhattan have a angle of about 60 degrees with the horizon. In the 60 degrees direction Manhatten is longer than in the direction perpendicular to this (-30 degrees). To investigate the influence of the direction to the fare amount further we should consider trips with the some length. See below."
   ]
  },
  {
   "cell_type": "code",
   "execution_count": null,
   "metadata": {
    "_uuid": "623d01d93aa8cd682fbc43b0863c2696bb48c1df"
   },
   "outputs": [],
   "source": [
    "# select trips in Manhattan with +/- 2 miles distance drive\n",
    "idx2 = idx_manhattan & (df_train.distance_miles>1.5) & (df_train.distance_miles<1.7)\n",
    "\n",
    "# plot direction vs average fare amount\n",
    "fig, ax = plt.subplots(1, 1, figsize=(14,6))\n",
    "direc = pd.cut(df_train[idx2]['direction'], np.linspace(-180, 180, 37))\n",
    "df_train[idx2].pivot_table('fare_amount', index=[direc], columns='year', aggfunc='mean').plot(ax=ax)\n",
    "plt.xlabel('direction (degrees)')\n",
    "plt.xticks(range(36), np.arange(-170, 190, 10))\n",
    "plt.ylabel('average fare amount $USD');"
   ]
  },
  {
   "cell_type": "markdown",
   "metadata": {
    "_uuid": "e65e1e872062392a087d06e5e9134bfdf9e6005d"
   },
   "source": [
    "So, even for trips with the same length we see the influence of the direction on the fare amount. The notebook of Oliver (https://www.kaggle.com/ojones3/feature-engineering-corrected-manhattan-distance) explains the difference in calculating the distance of a trip using Euclidean vs Manhattan distance measure. The distance calculated in this notebook is the direct point-to-point distance. This is not the true distance of the trip. Using the Manhattan distance gives a better approximation *if* the streets are aligned to the vertical and horizontal axis. That is, if we turn the streets 60 degrees. \n",
    "\n",
    "This is the reason that the average fare for direction=60 or -120 is the lowest, as the distance at these angles is the true distance (driving down a street without turns). If the direction is different from 60 or -120 degrees, this means that the distance of the trip in reality is larger, so a higher fare amount."
   ]
  },
  {
   "cell_type": "markdown",
   "metadata": {
    "_uuid": "93bc35cbaa1b0e7627ceb4f6cd2795abc6215c9c"
   },
   "source": [
    "# Generate Kaggle baseline model and submission\n",
    "\n",
    "Also explore the test set, e.g. to see if the data has the same properties."
   ]
  },
  {
   "cell_type": "code",
   "execution_count": null,
   "metadata": {
    "_uuid": "38196b8bd9ca84b55fe7c6c3536b95c926b63dae"
   },
   "outputs": [],
   "source": [
    "# add new column to dataframe with distance in km\n",
    "df_test['distance_miles'] = distance(df_test.pickup_latitude, df_test.pickup_longitude, \\\n",
    "                                     df_test.dropoff_latitude, df_test.dropoff_longitude)\n",
    "df_test['distance_to_center'] = distance(nyc[1], nyc[0], \\\n",
    "                                          df_test.dropoff_latitude, df_test.dropoff_longitude)\n",
    "df_test['hour'] = df_test.pickup_datetime.apply(lambda t: pd.to_datetime(t).hour)\n",
    "df_test['year'] = df_test.pickup_datetime.apply(lambda t: pd.to_datetime(t).year)"
   ]
  },
  {
   "cell_type": "markdown",
   "metadata": {
    "_uuid": "c025af2a0f475395bcaf98cae520a82be2cf042d"
   },
   "source": [
    "# Model\n",
    "\n",
    "Based on the analysis above, I would start with the following model:"
   ]
  },
  {
   "cell_type": "markdown",
   "metadata": {
    "_uuid": "d6e8d617975bc9ef861d3217996f4c54776f4f3e"
   },
   "source": [
    "$$\n",
    "\\text{fare} \\text{ ~ } \\text{year}, \\text{hour}, \\text{distance}, \\text{passenger_count}\n",
    "$$"
   ]
  },
  {
   "cell_type": "markdown",
   "metadata": {
    "_uuid": "3b6e7a7d1e485243fbb458764ccab28229625c0e"
   },
   "source": [
    "For a baseline model I use a linear regression model."
   ]
  },
  {
   "cell_type": "code",
   "execution_count": null,
   "metadata": {
    "_uuid": "fabe06b701eff1455f37268724189d29bfcaccb5"
   },
   "outputs": [],
   "source": [
    "# define dataset\n",
    "# select points 15 miles near NYC center and remove zero passenger datapoints\n",
    "idx = (df_train.distance_to_center<15) & (df_train.passenger_count!=0)\n",
    "features = ['year', 'hour', 'distance_miles', 'passenger_count']\n",
    "X = df_train[idx][features].values\n",
    "y = df_train[idx]['fare_amount'].values"
   ]
  },
  {
   "cell_type": "code",
   "execution_count": null,
   "metadata": {
    "_uuid": "f7b2367e87675e9d15799a8195e3841a98917007"
   },
   "outputs": [],
   "source": [
    "X.shape, y.shape"
   ]
  },
  {
   "cell_type": "code",
   "execution_count": null,
   "metadata": {
    "_uuid": "7ec943bdefd82059204fcd83132e6fa3542d7584"
   },
   "outputs": [],
   "source": [
    "# define some handy analysis support function\n",
    "from sklearn.metrics import mean_squared_error, explained_variance_score\n",
    "\n",
    "def plot_prediction_analysis(y, y_pred, figsize=(10,4), title=''):\n",
    "    fig, axs = plt.subplots(1, 2, figsize=figsize)\n",
    "    axs[0].scatter(y, y_pred)\n",
    "    mn = min(np.min(y), np.min(y_pred))\n",
    "    mx = max(np.max(y), np.max(y_pred))\n",
    "    axs[0].plot([mn, mx], [mn, mx], c='red')\n",
    "    axs[0].set_xlabel('$y$')\n",
    "    axs[0].set_ylabel('$\\hat{y}$')\n",
    "    rmse = np.sqrt(mean_squared_error(y, y_pred))\n",
    "    evs = explained_variance_score(y, y_pred)\n",
    "    axs[0].set_title('rmse = {:.2f}, evs = {:.2f}'.format(rmse, evs))\n",
    "    \n",
    "    axs[1].hist(y-y_pred, bins=50)\n",
    "    avg = np.mean(y-y_pred)\n",
    "    std = np.std(y-y_pred)\n",
    "    axs[1].set_xlabel('$y - \\hat{y}$')\n",
    "    axs[1].set_title('Histrogram prediction error, $\\mu$ = {:.2f}, $\\sigma$ = {:.2f}'.format(avg, std))\n",
    "    \n",
    "    if title!='':\n",
    "        fig.suptitle(title)"
   ]
  },
  {
   "cell_type": "code",
   "execution_count": null,
   "metadata": {
    "_uuid": "fdeac720c4497719c61b10aa5fe256f1bfb5374e"
   },
   "outputs": [],
   "source": [
    "# create training and test sets\n",
    "from sklearn.model_selection import train_test_split\n",
    "\n",
    "X_train, X_test, y_train, y_test = train_test_split(X, y, test_size=0.25)"
   ]
  },
  {
   "cell_type": "code",
   "execution_count": null,
   "metadata": {
    "_uuid": "9dd10c933221891047bcaab026abe60ab84072e0"
   },
   "outputs": [],
   "source": [
    "from sklearn.pipeline import Pipeline\n",
    "from sklearn.linear_model import LinearRegression\n",
    "from sklearn.preprocessing import StandardScaler\n",
    "\n",
    "model_lin = Pipeline((\n",
    "        (\"standard_scaler\", StandardScaler()),\n",
    "        (\"lin_reg\", LinearRegression()),\n",
    "    ))\n",
    "model_lin.fit(X_train, y_train)\n",
    "\n",
    "y_train_pred = model_lin.predict(X_train)\n",
    "plot_prediction_analysis(y_train, y_train_pred, title='Linear Model - Trainingset')\n",
    "\n",
    "y_test_pred = model_lin.predict(X_test)\n",
    "plot_prediction_analysis(y_test, y_test_pred, title='Linear Model - Testset')"
   ]
  },
  {
   "cell_type": "code",
   "execution_count": null,
   "metadata": {
    "_uuid": "336016d59c57b493797830434f7e7ce811684b1e"
   },
   "outputs": [],
   "source": [
    "# some handy function to see how sensitive the model is to the selection\n",
    "# of the training and test set\n",
    "def plot_rmse_analysis(model, X, y, N=400, test_size=0.25, figsize=(10,4), title=''):\n",
    "    rmse_train, rmse_test = [], []\n",
    "    for i in range(N):\n",
    "        X_train, X_test, y_train, y_test = train_test_split(X, y, test_size=test_size)\n",
    "\n",
    "        model.fit(X_train, y_train)\n",
    "        y_train_pred = model.predict(X_train)\n",
    "        y_test_pred = model.predict(X_test)\n",
    "\n",
    "        rmse_train.append(np.sqrt(mean_squared_error(y_train, y_train_pred)))\n",
    "        rmse_test.append(np.sqrt(mean_squared_error(y_test, y_test_pred)))\n",
    "\n",
    "    g = sns.jointplot(np.array(rmse_train), np.array(rmse_test), kind='scatter', stat_func=None, size=5)\n",
    "    g.set_axis_labels(\"RMSE training ($\\mu$={:.2f})\".format(np.mean(rmse_train)), \n",
    "                      \"RMSE test ($\\mu$={:.2f})\".format(np.mean(rmse_test)))\n",
    "    plt.subplots_adjust(top=0.9)\n",
    "    g.fig.suptitle('{} (N={}, test_size={:0.2f})'.format(title, N, test_size))"
   ]
  },
  {
   "cell_type": "code",
   "execution_count": null,
   "metadata": {
    "_uuid": "726c456ec6c9f838196726f537386574ff187f9c"
   },
   "outputs": [],
   "source": [
    "# only 100k points are used to shorten calculation time\n",
    "plot_rmse_analysis(model_lin, X[:100_000,:], y[:100_000], title='Linear model')"
   ]
  },
  {
   "cell_type": "markdown",
   "metadata": {
    "_uuid": "02b7faebfd82ead6a6cc5b879c7ffbb26976007b"
   },
   "source": [
    "## Generate Kaggle submission\n",
    "\n",
    "The code below can be used to generate a Kaggle submission file."
   ]
  },
  {
   "cell_type": "code",
   "execution_count": null,
   "metadata": {
    "_uuid": "12430b1ba2ba1300fbb54096673f5a034e34e117"
   },
   "outputs": [],
   "source": [
    "# define dataset\n",
    "XTEST = df_test[features].values"
   ]
  },
  {
   "cell_type": "code",
   "execution_count": null,
   "metadata": {
    "_uuid": "f831c6cc4f578db8697884182ccf9633cddb6037"
   },
   "outputs": [],
   "source": [
    "filename = './output/baseline_linear'\n",
    "\n",
    "y_pred_final = model_lin.predict(XTEST)\n",
    "\n",
    "submission = pd.DataFrame(\n",
    "    {'key': df_test.key, 'fare_amount': y_pred_final},\n",
    "    columns = ['key', 'fare_amount'])\n",
    "submission.to_csv('submission.csv', index = False)"
   ]
  },
  {
   "cell_type": "code",
   "execution_count": null,
   "metadata": {
    "_uuid": "82fd2863824cd05d606cd170e879845271bd91f1"
   },
   "outputs": [],
   "source": [
    "submission"
   ]
  },
  {
   "cell_type": "markdown",
   "metadata": {
    "_uuid": "85c048cb23d197f9fa30703827499673cc6ee534"
   },
   "source": [
    "This model gives a kaggle score of about 5. Certainly not the best model on the leaderboard, but what could we expect from a linear regression model? \n",
    "\n",
    "From now on we need to improve the model. Considering the analysis above, I would search for a model that is able to:\n",
    "\n",
    "- model the non-linear time (`hour`) dependency\n",
    "- model different pricings (e.g. fixed fee to an airport vs metered ride)\n",
    "- model location dependencies and avoid the direct point-to-point distance measure.\n"
   ]
  },
  {
   "cell_type": "code",
   "execution_count": null,
   "metadata": {
    "_uuid": "137aeb7c4fecd312c36be57833f0d82357259010"
   },
   "outputs": [],
   "source": []
  }
 ],
 "metadata": {
  "kernelspec": {
   "display_name": "Python 3",
   "language": "python",
   "name": "python3"
  },
  "language_info": {
   "codemirror_mode": {
    "name": "ipython",
    "version": 3
   },
   "file_extension": ".py",
   "mimetype": "text/x-python",
   "name": "python",
   "nbconvert_exporter": "python",
   "pygments_lexer": "ipython3",
   "version": "3.7.0"
  }
 },
 "nbformat": 4,
 "nbformat_minor": 1
}
