{
 "cells": [
  {
   "cell_type": "markdown",
   "metadata": {},
   "source": [
    "# 构建第一个模型"
   ]
  },
  {
   "cell_type": "code",
   "execution_count": null,
   "metadata": {},
   "outputs": [],
   "source": [
    "from sklearn.tree import DecisionTreeRegressor\n",
    "from sklearn.metrics import mean_absolute_error\n",
    "from sklearn.model_selection import train_test_split\n",
    "train_X,val_X,train_y,val_y=train_test_split(X,y,random_state=0)                  \n",
    "#选择预测目标和特征\n",
    "home_data=pd.read_csv('path')#path为目标路径，home_data为dataframe类型的数据\n",
    "target=home_data['列名']\n",
    "features=['列名1','列名2']\n",
    "X=home_data[features]\n",
    "y=home_data[target]\n",
    "#build 决策树\n",
    "iowa_model=DecisionTreeRegressor(random_state=1)#设置random_state值\n",
    "#训练决策树\n",
    "iowa_model.fit(X,y)\n",
    "#预测\n",
    "pre=iowa_model.predict(X)\n",
    "#求mae\n",
    "mean_absolute_error(y,pre)#datafrme"
   ]
  },
  {
   "cell_type": "markdown",
   "metadata": {},
   "source": [
    "# 随机森林框架"
   ]
  },
  {
   "cell_type": "code",
   "execution_count": null,
   "metadata": {},
   "outputs": [],
   "source": [
    "from sklearn.ensemble import RandomForestRegressor\n",
    "from sklearn.metrics import mean_absolute_error\n",
    "\n",
    "forest_model = RandomForestRegressor(random_state=1)\n",
    "forest_model.fit(train_X, train_y)\n",
    "melb_preds = forest_model.predict(val_X)\n",
    "print(mean_absolute_error(val_y, melb_preds))"
   ]
  },
  {
   "cell_type": "markdown",
   "metadata": {},
   "source": [
    "# accuracy"
   ]
  },
  {
   "cell_type": "code",
   "execution_count": null,
   "metadata": {},
   "outputs": [],
   "source": [
    "from sklearn.metrics import accuracy_score\n",
    "y_true = [0, 1, 2, 3]\n",
    "accuracy_score(y_true, y_pred)"
   ]
  },
  {
   "cell_type": "markdown",
   "metadata": {},
   "source": [
    "# 可视化"
   ]
  },
  {
   "cell_type": "markdown",
   "metadata": {},
   "source": [
    "# 折线图"
   ]
  },
  {
   "cell_type": "code",
   "execution_count": null,
   "metadata": {},
   "outputs": [],
   "source": [
    "spotify_filepath = \"../input/spotify.csv\"\n",
    "\n",
    "# Read the file into a variable spotify_data\n",
    "spotify_data = pd.read_csv(spotify_filepath, index_col=\"Date\", parse_dates=True)\n",
    "\n",
    "\n",
    "# Print the first 5 rows of the data\n",
    "spotify_data.head()\n",
    "# Print the last five rows of the data\n",
    "spotify_data.tail()\n",
    "\n",
    "# Line chart showing daily global streams of each song \n",
    "sns.lineplot(data=spotify_data)\n",
    "sns.lineplot(data=financial_data)\n",
    "# Set the width and height of the figure\n",
    "plt.figure(figsize=(14,6))\n",
    "\n",
    "# Add title\n",
    "plt.title(\"Daily Global Streams of Popular Songs in 2017-2018\")\n",
    "\n",
    "# Line chart showing daily global streams of each song \n",
    "sns.lineplot(data=spotify_data)"
   ]
  },
  {
   "cell_type": "markdown",
   "metadata": {},
   "source": [
    "# plot a subset of the data"
   ]
  },
  {
   "cell_type": "code",
   "execution_count": null,
   "metadata": {},
   "outputs": [],
   "source": [
    "# Set the width and height of the figure\n",
    "plt.figure(figsize=(14,6))\n",
    "\n",
    "# Add title\n",
    "plt.title(\"Daily Global Streams of Popular Songs in 2017-2018\")\n",
    "\n",
    "# Line chart showing daily global streams of 'Shape of You'\n",
    "sns.lineplot(data=spotify_data['Shape of You'], label=\"Shape of You\")\n",
    "\n",
    "# Line chart showing daily global streams of 'Despacito'\n",
    "sns.lineplot(data=spotify_data['Despacito'], label=\"Despacito\")\n",
    "\n",
    "# Add label for horizontal axis\n",
    "plt.xlabel(\"Date\")"
   ]
  },
  {
   "cell_type": "markdown",
   "metadata": {},
   "source": [
    "# bar图"
   ]
  },
  {
   "cell_type": "code",
   "execution_count": null,
   "metadata": {},
   "outputs": [],
   "source": [
    "# Set the width and height of the figure\n",
    "plt.figure(figsize=(10,6))\n",
    "# Add title\n",
    "plt.title(\"Average Arrival Delay for Spirit Airlines Flights, by Month\")\n",
    "# Bar chart showing average arrival delay for Spirit Airlines flights by month\n",
    "sns.barplot(x=flight_data.index, y=flight_data['NK'])\n",
    "# Add label for vertical axis\n",
    "plt.ylabel(\"Arrival delay (in minutes)\")"
   ]
  },
  {
   "cell_type": "markdown",
   "metadata": {},
   "source": [
    "# heatmap charts"
   ]
  },
  {
   "cell_type": "code",
   "execution_count": null,
   "metadata": {},
   "outputs": [],
   "source": [
    "\n",
    "\n",
    "# Set the width and height of the figure\n",
    "plt.figure(figsize=(14,7))\n",
    "\n",
    "# Add title\n",
    "plt.title(\"Average Arrival Delay for Each Airline, by Month\")\n",
    "\n",
    "# Heatmap showing average arrival delay for each airline by month\n",
    "sns.heatmap(data=flight_data, annot=True)\n",
    "\n",
    "# Add label for horizontal axis\n",
    "plt.xlabel(\"Airline\")\n",
    "\n"
   ]
  },
  {
   "cell_type": "markdown",
   "metadata": {},
   "source": [
    "# scatter plots"
   ]
  },
  {
   "cell_type": "code",
   "execution_count": null,
   "metadata": {},
   "outputs": [],
   "source": [
    "#不带回归线\n",
    "sns.scatterplot(x=insurance_data['bmi'], y=insurance_data['charges'])\n",
    "#带有回归线\n",
    "sns.regplot(x=insurance_data['bmi'], y=insurance_data['charges'])\n",
    "#不带回归线但有颜色分类\n",
    "sns.scatterplot(x=insurance_data['bmi'], y=insurance_data['charges'], hue=insurance_data['smoker'])\n",
    "#带回归线且带颜色分类\n",
    "    sns.lmplot(x=\"bmi\", y=\"charges\", hue=\"smoker\", data=insurance_data)\n",
    "#分两类\n",
    "sns.swarmplot(x=insurance_data['smoker'],\n",
    "              y=insurance_data['charges'])\n"
   ]
  },
  {
   "cell_type": "markdown",
   "metadata": {},
   "source": [
    "# histograms"
   ]
  },
  {
   "cell_type": "code",
   "execution_count": null,
   "metadata": {},
   "outputs": [],
   "source": [
    "# Histogram \n",
    "       sns.distplot(a=iris_data['Petal Length (cm)'], kde=False)"
   ]
  },
  {
   "cell_type": "markdown",
   "metadata": {},
   "source": [
    "# kde plot"
   ]
  },
  {
   "cell_type": "code",
   "execution_count": null,
   "metadata": {},
   "outputs": [],
   "source": [
    "# KDE plot \n",
    "sns.kdeplot(data=iris_data['Petal Length (cm)'], shade=True)"
   ]
  },
  {
   "cell_type": "markdown",
   "metadata": {},
   "source": [
    "# 2D KDE plots"
   ]
  },
  {
   "cell_type": "code",
   "execution_count": null,
   "metadata": {},
   "outputs": [],
   "source": [
    "# 2D KDE plot\n",
    "sns.jointplot(x=iris_data['Petal Length (cm)'], y=iris_data['Sepal Width (cm)'], kind=\"kde\")"
   ]
  },
  {
   "cell_type": "markdown",
   "metadata": {},
   "source": [
    "# Color-coded plots"
   ]
  },
  {
   "cell_type": "code",
   "execution_count": null,
   "metadata": {},
   "outputs": [],
   "source": [
    "# Histograms for each species\n",
    "sns.distplot(a=iris_set_data['Petal Length (cm)'], label=\"Iris-setosa\", kde=False)\n",
    "sns.distplot(a=iris_ver_data['Petal Length (cm)'], label=\"Iris-versicolor\", kde=False)\n",
    "sns.distplot(a=iris_vir_data['Petal Length (cm)'], label=\"Iris-virginica\", kde=False)\n",
    "\n",
    "# Add title\n",
    "plt.title(\"Histogram of Petal Lengths, by Species\")\n",
    "# Force legend to appear\n",
    "plt.legend()\n",
    "\n",
    "\n",
    "\n",
    "# KDE plots for each species\n",
    "sns.kdeplot(data=iris_set_data['Petal Length (cm)'], label=\"Iris-setosa\", shade=True)\n",
    "sns.kdeplot(data=iris_ver_data['Petal Length (cm)'], label=\"Iris-versicolor\", shade=True)\n",
    "sns.kdeplot(data=iris_vir_data['Petal Length (cm)'], label=\"Iris-virginica\", shade=True)\n",
    "\n",
    "# Add title\n",
    "plt.title(\"Distribution of Petal Lengths, by Species\")"
   ]
  },
  {
   "cell_type": "markdown",
   "metadata": {},
   "source": [
    "# matplotlib可视化"
   ]
  },
  {
   "cell_type": "code",
   "execution_count": 3,
   "metadata": {},
   "outputs": [
    {
     "ename": "SyntaxError",
     "evalue": "invalid syntax (<ipython-input-3-d050ddac59ea>, line 1)",
     "output_type": "error",
     "traceback": [
      "\u001b[1;36m  File \u001b[1;32m\"<ipython-input-3-d050ddac59ea>\"\u001b[1;36m, line \u001b[1;32m1\u001b[0m\n\u001b[1;33m    https://www.cnblogs.com/haiboxiaobai/p/10627225.html\u001b[0m\n\u001b[1;37m           ^\u001b[0m\n\u001b[1;31mSyntaxError\u001b[0m\u001b[1;31m:\u001b[0m invalid syntax\n"
     ]
    }
   ],
   "source": [
    "https://www.cnblogs.com/haiboxiaobai/p/10627225.html"
   ]
  },
  {
   "cell_type": "markdown",
   "metadata": {},
   "source": [
    "# 绘制散点图"
   ]
  },
  {
   "cell_type": "code",
   "execution_count": 2,
   "metadata": {},
   "outputs": [
    {
     "data": {
      "text/plain": [
       "<matplotlib.collections.PathCollection at 0x20602152cf8>"
      ]
     },
     "execution_count": 2,
     "metadata": {},
     "output_type": "execute_result"
    },
    {
     "data": {
      "image/png": "[encoded data removed]",
      "text/plain": [
       "<Figure size 432x288 with 1 Axes>"
      ]
     },
     "metadata": {
      "needs_background": "light"
     },
     "output_type": "display_data"
    }
   ],
   "source": [
    "import numpy as np\n",
    "import matplotlib.pyplot as plt\n",
    "X=np.random.randn(100)\n",
    "Y=np.random.randn(100)\n",
    "plt.scatter(X,Y,color='red',marker='D')"
   ]
  },
  {
   "cell_type": "code",
   "execution_count": null,
   "metadata": {},
   "outputs": [],
   "source": []
  },
  {
   "cell_type": "markdown",
   "metadata": {},
   "source": [
    "# 改变风格"
   ]
  },
  {
   "cell_type": "code",
   "execution_count": null,
   "metadata": {},
   "outputs": [],
   "source": [
    "sns.set_style(\"dark\")#背景(1)\"darkgrid\", (2)\"whitegrid\", (3)\"dark\", (4)\"white\", and (5)\"ticks\n",
    "# Line chart \n"
   ]
  },
  {
   "cell_type": "markdown",
   "metadata": {},
   "source": [
    "# missing_value"
   ]
  },
  {
   "cell_type": "markdown",
   "metadata": {},
   "source": [
    "# 直接删除列"
   ]
  },
  {
   "cell_type": "code",
   "execution_count": null,
   "metadata": {},
   "outputs": [],
   "source": [
    "# Get names of columns with missing values\n",
    "cols_with_missing = [col for col in X_train.columns\n",
    "                     if X_train[col].isnull().any()]\n",
    "# Drop columns in training and validation data\n",
    "reduced_X_train = X_train.drop(cols_with_missing, axis=1)\n",
    "reduced_X_valid = X_valid.drop(cols_with_missing, axis=1)\n",
    "\n",
    "print(\"MAE from Approach 1 (Drop columns with missing values):\")\n",
    "print(score_dataset(reduced_X_train, reduced_X_valid, y_train, y_valid))"
   ]
  },
  {
   "cell_type": "markdown",
   "metadata": {},
   "source": [
    "# imputation"
   ]
  },
  {
   "cell_type": "code",
   "execution_count": null,
   "metadata": {},
   "outputs": [],
   "source": [
    "from sklearn.impute import SimpleImputer\n",
    "# Imputation\n",
    "my_imputer = SimpleImputer()\n",
    "imputed_X_train = pd.DataFrame(my_imputer.fit_transform(X_train))\n",
    "imputed_X_valid = pd.DataFrame(my_imputer.transform(X_valid))\n",
    "# Imputation removed column names; put them back\n",
    "imputed_X_train.columns = X_train.columns\n",
    "    imputed_X_valid.columns = X_valid.columns\n",
    "print(\"MAE from Approach 2 (Imputation):\")\n",
    "print(score_dataset(imputed_X_train, imputed_X_valid, y_train, y_valid))"
   ]
  },
  {
   "cell_type": "markdown",
   "metadata": {},
   "source": [
    "# an extension to imputation"
   ]
  },
  {
   "cell_type": "code",
   "execution_count": null,
   "metadata": {},
   "outputs": [],
   "source": [
    "# Make copy to avoid changing original data (when imputing)\n",
    "X_train_plus = X_train.copy()\n",
    "X_valid_plus = X_valid.copy()\n",
    "\n",
    "# Make new columns indicating what will be imputed\n",
    "for col in cols_with_missing:\n",
    "    X_train_plus[col + '_was_missing'] = X_train_plus[col].isnull()\n",
    "    X_valid_plus[col + '_was_missing'] = X_valid_plus[col].isnull()\n",
    "\n",
    "# Imputation\n",
    "my_imputer = SimpleImputer()\n",
    "imputed_X_train_plus = pd.DataFrame(my_imputer.fit_transform(X_train_plus))\n",
    "imputed_X_valid_plus = pd.DataFrame(my_imputer.transform(X_valid_plus))\n",
    "\n",
    "# Imputation removed column names; put them back\n",
    "imputed_X_train_plus.columns = X_train_plus.columns\n",
    "imputed_X_valid_plus.columns = X_valid_plus.columns\n",
    "\n",
    "print(\"MAE from Approach 3 (An Extension to Imputation):\")\n",
    "print(score_dataset(imputed_X_train_plus, imputed_X_valid_plus, y_train, y_valid))"
   ]
  },
  {
   "cell_type": "markdown",
   "metadata": {},
   "source": [
    "# categorical"
   ]
  },
  {
   "cell_type": "markdown",
   "metadata": {},
   "source": [
    "#drop Categorical Variables"
   ]
  },
  {
   "cell_type": "code",
   "execution_count": null,
   "metadata": {},
   "outputs": [],
   "source": [
    "# Get list of categorical variables\n",
    "s = (X_train.dtypes == 'object')\n",
    "object_cols = list(s[s].index)\n",
    "\n",
    "print(\"Categorical variables:\")\n",
    "print(object_cols)\n",
    "drop_X_train = X_train.select_dtypes(exclude=['object'])\n",
    "drop_X_valid = X_valid.select_dtypes(exclude=['object'])\n",
    "\n",
    "print(\"MAE from Approach 1 (Drop categorical variables):\")\n",
    "print(score_dataset(drop_X_train, drop_X_valid, y_train, y_valid))\n"
   ]
  },
  {
   "cell_type": "markdown",
   "metadata": {},
   "source": [
    "#Label Encoding"
   ]
  },
  {
   "cell_type": "code",
   "execution_count": null,
   "metadata": {},
   "outputs": [],
   "source": [
    "from sklearn.preprocessing import LabelEncoder\n",
    "\n",
    "\n",
    "# Make copy to avoid changing original data \n",
    "label_X_train = X_train.copy()\n",
    "label_X_valid = X_valid.copy()\n",
    "\n",
    "# Apply label encoder to each column with categorical data\n",
    "label_encoder = LabelEncoder()\n",
    "for col in object_cols:\n",
    "    label_X_train[col] = label_encoder.fit_transform(X_train[col])#fit_\n",
    "    label_X_valid[col] = label_encoder.transform(X_valid[col])\n",
    "#Fitting a label encoder to a \n",
    "#column in the training data creates a corresponding \n",
    "#integer-valued label for each unique value that \n",
    "#appears in the training data. In the case that \n",
    "#the validation data contains values that don't also \n",
    "#appear in the training data, the encoder will throw \n",
    "#an error, \n",
    "print(\"MAE from Approach 2 (Label Encoding):\") \n",
    "print(score_dataset(label_X_train, label_X_valid, y_train, y_valid))"
   ]
  },
  {
   "cell_type": "markdown",
   "metadata": {},
   "source": [
    "#One-Hot Encoding"
   ]
  },
  {
   "cell_type": "code",
   "execution_count": null,
   "metadata": {},
   "outputs": [],
   "source": [
    "from sklearn.preprocessing import OneHotEncoder\n",
    "\n",
    "# Apply one-hot encoder to each column with categorical data\n",
    "OH_encoder = OneHotEncoder(handle_unknown='ignore', sparse=False)\n",
    "OH_cols_train = pd.DataFrame(OH_encoder.fit_transform(X_train[object_cols]))\n",
    "OH_cols_valid = pd.DataFrame(OH_encoder.transform(X_valid[object_cols]))\n",
    "\n",
    "# One-hot encoding removed index; put it back\n",
    "OH_cols_train.index = X_train.index\n",
    "OH_cols_valid.index = X_valid.index\n",
    "\n",
    "# Remove categorical columns (will replace with one-hot encoding)\n",
    "num_X_train = X_train.drop(object_cols, axis=1)\n",
    "num_X_valid = X_valid.drop(object_cols, axis=1)\n",
    "\n",
    "# Add one-hot encoded columns to numerical features\n",
    "OH_X_train = pd.concat([num_X_train, OH_cols_train], axis=1)\n",
    "OH_X_valid = pd.concat([num_X_valid, OH_cols_valid], axis=1)\n",
    "\n",
    "print(\"MAE from Approach 3 (One-Hot Encoding):\") \n",
    "print(score_dataset(OH_X_train, OH_X_valid, y_train, y_valid))"
   ]
  },
  {
   "cell_type": "markdown",
   "metadata": {},
   "source": [
    "#count encoding"
   ]
  },
  {
   "cell_type": "code",
   "execution_count": null,
   "metadata": {},
   "outputs": [],
   "source": [
    "import category_encoders as ce\n",
    "cat_features = ['category', 'currency', 'country']\n",
    "count_enc = ce.CountEncoder(cols=cat_features)\n",
    "count_encoded = count_enc.fit_transform(ks[cat_features])\n",
    "data = baseline_data.join(count_encoded.add_suffix(\"_count\"))\n",
    "# Training a model on the baseline data\n",
    "train, valid, test = get_data_splits(data)\n",
    "bst = train_model(train, valid)"
   ]
  },
  {
   "cell_type": "markdown",
   "metadata": {},
   "source": [
    "#target encoding"
   ]
  },
  {
   "cell_type": "code",
   "execution_count": null,
   "metadata": {},
   "outputs": [],
   "source": [
    "\n",
    "    # Have to tell it which features are categorical when they aren't strings\n",
    "    target_enc = ce.TargetEncoder(cols=cat_features)\n",
    "\n",
    "    # Learn encoding from the training set\n",
    "    target_enc.fit(train[cat_features], train['is_attributed'])\n",
    "\n",
    "    # Apply encoding to the train and validation sets\n",
    "    train_encoded = train.join(target_enc.transform(train[cat_features]).add_suffix('_target'))\n",
    "    valid_encoded = valid.join(target_enc.transform(valid[cat_features]).add_suffix('_target'))"
   ]
  },
  {
   "cell_type": "markdown",
   "metadata": {},
   "source": [
    "CatBoost Encoding"
   ]
  },
  {
   "cell_type": "code",
   "execution_count": null,
   "metadata": {},
   "outputs": [],
   "source": [
    "cat_features = ['category', 'currency', 'country']\n",
    "target_enc = ce.CatBoostEncoder(cols=cat_features)\n",
    "\n",
    "train, valid, _ = get_data_splits(data)\n",
    "target_enc.fit(train[cat_features], train['outcome'])\n",
    "\n",
    "train = train.join(target_enc.transform(train[cat_features]).add_suffix('_cb'))\n",
    "valid = valid.join(target_enc.transform(valid[cat_features]).add_suffix('_cb'))\n",
    "\n",
    "bst = train_model(train, valid)"
   ]
  },
  {
   "cell_type": "markdown",
   "metadata": {},
   "source": [
    "# featuring project"
   ]
  },
  {
   "cell_type": "markdown",
   "metadata": {},
   "source": [
    "interacting"
   ]
  },
  {
   "cell_type": "code",
   "execution_count": null,
   "metadata": {},
   "outputs": [],
   "source": [
    "interactions = ks['category'] + \"_\" + ks['country']\n",
    "\n",
    "\n",
    "#######################迭代添加两个变量\n",
    "import itertools\n",
    "\n",
    "cat_features = ['ip', 'app', 'device', 'os', 'channel']\n",
    "interactions = pd.DataFrame(index=clicks.index)\n",
    "for col1, col2 in itertools.combinations(cat_features,2):\n",
    "    new_col_name='_'.join([col1,col2])\n",
    "# Iterate through each pair of features, combine them into interaction features\n",
    "    # Convert to strings and combine\n",
    "    new_values = clicks[col1].map(str) + \"_\" + clicks[col2].map(str)\n",
    "\n",
    "    encoder = preprocessing.LabelEncoder()\n",
    "    interactions[new_col_name] = encoder.fit_transform(new_values)"
   ]
  },
  {
   "cell_type": "markdown",
   "metadata": {},
   "source": [
    "number of projects in the last week"
   ]
  },
  {
   "cell_type": "code",
   "execution_count": null,
   "metadata": {},
   "outputs": [],
   "source": [
    "launched = pd.Series(ks.index, index=ks.launched, name=\"count_7_days\").sort_index()#time_series as the index\n",
    "launched.head(20)\n",
    "count_7_days = launched.rolling('7d').count() - 1#the windows contain all the data in the previous 7 days\n",
    "count_7_days.index = launched.values\n",
    "count_7_days = count_7_days.reindex(ks.index)\n",
    "print(count_7_days.head(20))"
   ]
  },
  {
   "cell_type": "markdown",
   "metadata": {},
   "source": [
    "important functionm"
   ]
  },
  {
   "cell_type": "code",
   "execution_count": 3,
   "metadata": {},
   "outputs": [
    {
     "data": {
      "text/plain": [
       "0    NaN\n",
       "1    NaN\n",
       "2    NaN\n",
       "3    2.0\n",
       "4    4.0\n",
       "5    6.0\n",
       "dtype: float64"
      ]
     },
     "execution_count": 3,
     "metadata": {},
     "output_type": "execute_result"
    }
   ],
   "source": [
    "import pandas as pd#先入为主导致理解错误\n",
    "s=pd.Series([1,1,2,3,5,8])\n",
    "s.diff(periods=3)#一个序列和与之下标相隔前period个元素的差值"
   ]
  },
  {
   "cell_type": "code",
   "execution_count": null,
   "metadata": {},
   "outputs": [],
   "source": [
    "pd.Series.expanding().sum()"
   ]
  },
  {
   "cell_type": "markdown",
   "metadata": {},
   "source": [
    "# featuring select"
   ]
  },
  {
   "cell_type": "markdown",
   "metadata": {},
   "source": [
    "univariate selectm-----in general it's fast for big data, but the perfomance is a little worse"
   ]
  },
  {
   "cell_type": "code",
   "execution_count": null,
   "metadata": {},
   "outputs": [],
   "source": [
    "feature_cols = baseline_data.columns.drop('outcome')\n",
    "train, valid, _ = get_data_splits(baseline_data)\n",
    "\n",
    "# Keep 5 features\n",
    "selector = SelectKBest(f_classif, k=5)\n",
    "\n",
    "X_new = selector.fit_transform(train[feature_cols], train['outcome'])\n",
    "selected_features = pd.DataFrame(selector.inverse_transform(X_new), \n",
    "                                 index=train.index, \n",
    "                                 columns=feature_cols)\n",
    "\n",
    "selected_columns = selected_features.columns[selected_features.var() != 0]\n",
    "valid[selected_columns].head()"
   ]
  },
  {
   "cell_type": "markdown",
   "metadata": {},
   "source": [
    "#L1 regularization-----in general it's slow, but the performances is a little better"
   ]
  },
  {
   "cell_type": "code",
   "execution_count": null,
   "metadata": {},
   "outputs": [],
   "source": [
    "from sklearn.linear_model import LogisticRegression\n",
    "from sklearn.feature_selection import SelectFromModel\n",
    "\n",
    "train, valid, _ = get_data_splits(baseline_data)\n",
    "\n",
    "X, y = train[train.columns.drop(\"outcome\")], train['outcome']\n",
    "\n",
    "# Set the regularization parameter C=1\n",
    "logistic = LogisticRegression(C=1, penalty=\"l1\", random_state=7).fit(X, y)#we should adjust the C parameter, (the c is more larege, the less important features is likely to be removed)\n",
    "model = SelectFromModel(logistic, prefit=True)\n",
    "\n",
    "X_new = model.transform(X)\n",
    "selected_features = pd.DataFrame(model.inverse_transform(X_new), \n",
    "                                 index=X.index,\n",
    "                                 columns=X.columns)\n",
    "\n",
    "# Dropped columns have values of all 0s, keep other columns \n",
    "selected_columns = selected_features.columns[selected_features.var() != 0]"
   ]
  },
  {
   "cell_type": "code",
   "execution_count": null,
   "metadata": {},
   "outputs": [],
   "source": []
  },
  {
   "cell_type": "code",
   "execution_count": null,
   "metadata": {},
   "outputs": [],
   "source": []
  },
  {
   "cell_type": "markdown",
   "metadata": {},
   "source": [
    "# k-means算法（改进，二分k-means算法)"
   ]
  },
  {
   "cell_type": "code",
   "execution_count": 3,
   "metadata": {},
   "outputs": [
    {
     "name": "stderr",
     "output_type": "stream",
     "text": [
      "C:\\ProgramData\\Anaconda3\\lib\\site-packages\\numpy\\matrixlib\\defmatrix.py:442: RuntimeWarning: Mean of empty slice.\n",
      "  return N.ndarray.mean(self, axis, dtype, out, keepdims=True)._collapse(axis)\n",
      "C:\\ProgramData\\Anaconda3\\lib\\site-packages\\numpy\\core\\_methods.py:78: RuntimeWarning: invalid value encountered in true_divide\n",
      "  ret, rcount, out=ret, casting='unsafe', subok=False)\n"
     ]
    },
    {
     "name": "stdout",
     "output_type": "stream",
     "text": [
      "[[11.090625    7.13541667]\n",
      " [        nan         nan]\n",
      " [15.35394737 14.24868421]\n",
      " [ 7.97368421 15.50526316]]\n",
      "[[3.00000000e+00 5.01374654e+00]\n",
      " [3.00000000e+00 3.64887812e+00]\n",
      " [3.00000000e+00 1.02058864e+00]\n",
      " [3.00000000e+00 1.91111496e+00]\n",
      " [3.00000000e+00 1.92493075e+00]\n",
      " [3.00000000e+00 3.53308864e+00]\n",
      " [3.00000000e+00 3.86177285e+00]\n",
      " [3.00000000e+00 1.83518006e-02]\n",
      " [3.00000000e+00 3.68006233e+00]\n",
      " [3.00000000e+00 6.56246537e-01]\n",
      " [3.00000000e+00 1.59164127e+00]\n",
      " [3.00000000e+00 2.19098338e+00]\n",
      " [3.00000000e+00 9.88256233e+00]\n",
      " [3.00000000e+00 1.26650970e+00]\n",
      " [3.00000000e+00 3.42861496e+00]\n",
      " [3.00000000e+00 6.98993075e+00]\n",
      " [3.00000000e+00 4.81690443e+00]\n",
      " [3.00000000e+00 3.44782548e+00]\n",
      " [3.00000000e+00 7.40756233e+00]\n",
      " [2.00000000e+00 1.89550173e+01]\n",
      " [2.00000000e+00 2.11718594e+01]\n",
      " [2.00000000e+00 1.66658068e+01]\n",
      " [2.00000000e+00 1.26052805e+01]\n",
      " [2.00000000e+00 1.07697542e+01]\n",
      " [2.00000000e+00 7.08067867e-02]\n",
      " [2.00000000e+00 6.38185942e+00]\n",
      " [2.00000000e+00 7.62554363e+00]\n",
      " [2.00000000e+00 4.31975416e+00]\n",
      " [2.00000000e+00 3.21712258e+00]\n",
      " [2.00000000e+00 1.73081752e+01]\n",
      " [2.00000000e+00 1.11276489e+01]\n",
      " [2.00000000e+00 5.76054363e+00]\n",
      " [2.00000000e+00 2.57028047e+00]\n",
      " [2.00000000e+00 7.28701524e-01]\n",
      " [2.00000000e+00 1.31449100e+00]\n",
      " [2.00000000e+00 2.88370152e+00]\n",
      " [2.00000000e+00 1.09789647e+01]\n",
      " [2.00000000e+00 2.44805436e+01]\n",
      " [2.00000000e+00 3.57552805e+01]\n",
      " [2.00000000e+00 2.81131752e+01]\n",
      " [2.00000000e+00 1.22592278e+01]\n",
      " [2.00000000e+00 8.26659626e+00]\n",
      " [2.00000000e+00 4.62238573e+00]\n",
      " [0.00000000e+00 2.49943631e+01]\n",
      " [0.00000000e+00 2.13492589e+01]\n",
      " [0.00000000e+00 1.33032172e+01]\n",
      " [0.00000000e+00 6.27405056e+00]\n",
      " [0.00000000e+00 1.29776964e+01]\n",
      " [0.00000000e+00 2.51565506e+01]\n",
      " [0.00000000e+00 2.10840506e+01]\n",
      " [0.00000000e+00 1.37692589e+01]\n",
      " [0.00000000e+00 8.20894640e+00]\n",
      " [0.00000000e+00 1.17589464e+01]\n",
      " [0.00000000e+00 1.00095714e+01]\n",
      " [0.00000000e+00 3.14488390e+00]\n",
      " [0.00000000e+00 4.97071723e+00]\n",
      " [0.00000000e+00 4.91102973e+00]\n",
      " [0.00000000e+00 2.43436306e+00]\n",
      " [0.00000000e+00 1.15321723e+00]\n",
      " [0.00000000e+00 2.91311306e+00]\n",
      " [0.00000000e+00 7.13373806e+00]\n",
      " [0.00000000e+00 1.08978006e+01]\n",
      " [0.00000000e+00 2.39141547e+01]\n",
      " [0.00000000e+00 2.21273839e+01]\n",
      " [0.00000000e+00 1.83107172e+01]\n",
      " [0.00000000e+00 2.08068631e+01]\n",
      " [0.00000000e+00 1.09625922e+01]\n",
      " [0.00000000e+00 8.08134223e+00]\n",
      " [0.00000000e+00 2.85508898e-01]\n",
      " [0.00000000e+00 1.22467556e+00]\n",
      " [0.00000000e+00 9.82800564e-01]\n",
      " [0.00000000e+00 7.25144640e+00]\n",
      " [0.00000000e+00 5.35321723e+00]\n",
      " [0.00000000e+00 1.83848839e+01]\n",
      " [2.00000000e+00 1.23284384e+01]\n",
      " [2.00000000e+00 1.64794910e+01]\n",
      " [0.00000000e+00 2.39016547e+01]\n",
      " [0.00000000e+00 2.25160297e+01]\n",
      " [0.00000000e+00 3.48985297e+01]\n",
      " [2.00000000e+00 1.84255436e+01]\n",
      " [2.00000000e+00 1.34979120e+01]\n",
      " [2.00000000e+00 3.19752805e+01]\n",
      " [2.00000000e+00 5.08426489e+01]\n",
      " [0.00000000e+00 4.98360297e+01]\n",
      " [0.00000000e+00 2.47823839e+01]\n",
      " [0.00000000e+00 1.06789464e+01]\n",
      " [0.00000000e+00 7.99977973e+00]\n",
      " [0.00000000e+00 1.51193631e+01]\n",
      " [2.00000000e+00 6.30791205e+00]\n",
      " [2.00000000e+00 6.80001731e+00]\n",
      " [2.00000000e+00 1.13768594e+01]\n",
      " [0.00000000e+00 9.84311306e+00]\n",
      " [0.00000000e+00 6.79602973e+00]\n",
      " [0.00000000e+00 1.00233214e+01]\n",
      " [0.00000000e+00 1.60882172e+01]\n",
      " [0.00000000e+00 1.90054047e+01]\n",
      " [0.00000000e+00 2.17110297e+01]\n",
      " [0.00000000e+00 3.03534256e+01]\n",
      " [2.00000000e+00 2.04276489e+01]\n",
      " [2.00000000e+00 1.23118594e+01]\n",
      " [2.00000000e+00 3.04342278e+01]\n",
      " [0.00000000e+00 4.00730089e+01]\n",
      " [2.00000000e+00 1.83342278e+01]\n",
      " [2.00000000e+00 3.31697542e+01]\n",
      " [0.00000000e+00 1.22564464e+01]]\n"
     ]
    },
    {
     "data": {
      "image/png": "[encoded data removed]",
      "text/plain": [
       "<Figure size 432x288 with 1 Axes>"
      ]
     },
     "metadata": {
      "needs_background": "light"
     },
     "output_type": "display_data"
    }
   ],
   "source": [
    "from numpy import *\n",
    "import matplotlib.pyplot as plt\n",
    " \n",
    "# 加载本地数据\n",
    "def loadDataSet(fileName):\n",
    "    dataMat = []\n",
    "    fr = open(fileName)\n",
    "    for line in fr.readlines():\n",
    "        curLine = line.strip().split('      ')\n",
    "        fltLine = list(map(float,curLine)) # 映射所有数据为浮点数\n",
    "        dataMat.append(fltLine)\n",
    "    return dataMat\n",
    " \n",
    "# 欧式距离计算\n",
    "def distEclud(vecA, vecB):\n",
    "    return sqrt(sum(power(vecA - vecB, 2))) # 格式相同的两个向量做运算\n",
    " \n",
    "# 中心点生成 随机生成最小到最大值之间的值\n",
    "def randCent(dataSet, k):\n",
    "    n = shape(dataSet)[1]\n",
    "    centroids = mat(zeros((k,n))) # 创建中心点，由于需要与数据向量做运算，所以每个中心点与数据得格式应该一致（特征列）\n",
    "    for j in range(n):  # 循环所有特征列，获得每个中心点该列的随机值\n",
    "        minJ = min(dataSet[:,j])\n",
    "        rangeJ = float(max(dataSet[:,j]) - minJ)\n",
    "        centroids[:,j] = mat(minJ + rangeJ * random.rand(k,1)) # 获得每列的随机值 一列一列生成\n",
    "    return centroids\n",
    " \n",
    "# 返回 中心点矩阵和聚类信息\n",
    "def kMeans(dataSet, k, distMeas=distEclud, createCent=randCent):\n",
    "    m = shape(dataSet)[0]\n",
    "    clusterAssment = mat(zeros((m,2))) # 创建一个矩阵用于记录该样本 （所属中心点 与该点距离）\n",
    "    centroids = createCent(dataSet, k)\n",
    "    clusterChanged = True\n",
    "    while clusterChanged:\n",
    "        clusterChanged = False  # 如果没有点更新则为退出\n",
    "        for i in range(m):\n",
    "            minDist = inf; minIndex = -1\n",
    "            for j in range(k):  # 每个样本点需要与 所有 的中心点作比较\n",
    "                distJI = distMeas(centroids[j,:],dataSet[i,:])  # 距离计算\n",
    "                if distJI < minDist:\n",
    "                    minDist = distJI; minIndex = j\n",
    "            if clusterAssment[i,0] != minIndex: # 若记录矩阵的i样本的所属中心点更新，则为True，while下次继续循环更新\n",
    "                clusterChanged = True\n",
    "            clusterAssment[i,:] = minIndex,minDist**2   # 记录该点的两个信息\n",
    "        # print(centroids)\n",
    "        for cent in range(k): # 重新计算中心点\n",
    "            # print(dataSet[nonzero(clusterAssment[:,0] == cent)[0]]) # nonzero返回True样本的下标\n",
    "            ptsInClust = dataSet[nonzero(clusterAssment[:,0].A==cent)[0]] # 得到属于该中心点的所有样本数据\n",
    "            centroids[cent,:] = mean(ptsInClust, axis=0) # 求每列的均值替换原来的中心点\n",
    "    return centroids, clusterAssment\n",
    " \n",
    "datMat = mat(loadDataSet('data.txt'))\n",
    "myCentroids,clustAssing = kMeans(datMat,4)\n",
    "print(myCentroids)\n",
    "print(clustAssing)\n",
    "\n",
    "fig = plt.figure()\n",
    "ax = fig.add_subplot(111)\n",
    "ax.scatter(myCentroids[:,0].flatten().A[0],myCentroids[:,1].flatten().A[0],color='r',s=60)\n",
    "ax.scatter(datMat[:,0].flatten().A[0],datMat[:,1].flatten().A[0])\n",
    "plt.show()"
   ]
  },
  {
   "cell_type": "markdown",
   "metadata": {},
   "source": [
    "# pipeline"
   ]
  },
  {
   "cell_type": "code",
   "execution_count": null,
   "metadata": {},
   "outputs": [],
   "source": [
    "from sklearn.compose import ColumnTransformer\n",
    "from sklearn.pipeline import Pipeline\n",
    "from sklearn.impute import SimpleImputer\n",
    "from sklearn.preprocessing import OneHotEncoder\n",
    "\n",
    "# Preprocessing for numerical data\n",
    "numerical_transformer = SimpleImputer(strategy='constant')\n",
    "\n",
    "# Preprocessing for categorical data\n",
    "categorical_transformer = Pipeline(steps=[\n",
    "    ('imputer', SimpleImputer(strategy='most_frequent')),\n",
    "    ('onehot', OneHotEncoder(handle_unknown='ignore'))\n",
    "])\n",
    "\n",
    "# Bundle preprocessing for numerical and categorical data\n",
    "preprocessor = ColumnTransformer(\n",
    "    transformers=[\n",
    "        ('num', numerical_transformer, numerical_cols),\n",
    "        ('cat', categorical_transformer, categorical_cols)\n",
    "    ])\n",
    "from sklearn.ensemble import RandomForestRegressor\n",
    "\n",
    "model = RandomForestRegressor(n_estimators=100, random_state=0)\n",
    "\n",
    "from sklearn.metrics import mean_absolute_error\n",
    "\n",
    "# Bundle preprocessing and modeling code in a pipeline\n",
    "my_pipeline = Pipeline(steps=[('preprocessor', preprocessor),\n",
    "                              ('model', model)\n",
    "                             ])\n",
    "\n",
    "# Preprocessing of training data, fit model \n",
    "my_pipeline.fit(X_train, y_train)\n",
    "\n",
    "# Preprocessing of validation data, get predictions\n",
    "preds = my_pipeline.predict(X_valid)\n",
    "\n",
    "# Evaluate the model\n",
    "score = mean_absolute_error(y_valid, preds)\n",
    "print('MAE:', score)"
   ]
  },
  {
   "cell_type": "markdown",
   "metadata": {},
   "source": [
    "# cross_validation\n"
   ]
  },
  {
   "cell_type": "code",
   "execution_count": null,
   "metadata": {},
   "outputs": [],
   "source": [
    "from sklearn.ensemble import RandomForestRegressor\n",
    "from sklearn.pipeline import Pipeline\n",
    "from sklearn.impute import SimpleImputer\n",
    "\n",
    "my_pipeline = Pipeline(steps=[('preprocessor', SimpleImputer()),\n",
    "                              ('model', RandomForestRegressor(n_estimators=50,\n",
    "                                                              random_state=0))\n",
    "                             ])\n",
    "from sklearn.model_selection import cross_val_score\n",
    "\n",
    "# Multiply by -1 since sklearn calculates *negative* MAE\n",
    "scores = -1 * cross_val_score(my_pipeline, X, y,\n",
    "                              cv=5,\n",
    "                              scoring='neg_mean_absolute_error')\n",
    "\n",
    "print(\"MAE scores:\\n\", scores)\n",
    "print(\"Average MAE score (across experiments):\")\n",
    "print(scores.mean())"
   ]
  },
  {
   "cell_type": "code",
   "execution_count": 5,
   "metadata": {},
   "outputs": [
    {
     "ename": "ModuleNotFoundError",
     "evalue": "No module named 'sklearn.impute'",
     "output_type": "error",
     "traceback": [
      "\u001b[1;31m---------------------------------------------------------------------------\u001b[0m",
      "\u001b[1;31mModuleNotFoundError\u001b[0m                       Traceback (most recent call last)",
      "\u001b[1;32m<ipython-input-5-787c3c0b7e33>\u001b[0m in \u001b[0;36m<module>\u001b[1;34m()\u001b[0m\n\u001b[0;32m      1\u001b[0m \u001b[1;32mfrom\u001b[0m \u001b[0msklearn\u001b[0m\u001b[1;33m.\u001b[0m\u001b[0mensemble\u001b[0m \u001b[1;32mimport\u001b[0m \u001b[0mRandomForestRegressor\u001b[0m\u001b[1;33m\u001b[0m\u001b[0m\n\u001b[0;32m      2\u001b[0m \u001b[1;32mfrom\u001b[0m \u001b[0msklearn\u001b[0m\u001b[1;33m.\u001b[0m\u001b[0mpipeline\u001b[0m \u001b[1;32mimport\u001b[0m \u001b[0mPipeline\u001b[0m\u001b[1;33m\u001b[0m\u001b[0m\n\u001b[1;32m----> 3\u001b[1;33m \u001b[1;32mfrom\u001b[0m \u001b[0msklearn\u001b[0m\u001b[1;33m.\u001b[0m\u001b[0mimpute\u001b[0m \u001b[1;32mimport\u001b[0m \u001b[0mSimpleImputer\u001b[0m\u001b[1;33m\u001b[0m\u001b[0m\n\u001b[0m\u001b[0;32m      4\u001b[0m \u001b[0mhelp\u001b[0m\u001b[1;33m(\u001b[0m\u001b[0mcross_val_score\u001b[0m\u001b[1;33m)\u001b[0m\u001b[1;33m\u001b[0m\u001b[0m\n",
      "\u001b[1;31mModuleNotFoundError\u001b[0m: No module named 'sklearn.impute'"
     ]
    }
   ],
   "source": []
  },
  {
   "cell_type": "markdown",
   "metadata": {},
   "source": [
    "# XGB"
   ]
  },
  {
   "cell_type": "code",
   "execution_count": null,
   "metadata": {},
   "outputs": [],
   "source": [
    "from xgboost import XGBRegressor\n",
    "my_model = XGBRegressor()#parameters：n_estimators（100-1000）；\n",
    "#learning_rate=0.05(default=0.1)\n",
    "#n_jobs(equal to the number of cores on your machine, is useful in large dataset)\n",
    "my_model.fit(X_train, y_train)\"\"\"early_stopping_rounds=5, \n",
    "             eval_set=[(X_valid, y_valid)],\n",
    "             verbose=False\"\"\"\n",
    "from sklearn.metrics import mean_absolute_error\n",
    "predictions = my_model.predict(X_valid)\n",
    "print(\"Mean Absolute Error: \" + str(mean_absolute_error(predictions, y_valid)))"
   ]
  },
  {
   "cell_type": "markdown",
   "metadata": {},
   "source": [
    "# data leakage"
   ]
  },
  {
   "cell_type": "code",
   "execution_count": null,
   "metadata": {},
   "outputs": [],
   "source": [
    "\"\"\"Data leakage (or leakage) happens when your training \n",
    "data contains information about the target,\n",
    "but similar data will not be available when the model \n",
    "is used for prediction.\n",
    "\"\"\"\n",
    "\n",
    "#target leakage:To prevent this type of data leakage,\n",
    "#any variable updated (or created) after the target value \n",
    "#is realized should be excluded.(eg：病人是否患病如果包含了病人是否用药物)\n",
    "\n",
    "\n",
    "\n",
    "#train_test contamination\n",
    "\n"
   ]
  },
  {
   "cell_type": "markdown",
   "metadata": {},
   "source": [
    "# python回归算法"
   ]
  },
  {
   "cell_type": "code",
   "execution_count": 2,
   "metadata": {},
   "outputs": [
    {
     "name": "stdout",
     "output_type": "stream",
     "text": [
      "['Alloy', 'Ni_wt', 'Re_wt', 'Co_wt', 'Al_wt', 'Ti_wt', 'W_wt', 'Mo_wt', 'Cr_wt', 'Ta_wt', 'C_wt', 'B_wt', 'Y_wt', 'Nb_wt', 'Hf_wt', 'creep_life']\n"
     ]
    },
    {
     "data": {
      "text/plain": [
       "KNeighborsRegressor(algorithm='auto', leaf_size=30, metric='minkowski',\n",
       "          metric_params=None, n_jobs=1, n_neighbors=5, p=2,\n",
       "          weights='uniform')"
      ]
     },
     "execution_count": 2,
     "metadata": {},
     "output_type": "execute_result"
    }
   ],
   "source": [
    "import pandas as pd\n",
    "from sklearn.model_selection import train_test_split\n",
    "from sklearn.neighbors import KNeighborsRegressor\n",
    "knn_reg = KNeighborsRegressor()\n",
    "s=pd.read_csv(\"Superalloy_composition_design.csv\")\n",
    "colums=(s.columns)\n",
    "print(list(colums))\n",
    "y=pd.DataFrame(s[colums[15]])\n",
    "X=pd.DataFrame(s[colums[:15]])\n",
    "#print(X)\n",
    "#print(pd.DataFrame(y))\n",
    "X_train,X_val,train_y,val_y=train_test_split(X,y,random_state=0)  \n",
    "knn_reg.fit(X_train,train_y)"
   ]
  },
  {
   "cell_type": "code",
   "execution_count": 8,
   "metadata": {},
   "outputs": [
    {
     "name": "stdout",
     "output_type": "stream",
     "text": [
      "224.16259043215425\n"
     ]
    }
   ],
   "source": [
    "from sklearn.metrics import mean_squared_error\n",
    "mse = (mean_squared_error(knn_reg.predict(X_val),val_y))\n",
    "print(mse**0.5)"
   ]
  },
  {
   "cell_type": "markdown",
   "metadata": {},
   "source": [
    "# 主成分分析法降维"
   ]
  },
  {
   "cell_type": "markdown",
   "metadata": {},
   "source": [
    "#注意事项：对于各个变量如果度量标准相差很大，需要标准化，而对于度量单位相差不大的最好不要标准化（可能会影响）这里需要在以后的学习生活中去发现和验证。对于学习方法的建议（不可死扣理论，需要理论联系实际）"
   ]
  },
  {
   "cell_type": "code",
   "execution_count": 3,
   "metadata": {},
   "outputs": [
    {
     "name": "stdout",
     "output_type": "stream",
     "text": [
      "PRDICT:\n",
      "0.9752577319587629\n",
      "PRDICT:\n",
      "0.9703092783505155\n"
     ]
    }
   ],
   "source": [
    "from sklearn.neural_network import MLPClassifier\n",
    "from sklearn.datasets import load_digits\n",
    "from sklearn.datasets import load_iris\n",
    "from sklearn.model_selection import train_test_split\n",
    "from sklearn.metrics import classification_report, confusion_matrix\n",
    "import numpy as np\n",
    "import matplotlib.pyplot as plt\n",
    "\n",
    "iris = load_iris()\n",
    "x_data = iris.data\n",
    "y_data = iris.target\n",
    "\n",
    "#print(x_data)\n",
    "#print(y_data)\n",
    "def zeroMean(dataMat):\n",
    "    meanVal = np.mean(dataMat, axis= 0)\n",
    "    newData = dataMat - meanVal\n",
    "    return newData, meanVal\n",
    "\n",
    "def PCA(dataMat, top):\n",
    "    #数据中心化\n",
    "    newData, meanVal = zeroMean(dataMat)\n",
    "    #cov用于求协方差矩阵，参数rowvar = 0说明数据一行代表一个样本\n",
    "    #print(\"____\")\n",
    "    #print(newData)\n",
    "    covMat = np.cov(newData, rowvar=0)\n",
    "    #np.linalg.eig用于求矩阵的特征值和特征向量\n",
    "    eigVals, eigVects = np.linalg.eig(np.mat(covMat))\n",
    "    #对特征值从小到大排列\n",
    "    eigValIndice = np.argsort(eigVals)\n",
    "    #得到最大的n个特征值的下标\n",
    "    n_eigValIndice = eigValIndice[-1:-(top + 1): -1]\n",
    "    #print(\")))______\")\n",
    "    #print(eigVects)\n",
    "    #print(n_eigValIndice)\n",
    "    #得到下标对应的特征向量\n",
    "    n_eigVects = eigVects[:, n_eigValIndice]\n",
    "    #print(n_eigVects)\n",
    "    #低维特征空间的数据\n",
    "    lowDDataMat = newData * n_eigVects\n",
    "    # print(newData)\n",
    "    #print(n_eigVects)\n",
    "    # print(lowDDataMat)\n",
    "    #利用低维度数据来重构数据\n",
    "    reconMat = (lowDDataMat * n_eigVects.T) + meanVal\n",
    "    return lowDDataMat, reconMat\n",
    "\n",
    "\n",
    "def knn_irs(lowDDataMat,y_data):\n",
    "    train_X,val_X,train_y,val_y=train_test_split(lowDDataMat,y_data,test_size=0.2,random_state=0)  \n",
    "    knn_reg = KNeighborsRegressor()\n",
    "    knn_reg.fit(train_X,train_y)\n",
    "    prediction=knn_reg.predict(val_X)\n",
    "    print(\"PRDICT:\")\n",
    "    #rint(prediction)\n",
    "    score=knn_reg.score(val_X,val_y)##计算准确率\n",
    "    print(score)\n",
    "#将数据降至2维\n",
    "lowDDataMat, reconMat = PCA(x_data, 2)#x_data为ndarrary类型\n",
    "#print(x_data)\n",
    "#x = np.array(lowDDataMat)[:, 0]\n",
    "#y = np.array(lowDDataMat)[:, 1]\n",
    "from sklearn.model_selection import train_test_split\n",
    "\n",
    "from sklearn import datasets\n",
    "import pandas as pd\n",
    "from sklearn.model_selection import train_test_split\n",
    "from sklearn.neighbors import KNeighborsRegressor\n",
    "\n",
    "knn_irs(lowDDataMat,y_data)\n",
    "knn_irs(x_data,y_data)"
   ]
  },
  {
   "cell_type": "code",
   "execution_count": 8,
   "metadata": {},
   "outputs": [
    {
     "name": "stdout",
     "output_type": "stream",
     "text": [
      "Help on method fit in module sklearn.svm.base:\n",
      "\n",
      "fit(X, y, sample_weight=None) method of sklearn.svm.classes.SVC instance\n",
      "    Fit the SVM model according to the given training data.\n",
      "    \n",
      "    Parameters\n",
      "    ----------\n",
      "    X : {array-like, sparse matrix}, shape (n_samples, n_features)\n",
      "        Training vectors, where n_samples is the number of samples\n",
      "        and n_features is the number of features.\n",
      "        For kernel=\"precomputed\", the expected shape of X is\n",
      "        (n_samples, n_samples).\n",
      "    \n",
      "    y : array-like, shape (n_samples,)\n",
      "        Target values (class labels in classification, real numbers in\n",
      "        regression)\n",
      "    \n",
      "    sample_weight : array-like, shape (n_samples,)\n",
      "        Per-sample weights. Rescale C per sample. Higher weights\n",
      "        force the classifier to put more emphasis on these points.\n",
      "    \n",
      "    Returns\n",
      "    -------\n",
      "    self : object\n",
      "        Returns self.\n",
      "    \n",
      "    Notes\n",
      "    ------\n",
      "    If X and y are not C-ordered and contiguous arrays of np.float64 and\n",
      "    X is not a scipy.sparse.csr_matrix, X and/or y may be copied.\n",
      "    \n",
      "    If X is a dense array, then the other methods will not support sparse\n",
      "    matrices as input.\n",
      "\n"
     ]
    }
   ],
   "source": [
    "from sklearn import svm\n",
    "help(svm.SVC().fit)"
   ]
  },
  {
   "cell_type": "markdown",
   "metadata": {},
   "source": [
    "# map data"
   ]
  },
  {
   "cell_type": "code",
   "execution_count": 11,
   "metadata": {
    "scrolled": true
   },
   "outputs": [
    {
     "data": {
      "text/html": [
       "\n",
       "        <iframe\n",
       "            width=\"100%\"\n",
       "            height=\"500px\"\n",
       "            src=\"m_4.html\"\n",
       "            frameborder=\"0\"\n",
       "            allowfullscreen\n",
       "        ></iframe>\n",
       "        "
      ],
      "text/plain": [
       "<IPython.lib.display.IFrame at 0x270bd5fd6a0>"
      ]
     },
     "execution_count": 11,
     "metadata": {},
     "output_type": "execute_result"
    }
   ],
   "source": [
    "import pandas as pd\n",
    "data=pd.read_csv(\"test.csv\",nrows=1000)\n",
    "import folium\n",
    "from folium import Choropleth, Circle, Marker\n",
    "from folium.plugins import HeatMap, MarkerCluster\n",
    "import random \n",
    "# Function for displaying the map\n",
    "def embed_map(m, file_name):\n",
    "    from IPython.display import IFrame\n",
    "    m.save(file_name)\n",
    "    return IFrame(file_name, width='100%', height='500px')\n",
    "\n",
    "# Create a base map\n",
    "m_4 = folium.Map(location=[-71.0589,42.32], tiles='cartodbpositron', zoom_start=13)\n",
    "\n",
    "def color_producer(val):\n",
    "    if val <= 12:\n",
    "        return 'forestgreen'\n",
    "    else:\n",
    "        return 'darkred'\n",
    "\n",
    "# Add a bubble map to the base map\n",
    "for i in range(100):\n",
    "    Circle(\n",
    "        location=[data[\"pickup_longitude\"][i],data[\"pickup_latitude\"][i]],\n",
    "        radius=20,\n",
    "        color='forestgreen').add_to(m_4)\n",
    "    Circle(\n",
    "        location=[data[\"dropoff_longitude\"][i],data[\"dropoff_latitude\"][i]],\n",
    "        radius=20,\n",
    "        color='darkred').add_to(m_4)\n",
    "# Display the map\n",
    "embed_map(m_4, 'm_4.html')"
   ]
  },
  {
   "cell_type": "code",
   "execution_count": 10,
   "metadata": {},
   "outputs": [
    {
     "ename": "AttributeError",
     "evalue": "'Map' object has no attribute 'create_map'",
     "output_type": "error",
     "traceback": [
      "\u001b[1;31m---------------------------------------------------------------------------\u001b[0m",
      "\u001b[1;31mAttributeError\u001b[0m                            Traceback (most recent call last)",
      "\u001b[1;32m<ipython-input-10-aa87dc8146e5>\u001b[0m in \u001b[0;36m<module>\u001b[1;34m()\u001b[0m\n\u001b[0;32m      1\u001b[0m \u001b[1;32mimport\u001b[0m \u001b[0mfolium\u001b[0m\u001b[1;33m\u001b[0m\u001b[0m\n\u001b[0;32m      2\u001b[0m \u001b[0mmap_osm\u001b[0m\u001b[1;33m=\u001b[0m \u001b[0mfolium\u001b[0m\u001b[1;33m.\u001b[0m\u001b[0mMap\u001b[0m\u001b[1;33m(\u001b[0m\u001b[0mlocation\u001b[0m\u001b[1;33m=\u001b[0m\u001b[1;33m[\u001b[0m\u001b[1;36m45.5236\u001b[0m\u001b[1;33m,\u001b[0m \u001b[1;33m-\u001b[0m\u001b[1;36m122.6750\u001b[0m\u001b[1;33m]\u001b[0m\u001b[1;33m)\u001b[0m \u001b[1;31m#输入坐标\u001b[0m\u001b[1;33m\u001b[0m\u001b[0m\n\u001b[1;32m----> 3\u001b[1;33m \u001b[0mmap_osm\u001b[0m\u001b[1;33m.\u001b[0m\u001b[0mcreate_map\u001b[0m\u001b[1;33m(\u001b[0m\u001b[0mpath\u001b[0m\u001b[1;33m=\u001b[0m\u001b[1;34m'osm.html'\u001b[0m\u001b[1;33m)\u001b[0m\u001b[1;33m\u001b[0m\u001b[0m\n\u001b[0m",
      "\u001b[1;31mAttributeError\u001b[0m: 'Map' object has no attribute 'create_map'"
     ]
    }
   ],
   "source": [
    "import folium\n",
    "map_osm= folium.Map(location=[45.5236, -122.6750]) #输入坐标\n",
    "map_osm.create_map(path='osm.html')"
   ]
  },
  {
   "cell_type": "code",
   "execution_count": 23,
   "metadata": {},
   "outputs": [
    {
     "data": {
      "text/html": [
       "<div>\n",
       "<style scoped>\n",
       "    .dataframe tbody tr th:only-of-type {\n",
       "        vertical-align: middle;\n",
       "    }\n",
       "\n",
       "    .dataframe tbody tr th {\n",
       "        vertical-align: top;\n",
       "    }\n",
       "\n",
       "    .dataframe thead th {\n",
       "        text-align: right;\n",
       "    }\n",
       "</style>\n",
       "<table border=\"1\" class=\"dataframe\">\n",
       "  <thead>\n",
       "    <tr style=\"text-align: right;\">\n",
       "      <th></th>\n",
       "      <th>key</th>\n",
       "      <th>pickup_datetime</th>\n",
       "      <th>pickup_longitude</th>\n",
       "      <th>pickup_latitude</th>\n",
       "      <th>dropoff_longitude</th>\n",
       "      <th>dropoff_latitude</th>\n",
       "      <th>passenger_count</th>\n",
       "      <th>Unnamed: 7</th>\n",
       "      <th>Unnamed: 8</th>\n",
       "      <th>Unnamed: 9</th>\n",
       "    </tr>\n",
       "  </thead>\n",
       "  <tbody>\n",
       "    <tr>\n",
       "      <th>0</th>\n",
       "      <td>08:24.0</td>\n",
       "      <td>2015-01-27 13:08:24 UTC</td>\n",
       "      <td>-73.973320</td>\n",
       "      <td>40.763805</td>\n",
       "      <td>-73.981430</td>\n",
       "      <td>40.743835</td>\n",
       "      <td>1</td>\n",
       "      <td>NaN</td>\n",
       "      <td>811.004639</td>\n",
       "      <td>1996.994019</td>\n",
       "    </tr>\n",
       "    <tr>\n",
       "      <th>1</th>\n",
       "      <td>08:24.0</td>\n",
       "      <td>2015-01-27 13:08:24 UTC</td>\n",
       "      <td>-73.986862</td>\n",
       "      <td>40.719383</td>\n",
       "      <td>-73.998886</td>\n",
       "      <td>40.739201</td>\n",
       "      <td>1</td>\n",
       "      <td>NaN</td>\n",
       "      <td>1202.392578</td>\n",
       "      <td>-1981.735230</td>\n",
       "    </tr>\n",
       "    <tr>\n",
       "      <th>2</th>\n",
       "      <td>53:44.0</td>\n",
       "      <td>2011-10-08 11:53:44 UTC</td>\n",
       "      <td>-73.982524</td>\n",
       "      <td>40.751260</td>\n",
       "      <td>-73.979654</td>\n",
       "      <td>40.746139</td>\n",
       "      <td>1</td>\n",
       "      <td>NaN</td>\n",
       "      <td>-287.000000</td>\n",
       "      <td>512.100000</td>\n",
       "    </tr>\n",
       "    <tr>\n",
       "      <th>3</th>\n",
       "      <td>12:12.0</td>\n",
       "      <td>2012-12-01 21:12:12 UTC</td>\n",
       "      <td>-73.981160</td>\n",
       "      <td>40.767807</td>\n",
       "      <td>-73.990448</td>\n",
       "      <td>40.751635</td>\n",
       "      <td>1</td>\n",
       "      <td>NaN</td>\n",
       "      <td>928.800000</td>\n",
       "      <td>1617.200000</td>\n",
       "    </tr>\n",
       "    <tr>\n",
       "      <th>4</th>\n",
       "      <td>12:12.0</td>\n",
       "      <td>2012-12-01 21:12:12 UTC</td>\n",
       "      <td>-73.966046</td>\n",
       "      <td>40.789775</td>\n",
       "      <td>-73.988565</td>\n",
       "      <td>40.744427</td>\n",
       "      <td>1</td>\n",
       "      <td>NaN</td>\n",
       "      <td>2251.900000</td>\n",
       "      <td>4534.800000</td>\n",
       "    </tr>\n",
       "  </tbody>\n",
       "</table>\n",
       "</div>"
      ],
      "text/plain": [
       "       key          pickup_datetime  pickup_longitude  pickup_latitude  \\\n",
       "0  08:24.0  2015-01-27 13:08:24 UTC        -73.973320        40.763805   \n",
       "1  08:24.0  2015-01-27 13:08:24 UTC        -73.986862        40.719383   \n",
       "2  53:44.0  2011-10-08 11:53:44 UTC        -73.982524        40.751260   \n",
       "3  12:12.0  2012-12-01 21:12:12 UTC        -73.981160        40.767807   \n",
       "4  12:12.0  2012-12-01 21:12:12 UTC        -73.966046        40.789775   \n",
       "\n",
       "   dropoff_longitude  dropoff_latitude  passenger_count  Unnamed: 7  \\\n",
       "0         -73.981430         40.743835                1         NaN   \n",
       "1         -73.998886         40.739201                1         NaN   \n",
       "2         -73.979654         40.746139                1         NaN   \n",
       "3         -73.990448         40.751635                1         NaN   \n",
       "4         -73.988565         40.744427                1         NaN   \n",
       "\n",
       "    Unnamed: 8   Unnamed: 9  \n",
       "0   811.004639  1996.994019  \n",
       "1  1202.392578 -1981.735230  \n",
       "2  -287.000000   512.100000  \n",
       "3   928.800000  1617.200000  \n",
       "4  2251.900000  4534.800000  "
      ]
     },
     "execution_count": 23,
     "metadata": {},
     "output_type": "execute_result"
    }
   ],
   "source": [
    "import pandas as pd\n",
    "data=pd.read_csv(\"test.csv\",nrows=1000)\n",
    "data.head()"
   ]
  },
  {
   "cell_type": "code",
   "execution_count": 24,
   "metadata": {},
   "outputs": [],
   "source": [
    "import numpy as np\n",
    "location=[]\n",
    "for i in range(100):\n",
    "    location=list(location)\n",
    "    location.append(np.array([data[\"pickup_longitude\"][i],data[\"pickup_latitude\"][i]]))\n",
    "    location=np.array(location)"
   ]
  },
  {
   "cell_type": "code",
   "execution_count": 22,
   "metadata": {},
   "outputs": [
    {
     "name": "stdout",
     "output_type": "stream",
     "text": [
      "[[-73.97332001  40.76380539]\n",
      " [-73.98686218  40.71938324]\n",
      " [-73.982524    40.75126   ]\n",
      " [-73.98116     40.767807  ]\n",
      " [-73.966046    40.789775  ]\n",
      " [-73.960983    40.765547  ]\n",
      " [-73.949013    40.773204  ]\n",
      " [-73.777282    40.646636  ]\n",
      " [-74.014099    40.709638  ]\n",
      " [-73.969582    40.765519  ]\n",
      " [-73.989374    40.741973  ]\n",
      " [-74.001614    40.740893  ]\n",
      " [-73.991198    40.739937  ]\n",
      " [-73.982034    40.762723  ]\n",
      " [-73.992455    40.728701  ]\n",
      " [-73.983583    40.746993  ]\n",
      " [-74.006746    40.731721  ]\n",
      " [-73.976446    40.785598  ]\n",
      " [-73.973548    40.763349  ]\n",
      " [-73.970918    40.756025  ]\n",
      " [-73.926071    40.705866  ]\n",
      " [-73.970555    40.764702  ]\n",
      " [-73.989102    40.73636   ]\n",
      " [-74.003525    40.74848   ]\n",
      " [-73.990352    40.759992  ]\n",
      " [-73.989482    40.75745   ]\n",
      " [-73.870785    40.773722  ]\n",
      " [-73.992682    40.733877  ]\n",
      " [-73.95402     40.778705  ]\n",
      " [-73.972742    40.743432  ]\n",
      " [-73.953515    40.771137  ]\n",
      " [-73.99959     40.73863   ]\n",
      " [-73.958925    40.763727  ]\n",
      " [-73.96996     40.793912  ]\n",
      " [-73.955135    40.780062  ]\n",
      " [-73.981367    40.74415   ]\n",
      " [-73.977608    40.749272  ]\n",
      " [-74.005682    40.738755  ]\n",
      " [-74.006635    40.74421   ]\n",
      " [-73.954927    40.783217  ]\n",
      " [-74.00477     40.746977  ]\n",
      " [-74.00544     40.745935  ]\n",
      " [-74.01311     40.70408   ]\n",
      " [-73.980173    40.74585   ]\n",
      " [-73.99287     40.75307   ]\n",
      " [-73.96409     40.776612  ]\n",
      " [-73.98736     40.729017  ]\n",
      " [-73.96744     40.772032  ]\n",
      " [-73.996132    40.726167  ]\n",
      " [-73.986387    40.739997  ]\n",
      " [-73.997102    40.722197  ]\n",
      " [-73.993222    40.747247  ]\n",
      " [-73.989773    40.73411   ]\n",
      " [-73.986618    40.761682  ]\n",
      " [-73.99221     40.730832  ]\n",
      " [-73.96384     40.768102  ]\n",
      " [-73.96038     40.776002  ]\n",
      " [-73.97256     40.756255  ]\n",
      " [-73.977347    40.758262  ]\n",
      " [-73.96619     40.76811   ]\n",
      " [-73.993332    40.689932  ]\n",
      " [-73.989652    40.772837  ]\n",
      " [-73.994922    40.749567  ]\n",
      " [-73.984972    40.736205  ]\n",
      " [-73.98        40.745682  ]\n",
      " [-73.975752    40.781657  ]\n",
      " [-73.994077    40.741197  ]\n",
      " [-73.972752    40.76462   ]\n",
      " [-73.992943    40.74247   ]\n",
      " [-73.96919     40.76946   ]\n",
      " [-74.003227    40.725407  ]\n",
      " [-73.971583    40.766377  ]\n",
      " [-73.97615     40.739872  ]\n",
      " [-73.97318     40.755452  ]\n",
      " [-73.96829     40.755192  ]\n",
      " [-73.948185    40.774497  ]\n",
      " [-73.78196     40.64479   ]\n",
      " [-73.986835    40.76629   ]\n",
      " [-73.97961     40.76717   ]\n",
      " [-73.955017    40.773412  ]\n",
      " [-73.992555    40.714095  ]\n",
      " [-73.961491    40.776958  ]\n",
      " [-73.993505    40.74981   ]\n",
      " [-73.988536    40.721543  ]\n",
      " [-73.973565    40.754947  ]\n",
      " [-73.98206     40.77772   ]\n",
      " [-73.988327    40.74821   ]\n",
      " [-73.995295    40.74963   ]\n",
      " [-74.012938    40.70807   ]\n",
      " [-73.97194     40.762475  ]\n",
      " [-74.002072    40.740237  ]\n",
      " [-73.991572    40.749837  ]\n",
      " [-73.991395    40.735137  ]\n",
      " [-73.997557    40.756537  ]\n",
      " [-73.955755    40.77963   ]\n",
      " [-73.9583      40.80089   ]\n",
      " [-74.003687    40.70605   ]\n",
      " [-73.999117    40.734173  ]\n",
      " [-73.99088     40.75554   ]\n",
      " [-73.975692    40.782117  ]]\n"
     ]
    }
   ],
   "source": [
    "lcoation=np.array(location)\n",
    "print(location)"
   ]
  },
  {
   "cell_type": "code",
   "execution_count": 4,
   "metadata": {},
   "outputs": [
    {
     "name": "stdout",
     "output_type": "stream",
     "text": [
      "myCentroids\n",
      "[[-73.84762233  40.95299133]\n",
      " [-73.97964494  40.75318377]\n",
      " [-73.80746633  40.67899776]]\n",
      "1000\n"
     ]
    },
    {
     "data": {
      "image/png": "[encoded data removed]",
      "text/plain": [
       "<Figure size 432x288 with 1 Axes>"
      ]
     },
     "metadata": {
      "needs_background": "light"
     },
     "output_type": "display_data"
    }
   ],
   "source": [
    "from numpy import *\n",
    "import matplotlib.pyplot as plt\n",
    " \n",
    "# 加载本地数据\n",
    "def loadDataSet(fileName):\n",
    "    dataMat = []\n",
    "    fr = open(fileName)\n",
    "    for line in fr.readlines():\n",
    "        curLine = line.strip().split('      ')\n",
    "        fltLine = list(map(float,curLine)) # 映射所有数据为浮点数\n",
    "        dataMat.append(fltLine)\n",
    "    return dataMat\n",
    "#加载经纬度数据\n",
    "def load_long_lat_data(fileName):\n",
    "    import pandas as pd\n",
    "    data=pd.read_csv(fileName,nrows=1000)\n",
    "    data.head()\n",
    "    import numpy as np\n",
    "    location=[]\n",
    "    for i in range(1000):\n",
    "        location=list(location)\n",
    "        location.append(np.array([data[\"pickup_longitude\"][i],data[\"pickup_latitude\"][i]]))\n",
    "        location=np.array(location)\n",
    "    return location\n",
    "# 欧式距离计算\n",
    "def distEclud(vecA, vecB):\n",
    "    return sqrt(sum(power(vecA - vecB, 2))) # 格式相同的两个向量做运算\n",
    " \n",
    "# 中心点生成 随机生成最小到最大值之间的值\n",
    "def randCent(dataSet, k):\n",
    "    n = shape(dataSet)[1]\n",
    "    centroids = mat(zeros((k,n))) # 创建中心点，由于需要与数据向量做运算，所以每个中心点与数据得格式应该一致（特征列）\n",
    "    for j in range(n):  # 循环所有特征列，获得每个中心点该列的随机值\n",
    "        minJ = min(dataSet[:,j])\n",
    "        rangeJ = float(max(dataSet[:,j]) - minJ)\n",
    "        centroids[:,j] = mat(minJ + rangeJ * random.rand(k,1)) # 获得每列的随机值 一列一列生成\n",
    "    return centroids\n",
    " \n",
    "# 返回 中心点矩阵和聚类信息\n",
    "def kMeans(dataSet, k, distMeas=distEclud, createCent=randCent):\n",
    "    m = shape(dataSet)[0]\n",
    "    clusterAssment = mat(zeros((m,2))) # 创建一个矩阵用于记录该样本 （所属中心点 与该点距离）\n",
    "    centroids = createCent(dataSet, k)\n",
    "    clusterChanged = True\n",
    "    while clusterChanged:\n",
    "        clusterChanged = False  # 如果没有点更新则为退出\n",
    "        for i in range(m):\n",
    "            minDist = inf; minIndex = -1\n",
    "            for j in range(k):  # 每个样本点需要与 所有 的中心点作比较\n",
    "                distJI = distMeas(centroids[j,:],dataSet[i,:])  # 距离计算\n",
    "                if distJI < minDist:\n",
    "                    minDist = distJI; minIndex = j\n",
    "            if clusterAssment[i,0] != minIndex: # 若记录矩阵的i样本的所属中心点更新，则为True，while下次继续循环更新\n",
    "                clusterChanged = True\n",
    "            clusterAssment[i,:] = minIndex,minDist**2   # 记录该点的两个信息\n",
    "        # print(centroids)\n",
    "        for cent in range(k): # 重新计算中心点\n",
    "            # print(dataSet[nonzero(clusterAssment[:,0] == cent)[0]]) # nonzero返回True样本的下标\n",
    "            ptsInClust = dataSet[nonzero(clusterAssment[:,0].A==cent)[0]] # 得到属于该中心点的所有样本数据\n",
    "            centroids[cent,:] = mean(ptsInClust, axis=0) # 求每列的均值替换原来的中心点\n",
    "    return centroids, clusterAssment\n",
    " \n",
    "datMat = mat(load_long_lat_data(\"test.csv\"))\n",
    "#print(datMat)\n",
    "myCentroids,clustAssing = kMeans(datMat,3)\n",
    "print(\"myCentroids\")\n",
    "print(myCentroids)\n",
    "print(len(datMat))\n",
    "#print(clustAssing)\n",
    "\n",
    "fig = plt.figure()\n",
    "ax = fig.add_subplot(111)\n",
    "ax.scatter(datMat[:,0].flatten().A[0],datMat[:,1].flatten().A[0],color='y',s=1)\n",
    "ax.scatter(myCentroids[:,0].flatten().A[0],myCentroids[:,1].flatten().A[0],color='r',s=1)\n",
    "\n",
    "plt.show()"
   ]
  },
  {
   "cell_type": "code",
   "execution_count": null,
   "metadata": {},
   "outputs": [],
   "source": [
    "#KNN算法"
   ]
  },
  {
   "cell_type": "code",
   "execution_count": 1,
   "metadata": {},
   "outputs": [
    {
     "ename": "FileNotFoundError",
     "evalue": "File b'Superalloy_composition_design.csv' does not exist",
     "output_type": "error",
     "traceback": [
      "\u001b[1;31m---------------------------------------------------------------------------\u001b[0m",
      "\u001b[1;31mFileNotFoundError\u001b[0m                         Traceback (most recent call last)",
      "\u001b[1;32m<ipython-input-1-b55719190bdf>\u001b[0m in \u001b[0;36m<module>\u001b[1;34m()\u001b[0m\n\u001b[0;32m      1\u001b[0m \u001b[1;32mimport\u001b[0m \u001b[0mpandas\u001b[0m \u001b[1;32mas\u001b[0m \u001b[0mpd\u001b[0m\u001b[1;33m\u001b[0m\u001b[0m\n\u001b[0;32m      2\u001b[0m \u001b[1;32mimport\u001b[0m \u001b[0mnumpy\u001b[0m \u001b[1;32mas\u001b[0m \u001b[0mnp\u001b[0m\u001b[1;33m\u001b[0m\u001b[0m\n\u001b[1;32m----> 3\u001b[1;33m \u001b[0ms\u001b[0m\u001b[1;33m=\u001b[0m\u001b[0mpd\u001b[0m\u001b[1;33m.\u001b[0m\u001b[0mread_csv\u001b[0m\u001b[1;33m(\u001b[0m\u001b[1;34m\"Superalloy_composition_design.csv\"\u001b[0m\u001b[1;33m)\u001b[0m\u001b[1;31m#把读取数据\u001b[0m\u001b[1;33m\u001b[0m\u001b[0m\n\u001b[0m",
      "\u001b[1;32mC:\\ProgramData\\Anaconda3\\lib\\site-packages\\pandas\\io\\parsers.py\u001b[0m in \u001b[0;36mparser_f\u001b[1;34m(filepath_or_buffer, sep, delimiter, header, names, index_col, usecols, squeeze, prefix, mangle_dupe_cols, dtype, engine, converters, true_values, false_values, skipinitialspace, skiprows, nrows, na_values, keep_default_na, na_filter, verbose, skip_blank_lines, parse_dates, infer_datetime_format, keep_date_col, date_parser, dayfirst, iterator, chunksize, compression, thousands, decimal, lineterminator, quotechar, quoting, escapechar, comment, encoding, dialect, tupleize_cols, error_bad_lines, warn_bad_lines, skipfooter, doublequote, delim_whitespace, low_memory, memory_map, float_precision)\u001b[0m\n\u001b[0;32m    676\u001b[0m                     skip_blank_lines=skip_blank_lines)\n\u001b[0;32m    677\u001b[0m \u001b[1;33m\u001b[0m\u001b[0m\n\u001b[1;32m--> 678\u001b[1;33m         \u001b[1;32mreturn\u001b[0m \u001b[0m_read\u001b[0m\u001b[1;33m(\u001b[0m\u001b[0mfilepath_or_buffer\u001b[0m\u001b[1;33m,\u001b[0m \u001b[0mkwds\u001b[0m\u001b[1;33m)\u001b[0m\u001b[1;33m\u001b[0m\u001b[0m\n\u001b[0m\u001b[0;32m    679\u001b[0m \u001b[1;33m\u001b[0m\u001b[0m\n\u001b[0;32m    680\u001b[0m     \u001b[0mparser_f\u001b[0m\u001b[1;33m.\u001b[0m\u001b[0m__name__\u001b[0m \u001b[1;33m=\u001b[0m \u001b[0mname\u001b[0m\u001b[1;33m\u001b[0m\u001b[0m\n",
      "\u001b[1;32mC:\\ProgramData\\Anaconda3\\lib\\site-packages\\pandas\\io\\parsers.py\u001b[0m in \u001b[0;36m_read\u001b[1;34m(filepath_or_buffer, kwds)\u001b[0m\n\u001b[0;32m    438\u001b[0m \u001b[1;33m\u001b[0m\u001b[0m\n\u001b[0;32m    439\u001b[0m     \u001b[1;31m# Create the parser.\u001b[0m\u001b[1;33m\u001b[0m\u001b[1;33m\u001b[0m\u001b[0m\n\u001b[1;32m--> 440\u001b[1;33m     \u001b[0mparser\u001b[0m \u001b[1;33m=\u001b[0m \u001b[0mTextFileReader\u001b[0m\u001b[1;33m(\u001b[0m\u001b[0mfilepath_or_buffer\u001b[0m\u001b[1;33m,\u001b[0m \u001b[1;33m**\u001b[0m\u001b[0mkwds\u001b[0m\u001b[1;33m)\u001b[0m\u001b[1;33m\u001b[0m\u001b[0m\n\u001b[0m\u001b[0;32m    441\u001b[0m \u001b[1;33m\u001b[0m\u001b[0m\n\u001b[0;32m    442\u001b[0m     \u001b[1;32mif\u001b[0m \u001b[0mchunksize\u001b[0m \u001b[1;32mor\u001b[0m \u001b[0miterator\u001b[0m\u001b[1;33m:\u001b[0m\u001b[1;33m\u001b[0m\u001b[0m\n",
      "\u001b[1;32mC:\\ProgramData\\Anaconda3\\lib\\site-packages\\pandas\\io\\parsers.py\u001b[0m in \u001b[0;36m__init__\u001b[1;34m(self, f, engine, **kwds)\u001b[0m\n\u001b[0;32m    785\u001b[0m             \u001b[0mself\u001b[0m\u001b[1;33m.\u001b[0m\u001b[0moptions\u001b[0m\u001b[1;33m[\u001b[0m\u001b[1;34m'has_index_names'\u001b[0m\u001b[1;33m]\u001b[0m \u001b[1;33m=\u001b[0m \u001b[0mkwds\u001b[0m\u001b[1;33m[\u001b[0m\u001b[1;34m'has_index_names'\u001b[0m\u001b[1;33m]\u001b[0m\u001b[1;33m\u001b[0m\u001b[0m\n\u001b[0;32m    786\u001b[0m \u001b[1;33m\u001b[0m\u001b[0m\n\u001b[1;32m--> 787\u001b[1;33m         \u001b[0mself\u001b[0m\u001b[1;33m.\u001b[0m\u001b[0m_make_engine\u001b[0m\u001b[1;33m(\u001b[0m\u001b[0mself\u001b[0m\u001b[1;33m.\u001b[0m\u001b[0mengine\u001b[0m\u001b[1;33m)\u001b[0m\u001b[1;33m\u001b[0m\u001b[0m\n\u001b[0m\u001b[0;32m    788\u001b[0m \u001b[1;33m\u001b[0m\u001b[0m\n\u001b[0;32m    789\u001b[0m     \u001b[1;32mdef\u001b[0m \u001b[0mclose\u001b[0m\u001b[1;33m(\u001b[0m\u001b[0mself\u001b[0m\u001b[1;33m)\u001b[0m\u001b[1;33m:\u001b[0m\u001b[1;33m\u001b[0m\u001b[0m\n",
      "\u001b[1;32mC:\\ProgramData\\Anaconda3\\lib\\site-packages\\pandas\\io\\parsers.py\u001b[0m in \u001b[0;36m_make_engine\u001b[1;34m(self, engine)\u001b[0m\n\u001b[0;32m   1012\u001b[0m     \u001b[1;32mdef\u001b[0m \u001b[0m_make_engine\u001b[0m\u001b[1;33m(\u001b[0m\u001b[0mself\u001b[0m\u001b[1;33m,\u001b[0m \u001b[0mengine\u001b[0m\u001b[1;33m=\u001b[0m\u001b[1;34m'c'\u001b[0m\u001b[1;33m)\u001b[0m\u001b[1;33m:\u001b[0m\u001b[1;33m\u001b[0m\u001b[0m\n\u001b[0;32m   1013\u001b[0m         \u001b[1;32mif\u001b[0m \u001b[0mengine\u001b[0m \u001b[1;33m==\u001b[0m \u001b[1;34m'c'\u001b[0m\u001b[1;33m:\u001b[0m\u001b[1;33m\u001b[0m\u001b[0m\n\u001b[1;32m-> 1014\u001b[1;33m             \u001b[0mself\u001b[0m\u001b[1;33m.\u001b[0m\u001b[0m_engine\u001b[0m \u001b[1;33m=\u001b[0m \u001b[0mCParserWrapper\u001b[0m\u001b[1;33m(\u001b[0m\u001b[0mself\u001b[0m\u001b[1;33m.\u001b[0m\u001b[0mf\u001b[0m\u001b[1;33m,\u001b[0m \u001b[1;33m**\u001b[0m\u001b[0mself\u001b[0m\u001b[1;33m.\u001b[0m\u001b[0moptions\u001b[0m\u001b[1;33m)\u001b[0m\u001b[1;33m\u001b[0m\u001b[0m\n\u001b[0m\u001b[0;32m   1015\u001b[0m         \u001b[1;32melse\u001b[0m\u001b[1;33m:\u001b[0m\u001b[1;33m\u001b[0m\u001b[0m\n\u001b[0;32m   1016\u001b[0m             \u001b[1;32mif\u001b[0m \u001b[0mengine\u001b[0m \u001b[1;33m==\u001b[0m \u001b[1;34m'python'\u001b[0m\u001b[1;33m:\u001b[0m\u001b[1;33m\u001b[0m\u001b[0m\n",
      "\u001b[1;32mC:\\ProgramData\\Anaconda3\\lib\\site-packages\\pandas\\io\\parsers.py\u001b[0m in \u001b[0;36m__init__\u001b[1;34m(self, src, **kwds)\u001b[0m\n\u001b[0;32m   1706\u001b[0m         \u001b[0mkwds\u001b[0m\u001b[1;33m[\u001b[0m\u001b[1;34m'usecols'\u001b[0m\u001b[1;33m]\u001b[0m \u001b[1;33m=\u001b[0m \u001b[0mself\u001b[0m\u001b[1;33m.\u001b[0m\u001b[0musecols\u001b[0m\u001b[1;33m\u001b[0m\u001b[0m\n\u001b[0;32m   1707\u001b[0m \u001b[1;33m\u001b[0m\u001b[0m\n\u001b[1;32m-> 1708\u001b[1;33m         \u001b[0mself\u001b[0m\u001b[1;33m.\u001b[0m\u001b[0m_reader\u001b[0m \u001b[1;33m=\u001b[0m \u001b[0mparsers\u001b[0m\u001b[1;33m.\u001b[0m\u001b[0mTextReader\u001b[0m\u001b[1;33m(\u001b[0m\u001b[0msrc\u001b[0m\u001b[1;33m,\u001b[0m \u001b[1;33m**\u001b[0m\u001b[0mkwds\u001b[0m\u001b[1;33m)\u001b[0m\u001b[1;33m\u001b[0m\u001b[0m\n\u001b[0m\u001b[0;32m   1709\u001b[0m \u001b[1;33m\u001b[0m\u001b[0m\n\u001b[0;32m   1710\u001b[0m         \u001b[0mpassed_names\u001b[0m \u001b[1;33m=\u001b[0m \u001b[0mself\u001b[0m\u001b[1;33m.\u001b[0m\u001b[0mnames\u001b[0m \u001b[1;32mis\u001b[0m \u001b[1;32mNone\u001b[0m\u001b[1;33m\u001b[0m\u001b[0m\n",
      "\u001b[1;32mpandas\\_libs\\parsers.pyx\u001b[0m in \u001b[0;36mpandas._libs.parsers.TextReader.__cinit__\u001b[1;34m()\u001b[0m\n",
      "\u001b[1;32mpandas\\_libs\\parsers.pyx\u001b[0m in \u001b[0;36mpandas._libs.parsers.TextReader._setup_parser_source\u001b[1;34m()\u001b[0m\n",
      "\u001b[1;31mFileNotFoundError\u001b[0m: File b'Superalloy_composition_design.csv' does not exist"
     ]
    }
   ],
   "source": [
    "import pandas as pd\n",
    "import numpy as np\n"
   ]
  },
  {
   "cell_type": "code",
   "execution_count": null,
   "metadata": {},
   "outputs": [],
   "source": []
  }
 ],
 "metadata": {
  "kernelspec": {
   "display_name": "Python 3",
   "language": "python",
   "name": "python3"
  },
  "language_info": {
   "codemirror_mode": {
    "name": "ipython",
    "version": 3
   },
   "file_extension": ".py",
   "mimetype": "text/x-python",
   "name": "python",
   "nbconvert_exporter": "python",
   "pygments_lexer": "ipython3",
   "version": "3.7.0"
  },
  "widgets": {
   "application/vnd.jupyter.widget-state+json": {
    "state": {},
    "version_major": 2,
    "version_minor": 0
   }
  }
 },
 "nbformat": 4,
 "nbformat_minor": 2
}
